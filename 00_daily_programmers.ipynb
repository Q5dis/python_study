{
 "cells": [
  {
   "cell_type": "markdown",
   "id": "b3eb5ecb",
   "metadata": {},
   "source": [
    "# 매일 푸는 프로그래머스 문제 정리"
   ]
  },
  {
   "cell_type": "markdown",
   "id": "2422d548",
   "metadata": {},
   "source": [
    "#### >>> 2025.07.20"
   ]
  },
  {
   "cell_type": "code",
   "execution_count": 11,
   "id": "9d7ae8ee",
   "metadata": {},
   "outputs": [
    {
     "name": "stdout",
     "output_type": "stream",
     "text": [
      "1\n"
     ]
    }
   ],
   "source": [
    "# 나머지 구하기\n",
    "# https://school.programmers.co.kr/learn/courses/30/lessons/120810\t\n",
    "\n",
    "def solution(num1, num2):\n",
    "    answer = num1%num2\n",
    "    return answer\n",
    "print(solution(10,3))"
   ]
  },
  {
   "cell_type": "code",
   "execution_count": 12,
   "id": "12666094",
   "metadata": {},
   "outputs": [
    {
     "name": "stdout",
     "output_type": "stream",
     "text": [
      "5\n"
     ]
    }
   ],
   "source": [
    "# 두 수의 차 구하기\n",
    "# https://school.programmers.co.kr/learn/courses/30/lessons/120803\n",
    "\n",
    "def solution(num1, num2):\n",
    "    answer = num1-num2\n",
    "    return answer\n",
    "print(solution(10,5))"
   ]
  },
  {
   "cell_type": "code",
   "execution_count": 24,
   "id": "eb385462",
   "metadata": {},
   "outputs": [
    {
     "name": "stdout",
     "output_type": "stream",
     "text": [
      "-1\n"
     ]
    }
   ],
   "source": [
    "# 숫자 비교하기\n",
    "# https://school.programmers.co.kr/learn/courses/30/lessons/120807\n",
    "\n",
    "def solution(num1, num2):\n",
    "    answer=bool(num1==num2)\n",
    "    if int(answer)!=1:\n",
    "        return -1\n",
    "    return int(answer)\n",
    "\n",
    "print(solution(10,20))"
   ]
  },
  {
   "cell_type": "code",
   "execution_count": 23,
   "id": "966de970",
   "metadata": {},
   "outputs": [
    {
     "name": "stdout",
     "output_type": "stream",
     "text": [
      "2000\n"
     ]
    }
   ],
   "source": [
    "# 나이 구하기\n",
    "# https://school.programmers.co.kr/learn/courses/30/lessons/120820\n",
    "\n",
    "def solution(age):\n",
    "    answer = 2023-age\n",
    "    return answer\n",
    "\n",
    "print(solution(23))"
   ]
  },
  {
   "cell_type": "code",
   "execution_count": 25,
   "id": "0bbc0682",
   "metadata": {},
   "outputs": [
    {
     "name": "stdout",
     "output_type": "stream",
     "text": [
      "200\n"
     ]
    }
   ],
   "source": [
    "# 두 수의 곱 구하기\n",
    "# https://school.programmers.co.kr/learn/courses/30/lessons/120804\n",
    "\n",
    "def solution(num1, num2):\n",
    "    answer = num1*num2\n",
    "    return answer\n",
    "print(solution(10,20))"
   ]
  },
  {
   "cell_type": "markdown",
   "id": "6b429434",
   "metadata": {},
   "source": [
    "#### >>> 2025.07.21"
   ]
  },
  {
   "cell_type": "code",
   "execution_count": null,
   "id": "c4f894cb",
   "metadata": {},
   "outputs": [
    {
     "name": "stdout",
     "output_type": "stream",
     "text": [
      "False\n",
      "True\n",
      "True\n",
      "True\n"
     ]
    }
   ],
   "source": [
    "# 하샤드수 구하기\n",
    "# https://school.programmers.co.kr/learn/courses/30/lessons/12947\n",
    "\n",
    "def solution(n):\n",
    "    if n<=10000:\n",
    "        s=(n//10000)+((n%10000)//1000)+((n%1000)//100)+((n%100)//10)+((n%10)//1)\n",
    "        x=bool(n%s==0)\n",
    "    elif n<=1000:\n",
    "        s=(n//1000)+((n%1000)//100)+((n%100)//10)+((n%10)//1)\n",
    "        x=bool(n%s==0)\n",
    "    elif n<=100:\n",
    "        s=(n//100)+((n%100)//10)+((n%10)//1)\n",
    "        x=bool(n%s==0)\n",
    "    elif n<=10:\n",
    "        s=(n//10)+((n%10)//1)\n",
    "        x=bool(n%s==0)\n",
    "    else:\n",
    "        x=True\n",
    "    return x\n",
    "\n",
    "print(solution(1234))\n",
    "\n",
    "# 같은 기능 간결하게 개선\n",
    "def solution(n):\n",
    "    a=0\n",
    "    for x in str(n):\n",
    "        a=a+int(x)\n",
    "    return n%a==0\n",
    "\n",
    "print(solution(8))\n",
    "\n",
    "# 강사의 예시\n",
    "def solution(x):\n",
    "    result=sum(map(int,list(str(x))))\n",
    "    return x%result==0\n",
    "print(solution(8))\n",
    "\n",
    "# 더 더 짧게???\n",
    "def solution(x):\n",
    "    return x%sum(map(int,list(str(x))))==0\n",
    "print(solution(8))"
   ]
  },
  {
   "cell_type": "markdown",
   "id": "6c963d3d",
   "metadata": {},
   "source": [
    "#### >>> 2025.07.22"
   ]
  },
  {
   "cell_type": "code",
   "execution_count": 16,
   "id": "d5708edc",
   "metadata": {},
   "outputs": [
    {
     "name": "stdout",
     "output_type": "stream",
     "text": [
      "-1\n"
     ]
    }
   ],
   "source": [
    "# 콜라츠 추측\n",
    "# https://school.programmers.co.kr/learn/courses/30/lessons/12943\n",
    "def solution(num):\n",
    "    count=0\n",
    "    while True:\n",
    "        if num==1:\n",
    "            break\n",
    "        if num%2==0:\n",
    "            num/=2\n",
    "            count+=1\n",
    "            if num==1:\n",
    "                break\n",
    "        if num%2!=0:\n",
    "            num=(num*3)+1\n",
    "            count+=1\n",
    "            if num==1:\n",
    "                break\n",
    "    if count>=500:\n",
    "        count=-1\n",
    "    return count \n",
    "print(solution(9999999999999909))\n",
    "\n"
   ]
  },
  {
   "cell_type": "code",
   "execution_count": 18,
   "id": "b03dbd8d",
   "metadata": {},
   "outputs": [
    {
     "name": "stdout",
     "output_type": "stream",
     "text": [
      "5\n",
      "4\n",
      "3\n",
      "2\n",
      "1\n"
     ]
    }
   ],
   "source": [
    "num:5\n",
    "for i in range(10):\n",
    "    print(num)\n",
    "    num-=1\n",
    "    if num==0:\n",
    "        break\n"
   ]
  },
  {
   "cell_type": "code",
   "execution_count": 23,
   "id": "d8b465da",
   "metadata": {},
   "outputs": [
    {
     "name": "stdout",
     "output_type": "stream",
     "text": [
      "8\n"
     ]
    }
   ],
   "source": [
    "# 발견한 좋은 예제...조건을 잘 파악한데다 로직도 깔끔함, 읽기도 편해...\n",
    "\n",
    "def collatz(num):\n",
    "    for i in range(500):\n",
    "        num=num/2 if num%2==0 else num*3+1\n",
    "        if num==1:\n",
    "            return i+1\n",
    "    return -1\n",
    "print(solution(6))\n",
    "\n"
   ]
  },
  {
   "cell_type": "markdown",
   "id": "6bb36a03",
   "metadata": {},
   "source": [
    "#### >>>>2025.07.23"
   ]
  },
  {
   "cell_type": "code",
   "execution_count": null,
   "id": "e4d2445a",
   "metadata": {},
   "outputs": [
    {
     "name": "stdout",
     "output_type": "stream",
     "text": [
      "[2, 5, 3, 4, 1]\n"
     ]
    }
   ],
   "source": [
    "# 진료순서 정하기\n",
    "# https://school.programmers.co.kr/learn/courses/30/lessons/120835\n",
    "\n",
    "# 대 실 패, 강사의 예문코드\n",
    "\n",
    "def solution(emergency):\n",
    "    answer = []\n",
    "\n",
    "    sorted_list = sorted(emergency, reverse=True)\n",
    "\n",
    "    for e in emergency:\n",
    "        idx = sorted_list.index(e)+1 \n",
    "        answer.append(idx)\n",
    "    return answer\n",
    "\n",
    "\n",
    "# 어려웠던 이유? 단순 내림차순 정렬이 아니라 기존 인덱스 순서를 유지하며 새로 숫자를 부여한다는게 어려웠음\n",
    "# 문제도 익숙하지 않았고, 문제해결능력, 수리력, 논리력이 딸려서 기본 로직을 구상하는데도 어려웠다.\n",
    "# 꾸준히 푸는게 중요할 것 같습니다."
   ]
  },
  {
   "cell_type": "code",
   "execution_count": null,
   "id": "834c15b4",
   "metadata": {},
   "outputs": [
    {
     "name": "stdout",
     "output_type": "stream",
     "text": [
      "<class 'list'>\n"
     ]
    }
   ],
   "source": [
    "# 호텔 방 배정\n",
    "# https://school.programmers.co.kr/learn/courses/30/lessons/64063\n",
    "\n",
    "def solution(k, room_number):\n",
    "    kroom=[]\n",
    "    answer = []\n",
    "    return answer"
   ]
  },
  {
   "cell_type": "markdown",
   "id": "85aca94f",
   "metadata": {},
   "source": [
    "#### >>>>2025.07.24"
   ]
  },
  {
   "cell_type": "code",
   "execution_count": null,
   "id": "4373b000",
   "metadata": {},
   "outputs": [
    {
     "name": "stdout",
     "output_type": "stream",
     "text": [
      "['1', '2', 'Z', '3']\n",
      "4\n"
     ]
    }
   ],
   "source": [
    "# 컨트롤 제트\n",
    "# https://school.programmers.co.kr/learn/courses/30/lessons/120853\n",
    "\n",
    "def solution(s):\n",
    "    a=s.split()\n",
    "    print(a)\n",
    "    answer = 0\n",
    "    for i in range(len(a)):\n",
    "        if a[i]==\"Z\":\n",
    "            answer-=int(a[i-1])\n",
    "        else:\n",
    "            answer+=int(a[i])\n",
    "    return answer\n",
    "\n",
    "print(solution(\"1 2 Z 3\"))\n",
    "\n",
    "\n",
    "# enumerate 함수: 인덱스, 값 쌍을 생성한다 \n"
   ]
  },
  {
   "cell_type": "code",
   "execution_count": 37,
   "id": "91f91e86",
   "metadata": {},
   "outputs": [
    {
     "name": "stdout",
     "output_type": "stream",
     "text": [
      "4\n"
     ]
    }
   ],
   "source": [
    "def solution(a):\n",
    "    answer = []\n",
    "    for i in list(a.split()):\n",
    "        if i == \"Z\":\n",
    "            answer.pop()\n",
    "        else:\n",
    "            answer.append(int(i))  # 정수로 변환하여 추가\n",
    "    return sum(answer)  # for문 밖에서 결과 반환\n",
    "\n",
    "print(solution(\"1 2 Z 3\"))\n"
   ]
  },
  {
   "cell_type": "markdown",
   "id": "8a1ce161",
   "metadata": {},
   "source": [
    "#### >>>>2025.07.25"
   ]
  },
  {
   "cell_type": "code",
   "execution_count": 36,
   "id": "66d1bb0b",
   "metadata": {},
   "outputs": [
    {
     "data": {
      "text/plain": [
       "10"
      ]
     },
     "execution_count": 36,
     "metadata": {},
     "output_type": "execute_result"
    }
   ],
   "source": [
    "# 팩토리얼 문제\n",
    "# https://school.programmers.co.kr/learn/courses/30/lessons/120848?language=python3     \n",
    "\n",
    "def solution(n):\n",
    "    f=1 \n",
    "    for i in range(1,11):\n",
    "        f*=i \n",
    "        if f>n:\n",
    "            i-=1\n",
    "            break \n",
    "    return i\n",
    "\n",
    "solution(1000000099000)\n"
   ]
  },
  {
   "cell_type": "code",
   "execution_count": null,
   "id": "323a8b03",
   "metadata": {},
   "outputs": [],
   "source": []
  },
  {
   "cell_type": "code",
   "execution_count": null,
   "id": "ae90c1f9",
   "metadata": {},
   "outputs": [
    {
     "name": "stdout",
     "output_type": "stream",
     "text": [
      "3\n"
     ]
    }
   ],
   "source": []
  },
  {
   "cell_type": "code",
   "execution_count": 13,
   "id": "e07a4e1a",
   "metadata": {},
   "outputs": [
    {
     "name": "stdout",
     "output_type": "stream",
     "text": [
      "[1, 4, 2, 3]\n"
     ]
    }
   ],
   "source": [
    "def solution(*args):\n",
    "    s=list(args) # 리스트화\n",
    "    n=sorted(s, reverse=True) # 숫자 큰거부터 정렬\n",
    "    rank_map = {value: idx + 1 for idx, value in enumerate(n)}\n",
    "    result = [rank_map[x] for x in s]\n",
    "    \n",
    "    return result\n",
    "\n",
    "    \n",
    "    \n",
    "\n",
    "print(solution(100,5,69,40))"
   ]
  },
  {
   "cell_type": "code",
   "execution_count": 32,
   "id": "40cd0669",
   "metadata": {},
   "outputs": [
    {
     "name": "stdout",
     "output_type": "stream",
     "text": [
      "[1, 4, 2, 3]\n"
     ]
    }
   ],
   "source": [
    "def solution(*args):\n",
    "    l = list(args)\n",
    "    n = sorted(l, reverse=True)\n",
    "    rank = {v: i+1 for i, v in enumerate(n)}\n",
    "    return [rank[x] for x in l]\n",
    "\n",
    "print(solution(100, 5, 69, 40))  # [1, 4, 2, 3]\n"
   ]
  },
  {
   "cell_type": "code",
   "execution_count": null,
   "id": "00ce5a1a",
   "metadata": {},
   "outputs": [],
   "source": []
  },
  {
   "cell_type": "code",
   "execution_count": null,
   "id": "2bcffe13",
   "metadata": {},
   "outputs": [],
   "source": [
    "def solution(*args):\n",
    "    l = list(args)\n",
    "    s = list(range(1, len(args) + 1))\n",
    "    n = sorted(s, reverse=True)\n",
    "    m = 1\n",
    "    while s:\n",
    "        for i in range(len(s)-1, -1, -1):  # 리스트 pop할 때 역순으로 돌기\n",
    "            if s[i] == n[i]:\n",
    "                s.pop(i)           # s[i].pop() → s.pop(i)\n",
    "                n[i] = m           # 비교연산자 == → 대입연산자 =\n",
    "                m += 1\n",
    "    return n\n",
    "\n",
    "print(solution(100, 5, 69, 40))\n"
   ]
  },
  {
   "cell_type": "code",
   "execution_count": 29,
   "id": "10ee03a8",
   "metadata": {},
   "outputs": [
    {
     "ename": "TypeError",
     "evalue": "'tuple' object cannot be interpreted as an integer",
     "output_type": "error",
     "traceback": [
      "\u001b[31m---------------------------------------------------------------------------\u001b[39m",
      "\u001b[31mTypeError\u001b[39m                                 Traceback (most recent call last)",
      "\u001b[36mCell\u001b[39m\u001b[36m \u001b[39m\u001b[32mIn[29]\u001b[39m\u001b[32m, line 13\u001b[39m\n\u001b[32m     11\u001b[39m             s-=\u001b[32m1\u001b[39m\n\u001b[32m     12\u001b[39m     \u001b[38;5;28;01mreturn\u001b[39;00m n\n\u001b[32m---> \u001b[39m\u001b[32m13\u001b[39m \u001b[38;5;28mprint\u001b[39m(\u001b[43msolution\u001b[49m\u001b[43m(\u001b[49m\u001b[32;43m100\u001b[39;49m\u001b[43m,\u001b[49m\u001b[43m \u001b[49m\u001b[32;43m5\u001b[39;49m\u001b[43m,\u001b[49m\u001b[43m \u001b[49m\u001b[32;43m69\u001b[39;49m\u001b[43m,\u001b[49m\u001b[43m \u001b[49m\u001b[32;43m40\u001b[39;49m\u001b[43m)\u001b[49m) \n",
      "\u001b[36mCell\u001b[39m\u001b[36m \u001b[39m\u001b[32mIn[29]\u001b[39m\u001b[32m, line 3\u001b[39m, in \u001b[36msolution\u001b[39m\u001b[34m(*args)\u001b[39m\n\u001b[32m      1\u001b[39m \u001b[38;5;28;01mdef\u001b[39;00m\u001b[38;5;250m \u001b[39m\u001b[34msolution\u001b[39m(*args):\n\u001b[32m      2\u001b[39m     l = \u001b[38;5;28mlist\u001b[39m(args) \u001b[38;5;66;03m# 리스트 화 시킨, 입력받은 정수들\u001b[39;00m\n\u001b[32m----> \u001b[39m\u001b[32m3\u001b[39m     s = \u001b[38;5;28;43mrange\u001b[39;49m\u001b[43m(\u001b[49m\u001b[43margs\u001b[49m\u001b[43m)\u001b[49m\n\u001b[32m      4\u001b[39m     j = \u001b[38;5;28mlist\u001b[39m(\u001b[38;5;28mrange\u001b[39m(args))\n\u001b[32m      5\u001b[39m     n = \u001b[38;5;28msorted\u001b[39m(s, reverse=\u001b[38;5;28;01mTrue\u001b[39;00m) \u001b[38;5;66;03m# 응급도 급한 순으로 정렬한 리스트\u001b[39;00m\n",
      "\u001b[31mTypeError\u001b[39m: 'tuple' object cannot be interpreted as an integer"
     ]
    }
   ],
   "source": [
    "def solution(*args):\n",
    "    l = list(args) # 리스트 화 시킨, 입력받은 정수들\n",
    "    s = range(args)\n",
    "    j = list(range(args))\n",
    "    n = sorted(s, reverse=True) # 응급도 급한 순으로 정렬한 리스트\n",
    "    m = 0\n",
    "    for i in s:\n",
    "        if l[m]==n[i]:\n",
    "            n[i]=l[m]\n",
    "            m+=1\n",
    "            s-=1\n",
    "    return n\n",
    "print(solution(100, 5, 69, 40)) "
   ]
  },
  {
   "cell_type": "code",
   "execution_count": 31,
   "id": "b92b0262",
   "metadata": {},
   "outputs": [
    {
     "name": "stdout",
     "output_type": "stream",
     "text": [
      "[1, 4, 2, 3]\n"
     ]
    }
   ],
   "source": [
    "def solution(*args):\n",
    "    l = list(args)\n",
    "    n = sorted(l, reverse=True)\n",
    "    rank = {}\n",
    "    for i, v in enumerate(n):\n",
    "        if v not in rank:\n",
    "            rank[v] = i+1\n",
    "    return [rank[x] for x in l]\n",
    "\n",
    "print(solution(100, 5, 69, 40))  # [1, 4, 2, 3]\n"
   ]
  },
  {
   "cell_type": "code",
   "execution_count": null,
   "id": "37dc293c",
   "metadata": {},
   "outputs": [
    {
     "name": "stdout",
     "output_type": "stream",
     "text": [
      "[2, 5, 3, 4, 1]\n"
     ]
    }
   ],
   "source": [
    "def solution(*args):\n",
    "    l = list(args) # 기존 리스트\n",
    "    r = list(args) # 복제 리스트(순위 저장용)\n",
    "    n = sorted(l, reverse=True) # 내림차순 정렬 리스트\n",
    "    rank = 1\n",
    "    for value in n: # 내림차순 값을 value에 저장\n",
    "        idx = l.index(value) # 기존 리스트에서 현재 value값과 동일한 인덱스 번호를 idx에 저장\n",
    "        r[idx] = rank # 복제 리스트에 순위 1순위 저장\n",
    "        rank += 1 # 다음 순위를 저장할 수 있도록 rank 값 증가\n",
    "\n",
    "    return r\n",
    "\n",
    "print(solution(100, 5, 69, 40,999))"
   ]
  },
  {
   "cell_type": "code",
   "execution_count": null,
   "id": "3078e338",
   "metadata": {},
   "outputs": [
    {
     "name": "stdout",
     "output_type": "stream",
     "text": [
      "[2, 5, 3, 4, 1]\n"
     ]
    }
   ],
   "source": [
    "def solution(*args):\n",
    "    l = list(args) # 기존 리스트\n",
    "    n = sorted(l, reverse=True) # 내림차순 정렬 리스트\n",
    "    rank = 1\n",
    "    for value in n: # 내림차순 값을 value에 저장\n",
    "        idx = l.index(value) # 기존 리스트에서 현재 value값과 동일한 인덱스 번호를 idx에 저장\n",
    "        l[idx] = rank # 리스트에 순위 1순위 저장\n",
    "        rank += 1 # 다음 순위를 저장할 수 있도록 rank 값 증가\n",
    "\n",
    "    return l\n",
    "\n",
    "print(solution(100, 5, 69, 40,999))"
   ]
  },
  {
   "cell_type": "code",
   "execution_count": 47,
   "id": "524813b2",
   "metadata": {},
   "outputs": [
    {
     "name": "stdout",
     "output_type": "stream",
     "text": [
      "[3, 1, 2]\n",
      "[7, 6, 5, 4, 3, 2, 1]\n",
      "[2, 4, 3, 5, 1]\n"
     ]
    }
   ],
   "source": [
    "def solution(emergency):  # 매개변수 수정\n",
    "    l = emergency[:]  # 기존 리스트 복사\n",
    "    n = sorted(l, reverse=True)  # 원본을 정렬 (l이 아닌 emergency 사용)\n",
    "    rank = 1\n",
    "    \n",
    "    for value in n:  # 내림차순 값을 value에 저장\n",
    "        idx = emergency.index(value)  # 원본에서 인덱스 찾기\n",
    "        l[idx] = rank  # l에 직접 순위 저장\n",
    "        emergency[idx] = None  # 원본에서 찾은 값은 None으로 변경 (중복 방지)\n",
    "        rank += 1  # 다음 순위를 저장할 수 있도록 rank 값 증가\n",
    "    \n",
    "    return l\n",
    "\n",
    "# 테스트\n",
    "print(solution([3, 76, 24]))      # [3, 1, 2]\n",
    "print(solution([1, 2, 3, 4, 5, 6, 7]))  # [7, 6, 5, 4, 3, 2, 1]\n",
    "print(solution([30, 10, 23, 6, 100]))   # [2, 4, 3, 5, 1]"
   ]
  },
  {
   "cell_type": "markdown",
   "id": "33774cd9",
   "metadata": {},
   "source": [
    "#### >>>> 2025.07.28"
   ]
  },
  {
   "cell_type": "code",
   "execution_count": 3,
   "id": "02444e08",
   "metadata": {},
   "outputs": [
    {
     "name": "stdout",
     "output_type": "stream",
     "text": [
      "10\n"
     ]
    }
   ],
   "source": [
    "# 부족한 금액 계산하기\n",
    "# https://school.programmers.co.kr/learn/courses/30/lessons/82612\n",
    "\n",
    "def solution(price, money, count):\n",
    "    p =0\n",
    "    j =0\n",
    "    for i in range(count+1):\n",
    "        p=price*i\n",
    "        j=p+j\n",
    "    if j<=money:\n",
    "        return 0\n",
    "    else:\n",
    "        return j-money\n",
    "\n",
    "print(solution(3,20,4))"
   ]
  },
  {
   "cell_type": "code",
   "execution_count": 6,
   "id": "e694d105",
   "metadata": {},
   "outputs": [
    {
     "name": "stdout",
     "output_type": "stream",
     "text": [
      "10\n"
     ]
    }
   ],
   "source": [
    "# 강사의 예문\n",
    "# 부족한 금액 계산하기\n",
    "# https://school.programmers.co.kr/learn/courses/30/lessons/82612\n",
    "\n",
    "\n",
    "def solution(price, money, count):\n",
    "    return max(0, int(count*(price+price*count)/2)-money)\n",
    "    # 0과 뒤의 식을 비교해서 더 큰 값을 반환.\n",
    "    # 즉 음수로 내려가면 자동으로 0을 리턴한다\n",
    "\n",
    "print(solution(3,20,4))\n"
   ]
  },
  {
   "cell_type": "code",
   "execution_count": null,
   "id": "fb70e6cf",
   "metadata": {},
   "outputs": [],
   "source": []
  }
 ],
 "metadata": {
  "kernelspec": {
   "display_name": ".venv",
   "language": "python",
   "name": "python3"
  },
  "language_info": {
   "codemirror_mode": {
    "name": "ipython",
    "version": 3
   },
   "file_extension": ".py",
   "mimetype": "text/x-python",
   "name": "python",
   "nbconvert_exporter": "python",
   "pygments_lexer": "ipython3",
   "version": "3.13.5"
  }
 },
 "nbformat": 4,
 "nbformat_minor": 5
}
