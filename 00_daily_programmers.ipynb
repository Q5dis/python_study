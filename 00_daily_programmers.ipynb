{
 "cells": [
  {
   "cell_type": "markdown",
   "id": "b3eb5ecb",
   "metadata": {},
   "source": [
    "# 매일 푸는 프로그래머스 문제 정리"
   ]
  },
  {
   "cell_type": "markdown",
   "id": "2422d548",
   "metadata": {},
   "source": [
    "2025.07.20"
   ]
  },
  {
   "cell_type": "code",
   "execution_count": 11,
   "id": "9d7ae8ee",
   "metadata": {},
   "outputs": [
    {
     "name": "stdout",
     "output_type": "stream",
     "text": [
      "1\n"
     ]
    }
   ],
   "source": [
    "# 나머지 구하기\n",
    "# https://school.programmers.co.kr/learn/courses/30/lessons/120810\t\n",
    "\n",
    "def solution(num1, num2):\n",
    "    answer = num1%num2\n",
    "    return answer\n",
    "print(solution(10,3))"
   ]
  },
  {
   "cell_type": "code",
   "execution_count": 12,
   "id": "12666094",
   "metadata": {},
   "outputs": [
    {
     "name": "stdout",
     "output_type": "stream",
     "text": [
      "5\n"
     ]
    }
   ],
   "source": [
    "# 두 수의 차 구하기\n",
    "# https://school.programmers.co.kr/learn/courses/30/lessons/120803\n",
    "\n",
    "def solution(num1, num2):\n",
    "    answer = num1-num2\n",
    "    return answer\n",
    "print(solution(10,5))"
   ]
  },
  {
   "cell_type": "code",
   "execution_count": 24,
   "id": "eb385462",
   "metadata": {},
   "outputs": [
    {
     "name": "stdout",
     "output_type": "stream",
     "text": [
      "-1\n"
     ]
    }
   ],
   "source": [
    "# 숫자 비교하기\n",
    "# https://school.programmers.co.kr/learn/courses/30/lessons/120807\n",
    "\n",
    "def solution(num1, num2):\n",
    "    answer=bool(num1==num2)\n",
    "    if int(answer)!=1:\n",
    "        return -1\n",
    "    return int(answer)\n",
    "\n",
    "print(solution(10,20))"
   ]
  },
  {
   "cell_type": "code",
   "execution_count": 23,
   "id": "966de970",
   "metadata": {},
   "outputs": [
    {
     "name": "stdout",
     "output_type": "stream",
     "text": [
      "2000\n"
     ]
    }
   ],
   "source": [
    "# 나이 구하기\n",
    "# https://school.programmers.co.kr/learn/courses/30/lessons/120820\n",
    "\n",
    "def solution(age):\n",
    "    answer = 2023-age\n",
    "    return answer\n",
    "\n",
    "print(solution(23))"
   ]
  },
  {
   "cell_type": "code",
   "execution_count": null,
   "id": "0bbc0682",
   "metadata": {},
   "outputs": [],
   "source": []
  }
 ],
 "metadata": {
  "kernelspec": {
   "display_name": ".venv",
   "language": "python",
   "name": "python3"
  },
  "language_info": {
   "codemirror_mode": {
    "name": "ipython",
    "version": 3
   },
   "file_extension": ".py",
   "mimetype": "text/x-python",
   "name": "python",
   "nbconvert_exporter": "python",
   "pygments_lexer": "ipython3",
   "version": "3.13.5"
  }
 },
 "nbformat": 4,
 "nbformat_minor": 5
}
