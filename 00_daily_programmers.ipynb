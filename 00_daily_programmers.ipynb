{
 "cells": [
  {
   "cell_type": "markdown",
   "id": "b3eb5ecb",
   "metadata": {},
   "source": [
    "# 매일 푸는 프로그래머스 문제 정리"
   ]
  },
  {
   "cell_type": "markdown",
   "id": "2422d548",
   "metadata": {},
   "source": [
    "2025.07.20"
   ]
  },
  {
   "cell_type": "code",
   "execution_count": 11,
   "id": "9d7ae8ee",
   "metadata": {},
   "outputs": [
    {
     "name": "stdout",
     "output_type": "stream",
     "text": [
      "1\n"
     ]
    }
   ],
   "source": [
    "# 나머지 구하기\n",
    "# https://school.programmers.co.kr/learn/courses/30/lessons/120810\t\n",
    "\n",
    "def solution(num1, num2):\n",
    "    answer = num1%num2\n",
    "    return answer\n",
    "print(solution(10,3))"
   ]
  },
  {
   "cell_type": "code",
   "execution_count": 12,
   "id": "12666094",
   "metadata": {},
   "outputs": [
    {
     "name": "stdout",
     "output_type": "stream",
     "text": [
      "5\n"
     ]
    }
   ],
   "source": [
    "# 두 수의 차 구하기\n",
    "# https://school.programmers.co.kr/learn/courses/30/lessons/120803\n",
    "\n",
    "def solution(num1, num2):\n",
    "    answer = num1-num2\n",
    "    return answer\n",
    "print(solution(10,5))"
   ]
  },
  {
   "cell_type": "code",
   "execution_count": 24,
   "id": "eb385462",
   "metadata": {},
   "outputs": [
    {
     "name": "stdout",
     "output_type": "stream",
     "text": [
      "-1\n"
     ]
    }
   ],
   "source": [
    "# 숫자 비교하기\n",
    "# https://school.programmers.co.kr/learn/courses/30/lessons/120807\n",
    "\n",
    "def solution(num1, num2):\n",
    "    answer=bool(num1==num2)\n",
    "    if int(answer)!=1:\n",
    "        return -1\n",
    "    return int(answer)\n",
    "\n",
    "print(solution(10,20))"
   ]
  },
  {
   "cell_type": "code",
   "execution_count": 23,
   "id": "966de970",
   "metadata": {},
   "outputs": [
    {
     "name": "stdout",
     "output_type": "stream",
     "text": [
      "2000\n"
     ]
    }
   ],
   "source": [
    "# 나이 구하기\n",
    "# https://school.programmers.co.kr/learn/courses/30/lessons/120820\n",
    "\n",
    "def solution(age):\n",
    "    answer = 2023-age\n",
    "    return answer\n",
    "\n",
    "print(solution(23))"
   ]
  },
  {
   "cell_type": "code",
   "execution_count": 25,
   "id": "0bbc0682",
   "metadata": {},
   "outputs": [
    {
     "name": "stdout",
     "output_type": "stream",
     "text": [
      "200\n"
     ]
    }
   ],
   "source": [
    "# 두 수의 곱 구하기\n",
    "# https://school.programmers.co.kr/learn/courses/30/lessons/120804\n",
    "\n",
    "def solution(num1, num2):\n",
    "    answer = num1*num2\n",
    "    return answer\n",
    "print(solution(10,20))"
   ]
  },
  {
   "cell_type": "markdown",
   "id": "6b429434",
   "metadata": {},
   "source": [
    "2025.07.21"
   ]
  },
  {
   "cell_type": "code",
   "execution_count": null,
   "id": "c4f894cb",
   "metadata": {},
   "outputs": [
    {
     "name": "stdout",
     "output_type": "stream",
     "text": [
      "False\n",
      "True\n",
      "True\n",
      "True\n"
     ]
    }
   ],
   "source": [
    "# 하샤드수 구하기\n",
    "# https://school.programmers.co.kr/learn/courses/30/lessons/12947\n",
    "\n",
    "def solution(n):\n",
    "    if n<=10000:\n",
    "        s=(n//10000)+((n%10000)//1000)+((n%1000)//100)+((n%100)//10)+((n%10)//1)\n",
    "        x=bool(n%s==0)\n",
    "    elif n<=1000:\n",
    "        s=(n//1000)+((n%1000)//100)+((n%100)//10)+((n%10)//1)\n",
    "        x=bool(n%s==0)\n",
    "    elif n<=100:\n",
    "        s=(n//100)+((n%100)//10)+((n%10)//1)\n",
    "        x=bool(n%s==0)\n",
    "    elif n<=10:\n",
    "        s=(n//10)+((n%10)//1)\n",
    "        x=bool(n%s==0)\n",
    "    else:\n",
    "        x=True\n",
    "    return x\n",
    "\n",
    "print(solution(1234))\n",
    "\n",
    "# 같은 기능 간결하게 개선\n",
    "def solution(n):\n",
    "    a=0\n",
    "    for x in str(n):\n",
    "        a=a+int(x)\n",
    "    return n%a==0\n",
    "\n",
    "print(solution(8))\n",
    "\n",
    "# 강사의 예시\n",
    "def solution(x):\n",
    "    result=sum(map(int,list(str(x))))\n",
    "    return x%result==0\n",
    "print(solution(8))\n",
    "\n",
    "# 더 더 짧게???\n",
    "def solution(x):\n",
    "    return x%sum(map(int,list(str(x))))==0\n",
    "print(solution(8))"
   ]
  },
  {
   "cell_type": "markdown",
   "id": "e0ecef66",
   "metadata": {},
   "source": []
  }
 ],
 "metadata": {
  "kernelspec": {
   "display_name": ".venv",
   "language": "python",
   "name": "python3"
  },
  "language_info": {
   "codemirror_mode": {
    "name": "ipython",
    "version": 3
   },
   "file_extension": ".py",
   "mimetype": "text/x-python",
   "name": "python",
   "nbconvert_exporter": "python",
   "pygments_lexer": "ipython3",
   "version": "3.13.5"
  }
 },
 "nbformat": 4,
 "nbformat_minor": 5
}
