{
 "cells": [
  {
   "cell_type": "markdown",
   "id": "db66ced7",
   "metadata": {},
   "source": [
    "# 딕셔너리\n",
    "\n",
    "키와 값을 쌍으로 묶어 데이터를 저장하는 자료형\n",
    "키는 무조건 불변자료형, 가변자료형을 사용할 수 없다. 순서가 보장된다."
   ]
  },
  {
   "cell_type": "code",
   "execution_count": null,
   "id": "780f4e19",
   "metadata": {},
   "outputs": [
    {
     "name": "stdout",
     "output_type": "stream",
     "text": [
      "{'name': 'susan', 'age': '3000'}\n",
      "<class 'dict'>\n",
      "{'title': 'happy movie', 'director': 'joy director'}\n"
     ]
    }
   ],
   "source": [
    "# 빈 딕셔너리 만들기\n",
    "dic1={}\n",
    "\n",
    "person={\"name\":\"susan\",\"age\":\"3000\"}\n",
    "print(person)\n",
    "\n",
    "# 함수로 생성\n",
    "dic2=dict()\n",
    "print(type(dic2))\n",
    "\n",
    "movie=dict(title=\"happy movie\", director=\"joy director\")\n",
    "print(movie)"
   ]
  },
  {
   "cell_type": "code",
   "execution_count": null,
   "id": "e058ce00",
   "metadata": {},
   "outputs": [
    {
     "name": "stdout",
     "output_type": "stream",
     "text": [
      "{'name': 'susan', 'age': '3000', 'job': 'curator of the sands'}\n",
      "susan\n",
      "susan\n",
      "이메일 항목 없음\n"
     ]
    }
   ],
   "source": [
    "# 리스트나 튜플로 만들기\n",
    "\n",
    "pairs=[(\"name\",\"susan\"),(\"age\",\"3000\"),(\"job\",\"curator of the sands\")]\n",
    "person=dict(pairs)\n",
    "print(person)\n",
    "\n",
    "# 키를 통해 값에 접근.\n",
    "print(person[\"name\"])\n",
    "\n",
    "# get 메서드를 활용해서 조회\n",
    "print(person.get(\"name\"))\n",
    "print(person.get(\"email\",\"이메일 항목 없음\")) # email 항목이 없으면 없음을 출력하도록\n",
    "\n"
   ]
  },
  {
   "cell_type": "code",
   "execution_count": 25,
   "id": "c6ec3bbf",
   "metadata": {},
   "outputs": [
    {
     "name": "stdout",
     "output_type": "stream",
     "text": [
      "[('title', 'happy movie'), ('director', 'joy director'), ('year', '5904')]\n"
     ]
    }
   ],
   "source": [
    "# zip 함수 활용\n",
    "\n",
    "keys=[\"title\",\"director\",\"year\"]\n",
    "values=[\"happy movie\",\"joy director\",\"5904\"]\n",
    "\n",
    "movies=list(zip(keys,values))\n",
    "# 인덱스가 같은 것 끼리 모아준다.\n",
    "print(movies)\n",
    "\n",
    "# 키 가능한 불변자료형의 예...\n",
    "d1={(1,2,3):(4,5,6)}\n",
    "d2={1:10}\n",
    "d3={\"woah mama\":\"alvis\"}\n",
    "\n",
    "\n",
    "# 셋, 리스트 사용불가능 "
   ]
  },
  {
   "cell_type": "code",
   "execution_count": 51,
   "id": "55b690d3",
   "metadata": {},
   "outputs": [
    {
     "name": "stdout",
     "output_type": "stream",
     "text": [
      "존재하지 않는 데이터 입니다.\n",
      "{'아이디': 'susan', '이메일': 'nasus@league.com', '비밀번호': 'ineedstack12', '닉네임': 'nasus'}\n",
      "{'아이디': 'stack king', '이메일': 'nasus@league.com', '비밀번호': 'ineedstack12', '닉네임': 'nasus'}\n",
      "키 ['아이디', '이메일', '비밀번호', '닉네임']\n"
     ]
    }
   ],
   "source": [
    "user_data={\n",
    "    \"아이디\":\"susan\",\n",
    "    \"이메일\":\"nasus@league.com\",\n",
    "    \"비밀번호\":\"ineedstack12\"\n",
    "}\n",
    "\n",
    "key=input(\"조회할 정보를 입력: \") # 유저로부터 조회할 키를 입력받다\n",
    "result=user_data.get(key,\"존재하지 않는 데이터 입니다.\") # 결과값에 유저데이터를 입력받은 키값으로 가져와서 올바르면 결과를, 아니면 오류문구를 출력\n",
    "print(result)\n",
    "\n",
    "#데이터 추가하기\n",
    "user_data[\"닉네임\"]=\"nasus\"\n",
    "print(user_data)\n",
    "# 유저데이터에 닉네임 이라는 키-값 데이터 한 쌍을 생성\n",
    "user_data[\"아이디\"]=\"stack king\"\n",
    "print(user_data)\n",
    "\n",
    "print(\"키\",list(user_data.keys()))"
   ]
  },
  {
   "cell_type": "code",
   "execution_count": null,
   "id": "e0d37669",
   "metadata": {},
   "outputs": [
    {
     "name": "stdout",
     "output_type": "stream",
     "text": [
      "{'title': 'happy movie', 'director': 'joy director', 'rating': '4.0/5.0', 'year': 1948} ('제작사', '해피배급사')\n",
      "{}\n"
     ]
    }
   ],
   "source": [
    "movie_data={\n",
    "    \"title\":\"happy movie\",\n",
    "    \"director\":\"joy director\"\n",
    "}\n",
    "\n",
    "# 데이터 업데이트의 예시1\n",
    "movie_data.update({\n",
    "    \"rating\":3,\n",
    "    \"year\":1948\n",
    "})\n",
    "# 예시2\n",
    "movie_data.update(actor=\"keanu reeves\")\n",
    "\n",
    "# 예시3\n",
    "extra_data= {\"rating\":\"4.0/5.0\", \"actor\":\"이문세\"} # actor를 이문세로 변경\n",
    "movie_data.update(extra_data)\n",
    "\n",
    "# 키가 있다면 추가하지 않고, 없다면 키와 값을 추가 \n",
    "movie_data.setdefault(\"year\",\"알수없음\")\n",
    "movie_data.setdefault(\"제작사\",\"해피배급사\")\n",
    "\n",
    "# 데이터 삭제는 키값으로 진행한다.\n",
    "del movie_data[\"actor\"]\n",
    "\n",
    "# pop으로 지운 값을 rating에 저장. 그냥 pop 단일사용은 불가. popitem을 사용시 맨 마지막 요소가 나옴\n",
    "rating=movie_data.popitem()\n",
    "\n",
    "print(movie_data,rating)\n",
    "\n",
    "\n",
    "# 내부 데이터 지우기\n",
    "movie_data.clear()\n",
    "print(movie_data)\n",
    "\n",
    "# 아예 삭제하는 법\n",
    "del movie_data # 출력하려 시도 시 Nameerror 출력"
   ]
  },
  {
   "cell_type": "code",
   "execution_count": 53,
   "id": "58edba7d",
   "metadata": {},
   "outputs": [
    {
     "name": "stdout",
     "output_type": "stream",
     "text": [
      "키 ['아이디', '이메일', '비밀번호']\n",
      "값 ['nasus', 'nasus@league.com', 'ineedstack12']\n",
      "모든 키+값 [('아이디', 'nasus'), ('이메일', 'nasus@league.com'), ('비밀번호', 'ineedstack12')]\n"
     ]
    }
   ],
   "source": [
    "user_data={\n",
    "    \"아이디\":\"nasus\",\n",
    "    \"이메일\":\"nasus@league.com\",\n",
    "    \"비밀번호\":\"ineedstack12\"\n",
    "}\n",
    "\n",
    "\n",
    "print(\"키\",list(user_data.keys()))\n",
    "print(\"값\",list(user_data.values()))\n",
    "print(\"모든 키+값\",list(user_data.items()))"
   ]
  },
  {
   "cell_type": "code",
   "execution_count": 77,
   "id": "61a7b5f4",
   "metadata": {},
   "outputs": [
    {
     "name": "stdout",
     "output_type": "stream",
     "text": [
      "{'username': 'skywalker', 'level': 6, 'nickname': 'sky', 'signup_data': '2025-07-10'} 미입력\n"
     ]
    }
   ],
   "source": [
    "# 실습 1\n",
    "user=dict() #빈 딕셔너리\n",
    "user.update(\n",
    "    username=\"skywalker\",\n",
    "    email=\"sky@example.com\", # 기본 데이터 입력\n",
    "    level=5\n",
    ") \n",
    "\n",
    "email_value=user[\"email\"] # email_value에 유저 이메일 값 저장\n",
    "user[\"level\"]=6 # 유저 레벨 6 변경\n",
    "\n",
    "# 실습 2\n",
    "isPhoneTrue=user.get(\"phone\",\"미입력\") # 핸드폰 키값이 없으면 미입력 출력\n",
    "\n",
    "user.update(\n",
    "    nickname=\"sky\"\n",
    ")\n",
    "user.pop(\"email\") # 이메일 항목 삭제\n",
    "user.setdefault(\"signup_data\",\"2025-07-10\") # 가입 날짜 추가 셋 디폴트 사용\n",
    "\n",
    "print(user,isPhoneTrue)\n"
   ]
  },
  {
   "cell_type": "code",
   "execution_count": null,
   "id": "a2ad03f0",
   "metadata": {},
   "outputs": [
    {
     "name": "stdout",
     "output_type": "stream",
     "text": [
      "{'Alice': 88, 'Charlie': 95, 'David': 80}\n"
     ]
    }
   ],
   "source": [
    "# 실습 2\n",
    "students=dict()\n",
    "students.update(\n",
    "    Alice=85,\n",
    "    Bob=90,\n",
    "    Charlie=95\n",
    ")\n",
    "students[\"David\"]=80 # 데이비드 추가\n",
    "students[\"Alice\"]=88 # 점수변경\n",
    "\n",
    "students.pop(\"Bob\") # 밥 제거\n",
    "\n",
    "print(students)"
   ]
  },
  {
   "cell_type": "code",
   "execution_count": null,
   "id": "6eed260e",
   "metadata": {},
   "outputs": [
    {
     "name": "stdout",
     "output_type": "stream",
     "text": [
      "1:0\n"
     ]
    }
   ],
   "source": [
    "# 초를 받아 시 분 초 구하기\n",
    "\n",
    "hour, min, sec= 0,0,0\n",
    "\n",
    "time=int(input(\"초를 입력하시오: \"))\n",
    "\n",
    "min=time//60\n",
    "sec=time%60\n",
    "\n",
    "hour=min//60\n",
    "min%=60\n",
    "\n",
    "\n",
    "if hour>0:\n",
    "    print(f\"{hour}:{min}:{sec}\")\n",
    "elif min>0:\n",
    "    print(f\"{min}:{sec}\")\n",
    "else:\n",
    "    print(sec)"
   ]
  },
  {
   "cell_type": "code",
   "execution_count": null,
   "id": "7e77a296",
   "metadata": {},
   "outputs": [],
   "source": []
  }
 ],
 "metadata": {
  "kernelspec": {
   "display_name": ".venv",
   "language": "python",
   "name": "python3"
  },
  "language_info": {
   "codemirror_mode": {
    "name": "ipython",
    "version": 3
   },
   "file_extension": ".py",
   "mimetype": "text/x-python",
   "name": "python",
   "nbconvert_exporter": "python",
   "pygments_lexer": "ipython3",
   "version": "3.13.5"
  }
 },
 "nbformat": 4,
 "nbformat_minor": 5
}
