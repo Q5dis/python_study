{
 "cells": [
  {
   "cell_type": "markdown",
   "id": "ac0d0e8c",
   "metadata": {},
   "source": [
    "## 1. 변수"
   ]
  },
  {
   "cell_type": "markdown",
   "id": "1a2c9a69",
   "metadata": {},
   "source": [
    "#### 주석: 코드에 대한 설명을 적는 텍스트, 실행에 영향 X"
   ]
  },
  {
   "cell_type": "code",
   "execution_count": null,
   "id": "22ea4aa2",
   "metadata": {},
   "outputs": [],
   "source": [
    "# 이렇게 작성\n",
    "# cmd+/(mac) ctrl+/(window)\n",
    "# 일시적으로 코드를 비활성화 하는 경우에도 사용\n",
    "# shift+방향키 우,아래 코드 줄 복사\n",
    "# opt+shift+하 = 바로 아래 복사한 코드 붙여넣기\n"
   ]
  },
  {
   "cell_type": "code",
   "execution_count": null,
   "id": "b5bb1ac5",
   "metadata": {},
   "outputs": [
    {
     "name": "stdout",
     "output_type": "stream",
     "text": [
      "bye world\n",
      "가-나-다\n",
      "고양이 예쁘다 나비야\n"
     ]
    }
   ],
   "source": [
    "# print 함수 실행은 shift+enter\n",
    "print (\"bye world\")\n",
    "\n",
    "# 프린트의 구분자 지정 sep\n",
    "print(\"가\",\"나\",\"다\", sep=\"-\")\n",
    "\n",
    "# 프린트의 줄바꿈 옵션 end\n",
    "# 줄바꿈 대신 공백으로 대체된다.\n",
    "print(\"고양이\", end=\" \")\n",
    "print(\"예쁘다\", end=\" \")\n",
    "print(\"나비야\")"
   ]
  },
  {
   "cell_type": "code",
   "execution_count": null,
   "id": "2de7355b",
   "metadata": {},
   "outputs": [
    {
     "name": "stdout",
     "output_type": "stream",
     "text": [
      "저장할 자료\n"
     ]
    }
   ],
   "source": [
    "# variable\n",
    "# 변하는 자료, 개발에서 변수는 자료를 다룬다. 변하는 자료를 저장한다.\n",
    "\n",
    "varname = \"저장할 자료\"\n",
    "print (varname)\n",
    "print (varname)\n",
    "\n",
    "# 변수제작: 선언 / 값저장: 변수할당 / 첫 할당: 초기화 \n",
    "# =대입연산자. 등호는 즉 대입연산자.\n",
    "# 사용불가 변수명? :숫자로 시작, 예약어(키워드) 사용 불가, 띄워쓰기 불가\n",
    "\n",
    "#snake_case: 변수, 함수명, 상수. 상수는 대문자, 파이썬은 주로 snake_case\n",
    "#PascalCase: 클래스에 사용\n",
    "\n",
    "#변수 저장값 변경 가능, 한 번에 하나만 저장 가능, 선언과 초기화가 동시에 진행되어야 되는 파이썬.\n"
   ]
  },
  {
   "cell_type": "code",
   "execution_count": 11,
   "id": "0d12e497",
   "metadata": {},
   "outputs": [
    {
     "name": "stdout",
     "output_type": "stream",
     "text": [
      "1 3 4\n",
      "1 3 6\n",
      "hans 32 female\n",
      "1 2 3\n",
      "20 10\n"
     ]
    }
   ],
   "source": [
    "a=1; b=3; c=4\n",
    "print(a, b, c)\n",
    "\n",
    "\n",
    "\n",
    "d, e, f=1,3,6\n",
    "print(d, e, f)\n",
    "\n",
    "name, age, gender =(\"hans\", 32, \"female\")\n",
    "print(name, age, gender)\n",
    "\n",
    "a=1\n",
    "b=2\n",
    "c=3\n",
    "print(a, b, c)\n",
    "\n",
    "# 가독성에 따라 여러줄 혹은 한줄로 정리하는건 개인 재량\n",
    "\n",
    "x=10\n",
    "y=20\n",
    "\n",
    "x,y=(y,x)\n",
    "print (x, y)\n",
    "# 파이썬 특성을 이용한 값 바꾸는 방법"
   ]
  },
  {
   "cell_type": "code",
   "execution_count": null,
   "id": "72f6cc98",
   "metadata": {},
   "outputs": [
    {
     "name": "stdout",
     "output_type": "stream",
     "text": [
      "False\n"
     ]
    }
   ],
   "source": []
  },
  {
   "cell_type": "markdown",
   "id": "e6414886",
   "metadata": {},
   "source": []
  },
  {
   "cell_type": "code",
   "execution_count": null,
   "id": "84756964",
   "metadata": {},
   "outputs": [],
   "source": []
  }
 ],
 "metadata": {
  "kernelspec": {
   "display_name": ".venv",
   "language": "python",
   "name": "python3"
  },
  "language_info": {
   "codemirror_mode": {
    "name": "ipython",
    "version": 3
   },
   "file_extension": ".py",
   "mimetype": "text/x-python",
   "name": "python",
   "nbconvert_exporter": "python",
   "pygments_lexer": "ipython3",
   "version": "3.13.5"
  }
 },
 "nbformat": 4,
 "nbformat_minor": 5
}
