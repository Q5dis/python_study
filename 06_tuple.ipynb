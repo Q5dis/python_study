{
 "cells": [
  {
   "cell_type": "markdown",
   "id": "59c63ed2",
   "metadata": {},
   "source": [
    "# 튜플\n",
    "\n",
    "순서가 존재하는 여러 데이터의 모음.\n",
    "리스트와의 차이?: 불변(immutable)자료형"
   ]
  },
  {
   "cell_type": "code",
   "execution_count": null,
   "id": "4b825aa9",
   "metadata": {},
   "outputs": [
    {
     "name": "stdout",
     "output_type": "stream",
     "text": [
      "(1, 2, 3, 4)\n",
      "<class 'tuple'>\n",
      "1\n",
      "<class 'tuple'>\n"
     ]
    }
   ],
   "source": [
    "# 튜플 생성은 소괄호\n",
    "tuple_test=(1,2,3,4)\n",
    "print(tuple_test)\n",
    "\n",
    "# 소괄호 없이?\n",
    "tuple_test=4,3,2,1\n",
    "print(type(tuple_test))\n",
    "\n",
    "# 콤마를 넣어서 원소를 나열하면 튜플이다.\n",
    "\n",
    "single_tuple=(1)\n",
    "print(single_tuple)\n",
    "# 튜플은 초기화 값이 필수. 없으면 그냥 괄호만 인식됨\n",
    "# 혹은 함수로 생성하는 법도 있음.\n",
    "fuc_tuple=tuple()\n",
    "print(type(fuc_tuple))\n",
    "\n",
    "#다른 시퀀스를 튜플로 변경할 수도 있다. 튜플함수를 사용해서..."
   ]
  },
  {
   "cell_type": "code",
   "execution_count": null,
   "id": "9b45fefb",
   "metadata": {},
   "outputs": [
    {
     "name": "stdout",
     "output_type": "stream",
     "text": [
      "축구\n"
     ]
    }
   ],
   "source": [
    "# 언패킹: 한 줄에 여러변수 만들기.\n",
    "# 시퀀스에 저장된 여러 값을 여러 변수에 나누어 저장하는 것\n",
    "과일1, 과일2=\"사과\",\"포도\"\n",
    "운동1, 운동2=[\"축구\",\"농구\"]\n",
    "문,자,열=\"문자열\"\n",
    "# 튜플 리스트 문자열 모두 언패킹이 가능하다\n",
    "# 구조분해할당(Destruction)"
   ]
  },
  {
   "cell_type": "code",
   "execution_count": null,
   "id": "cb27972d",
   "metadata": {},
   "outputs": [
    {
     "name": "stdout",
     "output_type": "stream",
     "text": [
      "(100, 2, 3)\n",
      "(1, 2, 3)\n"
     ]
    }
   ],
   "source": [
    "my_tuple=(1,2,3)\n",
    "new_tuple=(100,)+my_tuple[1:]\n",
    "print(new_tuple)\n",
    "print(my_tuple)\n",
    "# 100에 마이튜플을추가, 마이튜플에서 1짜른걸 추가 해서 합체?\n",
    "# 원본은 수정하지 않으며 새로운 튜플을 생성. 그러기에 가능한 연산\n",
    "\n",
    "# 튜플 그 자체는 삭제 가능. 튜플 내 원소는 삭제 불가능"
   ]
  },
  {
   "cell_type": "code",
   "execution_count": 20,
   "id": "d871c757",
   "metadata": {},
   "outputs": [
    {
     "name": "stdout",
     "output_type": "stream",
     "text": [
      "서울 지역 보안 정책 적용 대상입니다\n",
      "복원된 고객 정보: ('eunji', 25, 'Seoul')\n",
      "eunji님의 나이는 25세이며, 거주 도시는 Seoul입니다.\n",
      "'minji'는 3번 등장합니다.\n",
      "'soojin'은 2번 인덱스에 있습니다.\n",
      "정렬된 고객 리스트: ['eunji', 'minji', 'minji', 'minji', 'soojin']\n"
     ]
    }
   ],
   "source": [
    "# Step 1. 해킹된 고객 이름 복구하기\n",
    "# 기존 튜플은 (\"minji\", 25, \"Seoul\")\n",
    "# 이름을 \"eunji\"로 변경한 새 튜플을 만들어 변수 restored_user에 저장하세요.\n",
    "user = (\"minji\", 25, \"Seoul\")\n",
    "\n",
    "# TODO: 튜플은 수정 불가이므로, 슬라이싱과 결합을 사용해 새 튜플 생성\n",
    "restored_user = (\"eunji\",)+user[1:]\n",
    "\n",
    "\n",
    "\n",
    "# Step 2. 언패킹\n",
    "# 복원된 튜플을 name, age, city로 언패킹하고 각각 출력해보세요.\n",
    "\n",
    "# TODO: 언패킹 코드 작성\n",
    "name, age, city = \"eunji\", 25, \"Seoul\"\n",
    "\n",
    "\n",
    "\n",
    "# Step 3. 지역에 따라 보안 메시지 다르게 출력\n",
    "# city가 \"Seoul\"이면 \"※ 서울 지역 보안 정책 적용 대상입니다.\" 출력\n",
    "# 아니라면 \"※ 일반 지역 보안 정책 적용 대상입니다.\" 출력\n",
    "\n",
    "# TODO: 조건문 작성\n",
    "if restored_user[2]==\"Seoul\":\n",
    "    print(\"서울 지역 보안 정책 적용 대상입니다\")\n",
    "else:\n",
    "    print(\"일반 지역 보안 정책 적용 대상입니다\")\n",
    "\n",
    "\n",
    "\n",
    "\n",
    "# Step 4. 고객 데이터 분석\n",
    "# 아래 튜플에서 \"minji\"가 몇 번 등장하는지 count()로 구하세요\n",
    "# \"soojin\"이 처음 등장하는 인덱스를 index()로 구하세요\n",
    "\n",
    "users = (\"minji\", \"eunji\", \"soojin\", \"minji\", \"minji\")\n",
    "\n",
    "# TODO: \"minji\" 등장 횟수\n",
    "count_minji = users.count(\"minji\")\n",
    "\n",
    "# TODO: \"soojin\" 인덱스\n",
    "index_soojin = users.index(\"soojin\")\n",
    "\n",
    "\n",
    "# Step 5. 고객 리스트 정렬 (튜플은 변경하지 말고 sorted()로 리스트 형태로 출력)\n",
    "# 결과는 sorted_users에 저장하고 출력하세요\n",
    "\n",
    "# TODO: 정렬된 리스트 생성\n",
    "sorted_users = sorted(users)\n",
    "\n",
    "\n",
    "# 🔽 출력 결과 확인을 위해 각 결과를 출력해보세요\n",
    "print(\"복원된 고객 정보:\", restored_user)\n",
    "print(f\"{name}님의 나이는 {age}세이며, 거주 도시는 {city}입니다.\")\n",
    "# Step 3 결과 메시지 출력은 조건문 안에서 출력되도록 구성\n",
    "print(f\"'minji'는 {count_minji}번 등장합니다.\")\n",
    "print(f\"'soojin'은 {index_soojin}번 인덱스에 있습니다.\")\n",
    "print(\"정렬된 고객 리스트:\", sorted_users)"
   ]
  },
  {
   "cell_type": "code",
   "execution_count": null,
   "id": "9a3b9ba2",
   "metadata": {},
   "outputs": [],
   "source": []
  }
 ],
 "metadata": {
  "kernelspec": {
   "display_name": ".venv",
   "language": "python",
   "name": "python3"
  },
  "language_info": {
   "codemirror_mode": {
    "name": "ipython",
    "version": 3
   },
   "file_extension": ".py",
   "mimetype": "text/x-python",
   "name": "python",
   "nbconvert_exporter": "python",
   "pygments_lexer": "ipython3",
   "version": "3.13.5"
  }
 },
 "nbformat": 4,
 "nbformat_minor": 5
}
