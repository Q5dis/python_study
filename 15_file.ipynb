{
 "cells": [
  {
   "cell_type": "markdown",
   "id": "309f55f2",
   "metadata": {},
   "source": [
    "# 파이썬의 파일 입출력\n",
    "- 저장장치에 저장된 파일을 읽어오거나 저장"
   ]
  },
  {
   "cell_type": "code",
   "execution_count": null,
   "id": "f26fae98",
   "metadata": {},
   "outputs": [],
   "source": [
    "# 파일 열기와 닫기\n",
    "\n",
    "# open(\"파일경로\",\"\")\n",
    "# 오픈 했으면 close 필수\n"
   ]
  },
  {
   "cell_type": "code",
   "execution_count": null,
   "id": "c3d6f3fd",
   "metadata": {},
   "outputs": [],
   "source": [
    "f= open(\"example.txt\",\"w\",encoding=\"UTF-8\") #w=write\n",
    "f.write(\"파이썬 입출력 예제\") #글작성\n",
    "f.write(\" 방가리\\n\")\n",
    "f.write(\"방가똥방귀\")\n",
    "f.close() #무조건 파일을 닫아서 해제"
   ]
  },
  {
   "cell_type": "code",
   "execution_count": 3,
   "id": "c44d9643",
   "metadata": {},
   "outputs": [
    {
     "name": "stdout",
     "output_type": "stream",
     "text": [
      "파이썬 입출력 예제 방가리\n",
      "방가똥방귀\n"
     ]
    }
   ],
   "source": [
    "f= open(\"example.txt\",\"r\",encoding=\"UTF-8\") #r=read\n",
    "open_file=f.read()\n",
    "print(open_file)\n",
    "f.close()"
   ]
  },
  {
   "cell_type": "code",
   "execution_count": null,
   "id": "04cdd97b",
   "metadata": {},
   "outputs": [
    {
     "name": "stdout",
     "output_type": "stream",
     "text": [
      "한줄: 파이썬 입출력 예제 방가리\n",
      "두줄: 방가똥방귀\n"
     ]
    }
   ],
   "source": [
    "f= open(\"example.txt\",\"r\",encoding=\"UTF-8\") #r=read\n",
    "line1=f.readline()\n",
    "line2=f.readline()\n",
    "print(\"한줄:\",line1.strip()) # 스트립: 스페이스, 탭, 줄바꿈 등 공백문자를 제거해줌\n",
    "print(\"두줄:\",line2)\n",
    "f.close()"
   ]
  },
  {
   "cell_type": "code",
   "execution_count": null,
   "id": "4a15a01b",
   "metadata": {},
   "outputs": [
    {
     "name": "stdout",
     "output_type": "stream",
     "text": [
      "파이썬 입출력 예제 방가리\n",
      "\n",
      "방가똥방귀\n"
     ]
    }
   ],
   "source": [
    "f= open(\"example.txt\",\"r\",encoding=\"UTF-8\") #r=read\n",
    "\n",
    "for line in f:\n",
    "    print(line)\n",
    "f.close()\n",
    "\n",
    "# f 객체는 이터러블이다"
   ]
  },
  {
   "cell_type": "code",
   "execution_count": null,
   "id": "94e4c81e",
   "metadata": {},
   "outputs": [
    {
     "name": "stdout",
     "output_type": "stream",
     "text": [
      "첫 위치:  0\n",
      "5 바이트 읽은 뒤 위치:  13\n"
     ]
    }
   ],
   "source": [
    "# tell(): 현재 읽는 위치의 바이트 반환\n",
    "f= open(\"example.txt\",\"r\",encoding=\"UTF-8\") #r=read\n",
    "print(\"첫 위치: \",f.tell())\n",
    "f.read(5) # 1바이트씩 읽음. 한글은 2-3바이트를 차지하기에 바이트 반환은 조금 크다\n",
    "print(\"5 바이트 읽은 뒤 위치: \",f.tell())\n",
    "f.close()"
   ]
  },
  {
   "cell_type": "code",
   "execution_count": null,
   "id": "918284ad",
   "metadata": {},
   "outputs": [
    {
     "name": "stdout",
     "output_type": "stream",
     "text": [
      "첫 위치:  0\n",
      "5 바이트 읽은 뒤 위치:  5\n"
     ]
    }
   ],
   "source": [
    "# tell(): 현재 읽는 위치의 바이트 반환\n",
    "f= open(\"ex_eng.txt\",\"r\",encoding=\"UTF-8\") #r=read\n",
    "print(\"첫 위치: \",f.tell())\n",
    "f.read(5) # 영어로 1바이트씩\n",
    "print(\"5 바이트 읽은 뒤 위치: \",f.tell())\n",
    "f.close()"
   ]
  },
  {
   "cell_type": "code",
   "execution_count": null,
   "id": "f5ae3fbe",
   "metadata": {},
   "outputs": [],
   "source": [
    "# seek() 커서 위치 \n",
    "f= open(\"example.txt\",\"r\",encoding=\"UTF-8\") #r=read\n",
    "print(\"첫 위치: \",f.tell())\n",
    "f.read(5) # 1바이트씩 읽음. 한글은 2-3바이트를 차지하기에 바이트 반환은 조금 크다\n",
    "print(\"5 바이트 읽은 뒤 위치: \",f.tell())\n",
    "f.close()"
   ]
  },
  {
   "cell_type": "code",
   "execution_count": 11,
   "id": "5f0844e2",
   "metadata": {},
   "outputs": [],
   "source": [
    "# 파일 쓰기 \n",
    "f= open(\"ex_eng.txt\",\"w\",encoding=\"UTF-8\") #w=write\n",
    "f.write(\"meow meow\\n \") #글작성\n",
    "f.write(\"meow!!!\") # 덮어쓰기\n",
    "f.close() #무조건 파일을 닫아서 해제"
   ]
  },
  {
   "cell_type": "code",
   "execution_count": 12,
   "id": "f24323e3",
   "metadata": {},
   "outputs": [],
   "source": [
    "# 파일 쓰기 + 추가쓰기\n",
    "f= open(\"ex_eng.txt\",\"a\",encoding=\"UTF-8\") #w=write\n",
    "f.write(\"\\n woof woof\\n \") #글작성\n",
    "f.write(\"woof!!!\") \n",
    "f.close() #무조건 파일을 닫아서 해제"
   ]
  },
  {
   "cell_type": "code",
   "execution_count": 13,
   "id": "8a0ecca7",
   "metadata": {},
   "outputs": [],
   "source": [
    "with open(\"with_example.txt\",\"w\",encoding=\"UTF-8\") as f1:\n",
    "    f1.write(\"with로 작성한 파일\\n\")\n",
    "    f1.write(\"with는 클로즈를 자동으로\")"
   ]
  },
  {
   "cell_type": "code",
   "execution_count": 16,
   "id": "6c044067",
   "metadata": {},
   "outputs": [
    {
     "name": "stdout",
     "output_type": "stream",
     "text": [
      "with로 작성한 파일\n",
      "with는 클로즈를 자동으로\n"
     ]
    }
   ],
   "source": [
    "with open(\"with_example.txt\",\"r\",encoding=\"utf-8\") as f2:\n",
    "    data=f2.read()\n",
    "    print(data)"
   ]
  },
  {
   "cell_type": "code",
   "execution_count": 30,
   "id": "a2ea433f",
   "metadata": {},
   "outputs": [
    {
     "name": "stdout",
     "output_type": "stream",
     "text": [
      "nasus\n",
      "renekton\n",
      "azir\n",
      "xerath\n",
      "sivir\n",
      "\n",
      "랜덤 단어: xerath\n",
      "랜덤 단어: nasus\n",
      "랜덤 단어: sivir\n"
     ]
    }
   ],
   "source": [
    "# 1. 쓰기\n",
    "import random\n",
    "\n",
    "with open(\"with_example.txt\", \"w\", encoding=\"UTF-8\") as f3:\n",
    "    words = [\"nasus\", \"renekton\", \"azir\", \"xerath\", \"sivir\"]\n",
    "    for i in words:\n",
    "        f3.write(i + \"\\n\")\n",
    "\n",
    "# 2. 읽기\n",
    "with open(\"with_example.txt\", \"r\", encoding=\"UTF-8\") as f3:\n",
    "    data = f3.readlines() \n",
    "    print(\"\".join(data))\n",
    "    \n",
    "    for i in range(3):\n",
    "        word = random.choice(data).strip()  # 랜덤한 줄에서 개행 제거\n",
    "        print(\"랜덤 단어:\", word)"
   ]
  },
  {
   "cell_type": "code",
   "execution_count": null,
   "id": "0074cbdf",
   "metadata": {},
   "outputs": [],
   "source": [
    "with open(\"with_example.txt\",\"a\",encoding=\"utf-8\") as f4:\n",
    "    # with open(\"파일명\",\"w/r/a\",encoding=\"utf-8\") as 변수명\n",
    "    while True:\n",
    "        text=input(\"저장내용입력: (종료:Z)\")\n",
    "        if text==\"Z\":\n",
    "            break\n",
    "        else:\n",
    "            f4.write(text+\"\\n\")"
   ]
  },
  {
   "cell_type": "code",
   "execution_count": null,
   "id": "dccb3322",
   "metadata": {},
   "outputs": [
    {
     "name": "stdout",
     "output_type": "stream",
     "text": [
      "---유저데이터 출력---\n",
      "민지|1234\n",
      "민구|3214\n",
      "준수|2959\n",
      "\n"
     ]
    }
   ],
   "source": [
    "with open(\"member.txt\",\"w\",encoding=\"utf-8\") as m:\n",
    "    for i in range(3):\n",
    "        user=input(\"회원 이름과 비밀번호 입력하시오: \".split(\"|\"))\n",
    "        m.write(user+\"\\n\")\n",
    "\n",
    "with open(\"member.txt\",\"r\",encoding=\"utf-8\") as m:\n",
    "    users=m.readlines()\n",
    "    print(\"---유저데이터 출력---\")\n",
    "    print(\"\".join(users))"
   ]
  },
  {
   "cell_type": "code",
   "execution_count": 44,
   "id": "3e2ca9f6",
   "metadata": {},
   "outputs": [
    {
     "name": "stdout",
     "output_type": "stream",
     "text": [
      "---유저데이터 출력---\n",
      "이름: 신구, 비번: 1234\n",
      "이름: 병구, 비번: 1234\n",
      "이름: 만구, 비번: 1234\n",
      "\n"
     ]
    }
   ],
   "source": [
    "# 강자예문\n",
    "with open(\"member2.txt\",\"w\",encoding=\"utf-8\") as m:\n",
    "    for i in range(3):\n",
    "        user=input(\"아이디: \")\n",
    "        password=input(\"비밀번호: \")\n",
    "        m.write(f\"이름: {user}, 비번: {password}\\n\")\n",
    "\n",
    "with open(\"member2.txt\",\"r\",encoding=\"utf-8\") as m:\n",
    "    print(\"---유저데이터 출력---\")\n",
    "    print(m.read())"
   ]
  },
  {
   "cell_type": "code",
   "execution_count": 10,
   "id": "9d9af9f9",
   "metadata": {},
   "outputs": [
    {
     "name": "stdout",
     "output_type": "stream",
     "text": [
      "id: 동식\n",
      "비밀번호: ㅁㄴㅇㄹㅁ\n",
      "로그인 실패, 재입력 해주세요.\n",
      "id: 신구\n",
      "비밀번호: 1234\n",
      "로그인 성공!\n",
      "신구님 환영합니다\n"
     ]
    }
   ],
   "source": [
    "with open(\"member2.txt\",\"r\",encoding=\"utf-8\") as m:\n",
    "    list_of_members=m.readlines()\n",
    "\n",
    "    while True:\n",
    "\n",
    "        id=input(\"이름 입력하세요: \")\n",
    "        print(f\"id: {id}\")\n",
    "        password=input(\"비밀번호 입력하세요\")\n",
    "        print(f\"비밀번호: {password}\")\n",
    "        islogin=False\n",
    "\n",
    "        for line in list_of_members:\n",
    "            if id in line and password in line:\n",
    "                islogin=True\n",
    "                break\n",
    "            else:\n",
    "                islogin=False\n",
    "                break\n",
    "\n",
    "        if islogin!=False:\n",
    "            print(\"로그인 성공!\")\n",
    "            print(f\"{id}님 환영합니다\")\n",
    "            break\n",
    "        else:\n",
    "            print(\"로그인 실패, 재입력 해주세요.\")\n",
    "    \n",
    "        \n",
    "            "
   ]
  },
  {
   "cell_type": "code",
   "execution_count": 4,
   "id": "51553885",
   "metadata": {},
   "outputs": [
    {
     "name": "stdout",
     "output_type": "stream",
     "text": [
      "로그인 성공\n"
     ]
    }
   ],
   "source": [
    "# 명부를 이용한 로그인\n",
    "with open(\"member2.txt\", \"r\", encoding=\"utf-8\") as m:\n",
    "    lines = m.readlines()\n",
    "\n",
    "id = input(\"이름 입력하세요: \")\n",
    "password = input(\"비밀번호 입력하세요: \")\n",
    "\n",
    "login_success = False\n",
    "\n",
    "for line in lines:\n",
    "    if id in line and password in line:\n",
    "        print(\"로그인 성공\")\n",
    "        login_success = True\n",
    "        break\n",
    "\n",
    "if not login_success:\n",
    "    print(\"로그인 실패\")\n"
   ]
  },
  {
   "cell_type": "code",
   "execution_count": 11,
   "id": "0e80adc2",
   "metadata": {},
   "outputs": [
    {
     "name": "stdout",
     "output_type": "stream",
     "text": [
      "로그인 실패, 다시 시도해주세요.\n",
      "로그인 실패, 다시 시도해주세요.\n",
      "로그인 성공!\n",
      "만구님 환영합니다.\n"
     ]
    }
   ],
   "source": [
    "with open(\"member2.txt\", \"r\", encoding=\"utf-8\") as m:\n",
    "    list_of_members = m.readlines()\n",
    "\n",
    "while True:\n",
    "    id_input = input(\"이름 입력하세요: \").strip()\n",
    "    password_input = input(\"비밀번호 입력하세요: \").strip()\n",
    "    \n",
    "    islogin = False\n",
    "\n",
    "    for line in list_of_members:\n",
    "        # 줄에서 '이름'과 '비번' 부분 추출\n",
    "        line = line.strip()  # 줄 끝 개행 제거\n",
    "        if line == \"\":\n",
    "            continue\n",
    "        try:\n",
    "            name_part, pw_part = line.split(\",\")  # 예: '이름: hong', '비번: 1234'\n",
    "            name = name_part.split(\":\")[1].strip()\n",
    "            pw = pw_part.split(\":\")[1].strip()\n",
    "        except IndexError:\n",
    "            continue  # 잘못된 줄 형식 무시\n",
    "\n",
    "        if id_input == name and password_input == pw:\n",
    "            islogin = True\n",
    "            break\n",
    "\n",
    "    if islogin:\n",
    "        print(\"로그인 성공!\")\n",
    "        print(f\"{id_input}님 환영합니다.\")\n",
    "        break\n",
    "    else:\n",
    "        print(\"로그인 실패, 다시 시도해주세요.\")\n"
   ]
  },
  {
   "cell_type": "code",
   "execution_count": 12,
   "id": "58ca8de7",
   "metadata": {},
   "outputs": [
    {
     "ename": "FileNotFoundError",
     "evalue": "[Errno 2] No such file or directory: './images/dog.jpg'",
     "output_type": "error",
     "traceback": [
      "\u001b[31m---------------------------------------------------------------------------\u001b[39m",
      "\u001b[31mFileNotFoundError\u001b[39m                         Traceback (most recent call last)",
      "\u001b[36mCell\u001b[39m\u001b[36m \u001b[39m\u001b[32mIn[12]\u001b[39m\u001b[32m, line 6\u001b[39m\n\u001b[32m      1\u001b[39m \u001b[38;5;66;03m# 짜르고 공백제거하고 가공한 다음에 작업하는 강사의 예문\u001b[39;00m\n\u001b[32m      2\u001b[39m \n\u001b[32m      3\u001b[39m \u001b[38;5;66;03m# 오늘 작성할 부분: 파이썬에서 파일 읽고 편집하고 덧붙이기\u001b[39;00m\n\u001b[32m      4\u001b[39m \u001b[38;5;66;03m# 바이너리파일 읽고쓰기 예습\u001b[39;00m\n\u001b[32m----> \u001b[39m\u001b[32m6\u001b[39m \u001b[38;5;28;01mwith\u001b[39;00m \u001b[38;5;28;43mopen\u001b[39;49m\u001b[43m(\u001b[49m\u001b[33;43m\"\u001b[39;49m\u001b[33;43m./images/dog.jpg\u001b[39;49m\u001b[33;43m\"\u001b[39;49m\u001b[43m,\u001b[49m\u001b[33;43m\"\u001b[39;49m\u001b[33;43mrb\u001b[39;49m\u001b[33;43m\"\u001b[39;49m\u001b[43m)\u001b[49m \u001b[38;5;28;01mas\u001b[39;00m f:\n\u001b[32m      7\u001b[39m     img=f.read()\n\u001b[32m      8\u001b[39m     \u001b[38;5;28mprint\u001b[39m(img)\n",
      "\u001b[36mFile \u001b[39m\u001b[32m~/python_study/.venv/lib/python3.13/site-packages/IPython/core/interactiveshell.py:343\u001b[39m, in \u001b[36m_modified_open\u001b[39m\u001b[34m(file, *args, **kwargs)\u001b[39m\n\u001b[32m    336\u001b[39m \u001b[38;5;28;01mif\u001b[39;00m file \u001b[38;5;129;01min\u001b[39;00m {\u001b[32m0\u001b[39m, \u001b[32m1\u001b[39m, \u001b[32m2\u001b[39m}:\n\u001b[32m    337\u001b[39m     \u001b[38;5;28;01mraise\u001b[39;00m \u001b[38;5;167;01mValueError\u001b[39;00m(\n\u001b[32m    338\u001b[39m         \u001b[33mf\u001b[39m\u001b[33m\"\u001b[39m\u001b[33mIPython won\u001b[39m\u001b[33m'\u001b[39m\u001b[33mt let you open fd=\u001b[39m\u001b[38;5;132;01m{\u001b[39;00mfile\u001b[38;5;132;01m}\u001b[39;00m\u001b[33m by default \u001b[39m\u001b[33m\"\u001b[39m\n\u001b[32m    339\u001b[39m         \u001b[33m\"\u001b[39m\u001b[33mas it is likely to crash IPython. If you know what you are doing, \u001b[39m\u001b[33m\"\u001b[39m\n\u001b[32m    340\u001b[39m         \u001b[33m\"\u001b[39m\u001b[33myou can use builtins\u001b[39m\u001b[33m'\u001b[39m\u001b[33m open.\u001b[39m\u001b[33m\"\u001b[39m\n\u001b[32m    341\u001b[39m     )\n\u001b[32m--> \u001b[39m\u001b[32m343\u001b[39m \u001b[38;5;28;01mreturn\u001b[39;00m \u001b[43mio_open\u001b[49m\u001b[43m(\u001b[49m\u001b[43mfile\u001b[49m\u001b[43m,\u001b[49m\u001b[43m \u001b[49m\u001b[43m*\u001b[49m\u001b[43margs\u001b[49m\u001b[43m,\u001b[49m\u001b[43m \u001b[49m\u001b[43m*\u001b[49m\u001b[43m*\u001b[49m\u001b[43mkwargs\u001b[49m\u001b[43m)\u001b[49m\n",
      "\u001b[31mFileNotFoundError\u001b[39m: [Errno 2] No such file or directory: './images/dog.jpg'"
     ]
    }
   ],
   "source": [
    "# 짜르고 공백제거하고 가공한 다음에 작업하는 강사의 예문\n",
    "\n",
    "# 오늘 작성할 부분: 파이썬에서 파일 읽고 편집하고 덧붙이기\n",
    "# 바이너리파일 읽고쓰기 예습\n",
    "\n",
    "with open(\"./images/dog.jpg\",\"rb\") as f:\n",
    "    img=f.read()\n",
    "    print(img)\n",
    "\n",
    "with open(\"./output/dog_copy.jpg\",\"wb\") as f:\n",
    "    f.write(img)"
   ]
  },
  {
   "cell_type": "code",
   "execution_count": null,
   "id": "7b9e9255",
   "metadata": {},
   "outputs": [],
   "source": []
  }
 ],
 "metadata": {
  "kernelspec": {
   "display_name": ".venv",
   "language": "python",
   "name": "python3"
  },
  "language_info": {
   "codemirror_mode": {
    "name": "ipython",
    "version": 3
   },
   "file_extension": ".py",
   "mimetype": "text/x-python",
   "name": "python",
   "nbconvert_exporter": "python",
   "pygments_lexer": "ipython3",
   "version": "3.13.5"
  }
 },
 "nbformat": 4,
 "nbformat_minor": 5
}
