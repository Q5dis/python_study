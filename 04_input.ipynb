{
 "cells": [
  {
   "cell_type": "markdown",
   "id": "683be002",
   "metadata": {},
   "source": [
    "# 4. 사용자 입력"
   ]
  },
  {
   "cell_type": "code",
   "execution_count": null,
   "id": "19daf23e",
   "metadata": {},
   "outputs": [
    {
     "name": "stdout",
     "output_type": "stream",
     "text": [
      "asdf\n",
      "12\n"
     ]
    }
   ],
   "source": [
    "# input은 사용자로부터 입력을 문자열로 받아온다.\n",
    "\n",
    "input_test=input()\n",
    "print(input_test)\n"
   ]
  },
  {
   "cell_type": "code",
   "execution_count": 10,
   "id": "a0491961",
   "metadata": {},
   "outputs": [
    {
     "name": "stdout",
     "output_type": "stream",
     "text": [
      "input은 정수를 입력해도 자동으로 문자열취급이 된다.:  11\n",
      "형변환을 해야 정수로서 연산이 가능하다.:  4\n"
     ]
    }
   ],
   "source": [
    "b=input()\n",
    "a=input()\n",
    "\n",
    "print(\"input은 정수를 입력해도 자동으로 문자열취급이 된다.: \",a+b)\n",
    "\n",
    "\n",
    "b=int(input())\n",
    "a=int(input())\n",
    "\n",
    "print(\"형변환을 해야 정수로서 연산이 가능하다.: \",a+b)"
   ]
  },
  {
   "cell_type": "code",
   "execution_count": null,
   "id": "6dc94db8",
   "metadata": {},
   "outputs": [
    {
     "name": "stdout",
     "output_type": "stream",
     "text": [
      "29.4\n"
     ]
    }
   ],
   "source": [
    "c=float(input())\n",
    "d=float(input())\n",
    "print(\"실수 계산은 실수로 변환이 필수. 사유? 문자열 실수는 정수변환이 안되기 때문에.\",c+d)"
   ]
  },
  {
   "cell_type": "code",
   "execution_count": 15,
   "id": "36a56112",
   "metadata": {},
   "outputs": [
    {
     "name": "stdout",
     "output_type": "stream",
     "text": [
      "나의 이름은  ㅁㅇㄹ 입니다.\n"
     ]
    }
   ],
   "source": [
    "# input에 설명문을 추가\n",
    "\n",
    "name=input(\"이름을 입력하시오: \")\n",
    "print(\"나의 이름은 \", name , \"입니다.\")"
   ]
  },
  {
   "cell_type": "code",
   "execution_count": null,
   "id": "fda70030",
   "metadata": {},
   "outputs": [
    {
     "name": "stdout",
     "output_type": "stream",
     "text": [
      "['수박', '사과', '참외']\n",
      "체리\n",
      "딸기\n",
      "포도\n"
     ]
    }
   ],
   "source": [
    "# 문자열 나누기 .split 구분자(공백)을 기준으로 문자열을 쪼개서 리스트를 반환한다.\n",
    "과일 = \"수박 사과 참외\".split()\n",
    "print(과일)\n",
    "\n",
    "과일1, 과일2, 과일3=\"체리 딸기 포도\".split()\n",
    "print(과일1)\n",
    "print(과일2)\n",
    "print(과일3)\n",
    "\n"
   ]
  },
  {
   "cell_type": "code",
   "execution_count": 19,
   "id": "156e8031",
   "metadata": {},
   "outputs": [
    {
     "name": "stdout",
     "output_type": "stream",
     "text": [
      "고양이\n",
      "냥냥이\n",
      "먀옹이\n"
     ]
    }
   ],
   "source": [
    "# 여러 자료 입력하기\n",
    "\n",
    "동물1, 동물2, 동물3=input().split()\n",
    "print(동물1)\n",
    "print(동물2)\n",
    "print(동물3)"
   ]
  },
  {
   "cell_type": "code",
   "execution_count": null,
   "id": "695d6921",
   "metadata": {},
   "outputs": [],
   "source": []
  }
 ],
 "metadata": {
  "kernelspec": {
   "display_name": ".venv",
   "language": "python",
   "name": "python3"
  },
  "language_info": {
   "codemirror_mode": {
    "name": "ipython",
    "version": 3
   },
   "file_extension": ".py",
   "mimetype": "text/x-python",
   "name": "python",
   "nbconvert_exporter": "python",
   "pygments_lexer": "ipython3",
   "version": "3.13.5"
  }
 },
 "nbformat": 4,
 "nbformat_minor": 5
}
