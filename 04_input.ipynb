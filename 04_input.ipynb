{
 "cells": [
  {
   "cell_type": "markdown",
   "id": "683be002",
   "metadata": {},
   "source": [
    "# 4. 사용자 입력"
   ]
  },
  {
   "cell_type": "code",
   "execution_count": null,
   "id": "19daf23e",
   "metadata": {},
   "outputs": [
    {
     "name": "stdout",
     "output_type": "stream",
     "text": [
      "asdf\n",
      "12\n"
     ]
    }
   ],
   "source": [
    "# input은 사용자로부터 입력을 문자열로 받아온다.\n",
    "\n",
    "input_test=input()\n",
    "print(input_test)\n"
   ]
  },
  {
   "cell_type": "code",
   "execution_count": 10,
   "id": "a0491961",
   "metadata": {},
   "outputs": [
    {
     "name": "stdout",
     "output_type": "stream",
     "text": [
      "input은 정수를 입력해도 자동으로 문자열취급이 된다.:  11\n",
      "형변환을 해야 정수로서 연산이 가능하다.:  4\n"
     ]
    }
   ],
   "source": [
    "b=input()\n",
    "a=input()\n",
    "\n",
    "print(\"input은 정수를 입력해도 자동으로 문자열취급이 된다.: \",a+b)\n",
    "\n",
    "\n",
    "b=int(input())\n",
    "a=int(input())\n",
    "\n",
    "print(\"형변환을 해야 정수로서 연산이 가능하다.: \",a+b)"
   ]
  },
  {
   "cell_type": "code",
   "execution_count": null,
   "id": "6dc94db8",
   "metadata": {},
   "outputs": [
    {
     "name": "stdout",
     "output_type": "stream",
     "text": [
      "29.4\n"
     ]
    }
   ],
   "source": [
    "c=float(input())\n",
    "d=float(input())\n",
    "print(\"실수 계산은 실수로 변환이 필수. 사유? 문자열 실수는 정수변환이 안되기 때문에.\",c+d)"
   ]
  },
  {
   "cell_type": "code",
   "execution_count": null,
   "id": "36a56112",
   "metadata": {},
   "outputs": [
    {
     "name": "stdout",
     "output_type": "stream",
     "text": [
      "나의 이름은  ㅁㅇㄹ 입니다.\n"
     ]
    }
   ],
   "source": [
    "# input에 설명문을 추가\n",
    "\n",
    "name=input(\"이름을 입력하시오: \")\n",
    "print(\"나의 이름은 \", name , \"입니다.\")"
   ]
  },
  {
   "cell_type": "code",
   "execution_count": null,
   "id": "fda70030",
   "metadata": {},
   "outputs": [
    {
     "name": "stdout",
     "output_type": "stream",
     "text": [
      "['수박', '사과', '참외']\n",
      "체리\n",
      "딸기\n",
      "포도\n"
     ]
    }
   ],
   "source": [
    "# 문자열 나누기 .split 구분자(공백)을 기준으로 문자열을 쪼개서 리스트를 반환한다.\n",
    "과일 = \"수박 사과 참외\".split()\n",
    "print(과일)\n",
    "\n",
    "과일1, 과일2, 과일3=\"체리 딸기 포도\".split()\n",
    "print(과일1)\n",
    "print(과일2)\n",
    "print(과일3)"
   ]
  },
  {
   "cell_type": "code",
   "execution_count": 19,
   "id": "156e8031",
   "metadata": {},
   "outputs": [
    {
     "name": "stdout",
     "output_type": "stream",
     "text": [
      "고양이\n",
      "냥냥이\n",
      "먀옹이\n"
     ]
    }
   ],
   "source": [
    "# 여러 자료 입력하기\n",
    "\n",
    "동물1, 동물2, 동물3=input().split()\n",
    "print(동물1)\n",
    "print(동물2)\n",
    "print(동물3)"
   ]
  },
  {
   "cell_type": "code",
   "execution_count": 2,
   "id": "695d6921",
   "metadata": {},
   "outputs": [
    {
     "name": "stdout",
     "output_type": "stream",
     "text": [
      "안녕하세요 제 이름은[ 김철수 ]이고,[ 10 ]살 입니다\n"
     ]
    }
   ],
   "source": [
    "name, age=input().split()\n",
    "print(\"안녕하세요 제 이름은[\",name,\"]이고,[\",age,\"]살 입니다\")"
   ]
  },
  {
   "cell_type": "code",
   "execution_count": 1,
   "id": "06465399",
   "metadata": {},
   "outputs": [
    {
     "name": "stdout",
     "output_type": "stream",
     "text": [
      "넓이:  10000 \n",
      "둘레:  400\n"
     ]
    }
   ],
   "source": [
    "height, width=input().split()\n",
    "print(\"넓이: \",(int(height)*int(width)),\"\\n둘레: \",((int(height)+int(width))*2))"
   ]
  },
  {
   "cell_type": "code",
   "execution_count": 12,
   "id": "38df10b8",
   "metadata": {},
   "outputs": [
    {
     "name": "stdout",
     "output_type": "stream",
     "text": [
      "천의 자리:  1 \n",
      "백의 자리:  2 \n",
      "십의 자리:  3 \n",
      "일의 자리: 4\n"
     ]
    }
   ],
   "source": [
    "num=int(input())\n",
    "print(\"천의 자리: \",(num//1000),\n",
    "      \"\\n백의 자리: \",((num%1000)//100),\n",
    "      \"\\n십의 자리: \",((num%100)//10),\n",
    "      \"\\n일의 자리:\",((num%10)//1))"
   ]
  },
  {
   "cell_type": "code",
   "execution_count": 20,
   "id": "4fd4c5fc",
   "metadata": {},
   "outputs": [
    {
     "name": "stdout",
     "output_type": "stream",
     "text": [
      "\n",
      "!!!발표 순서 안내입니다!!!\n",
      "1조 발표자: 민수 주제: 재생에너지\n",
      "2조 발표자: 준수 주제: IOT\n",
      "3조 발표자: 영수 주제: 풍력발전\n",
      "\n"
     ]
    }
   ],
   "source": [
    "name1, name2, name3=input(\"발표자 이름 3명을 입력하세요: \").split()\n",
    "sub1, sub2, sub3=input(\"발표 주제 3개를 입력하세요: \").split()\n",
    "print(f\"\"\"\n",
    "!!!발표 순서 안내입니다!!!\n",
    "1조 발표자: {name1} 주제: {sub1}\n",
    "2조 발표자: {name2} 주제: {sub2}\n",
    "3조 발표자: {name3} 주제: {sub3}\n",
    "\"\"\")\n"
   ]
  },
  {
   "cell_type": "code",
   "execution_count": 19,
   "id": "02c160cd",
   "metadata": {},
   "outputs": [
    {
     "name": "stdout",
     "output_type": "stream",
     "text": [
      "\n",
      "RE3의 개강일은 2080년 09월 17일\n",
      "시작 시간은 15시 34분 5초 입니다.\n",
      "\n"
     ]
    }
   ],
   "source": [
    "year, month, day=input(\"년 월 일을 입력하세요: \").split(\".\")\n",
    "hour, min, sec=input(\"시 분 초를 입력해주세요: \").split(\":\")\n",
    "print(f\"\"\"\n",
    "RE3의 개강일은 {year}년 {month}월 {day}일\n",
    "시작 시간은 {hour}시 {min}분 {sec}초 입니다.\n",
    "\"\"\")\n"
   ]
  },
  {
   "cell_type": "code",
   "execution_count": null,
   "id": "d14094d3",
   "metadata": {},
   "outputs": [],
   "source": []
  }
 ],
 "metadata": {
  "kernelspec": {
   "display_name": ".venv",
   "language": "python",
   "name": "python3"
  },
  "language_info": {
   "codemirror_mode": {
    "name": "ipython",
    "version": 3
   },
   "file_extension": ".py",
   "mimetype": "text/x-python",
   "name": "python",
   "nbconvert_exporter": "python",
   "pygments_lexer": "ipython3",
   "version": "3.13.5"
  }
 },
 "nbformat": 4,
 "nbformat_minor": 5
}
