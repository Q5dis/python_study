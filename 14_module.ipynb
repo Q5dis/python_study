{
 "cells": [
  {
   "cell_type": "markdown",
   "id": "7a7590d8",
   "metadata": {},
   "source": [
    "# 모듈\n",
    "- 여러기능이 뭉쳐진 하나의 py 파일"
   ]
  },
  {
   "cell_type": "markdown",
   "id": "7de9a9ed",
   "metadata": {},
   "source": [
    "관련 실습은 상단 module_test폴더 내에서 작성\n"
   ]
  },
  {
   "cell_type": "code",
   "execution_count": 2,
   "id": "5d056f60",
   "metadata": {},
   "outputs": [
    {
     "name": "stdout",
     "output_type": "stream",
     "text": [
      "가위:보, 승리!\n",
      "무승부\n",
      "바위:가위, 승리!\n",
      "무승부\n",
      "바위:가위, 승리!\n",
      "바위:가위, 승리!\n",
      "보:가위, 패배...\n",
      "무승부\n",
      "가위:보, 승리!\n",
      "가위:바위, 패배...\n",
      "무승부\n",
      "바위:보, 패배...\n",
      "바위:가위, 승리!\n",
      "무승부\n",
      "무승부\n",
      "무승부\n",
      "\n",
      "최종결과\n",
      "가위바위보 실행 횟수: 16\n",
      "승리 횟수: 6\n",
      "\n",
      "가위 낸 횟수: 4\n",
      "바위 낸 횟수: 10\n",
      "보 낸 횟수: 2\n",
      "\n"
     ]
    }
   ],
   "source": [
    "# 기존 rockpaper 코드, 클로드와 함께 리팩터링한 결과\n",
    "\n",
    "import random\n",
    "\n",
    "def play_rps():\n",
    "    choices = [\"가위\", \"바위\", \"보\"]\n",
    "    wins = 0\n",
    "    stats = {\"가위\": 0, \"바위\": 0, \"보\": 0}\n",
    "    \n",
    "    # 승리 조건 매핑\n",
    "    win_conditions = {\"가위\": \"보\", \"바위\": \"가위\", \"보\": \"바위\"}\n",
    "    \n",
    "    while True:\n",
    "        computer = random.choice(choices)\n",
    "        user = input(\">>> 가위,바위,보? (X로 종료): \")\n",
    "        \n",
    "        if user == \"X\":\n",
    "            break\n",
    "            \n",
    "        if user not in choices:\n",
    "            print(\"올바른 선택을 입력하세요!\")\n",
    "            continue\n",
    "            \n",
    "        stats[user] += 1\n",
    "        \n",
    "        if user == computer:\n",
    "            print(\"무승부\")\n",
    "        elif win_conditions[user] == computer:\n",
    "            print(f\"{user}:{computer}, 승리!\")\n",
    "            wins += 1\n",
    "        else:\n",
    "            print(f\"{user}:{computer}, 패배...\")\n",
    "    \n",
    "    # 결과 출력\n",
    "    total = sum(stats.values())\n",
    "    if total > 0:\n",
    "        print(f\"\"\"\n",
    "최종결과\n",
    "가위바위보 실행 횟수: {total}\n",
    "승리 횟수: {wins}\n",
    "\n",
    "가위 낸 횟수: {stats['가위']}\n",
    "바위 낸 횟수: {stats['바위']}\n",
    "보 낸 횟수: {stats['보']}\n",
    "\"\"\")\n",
    "\n",
    "if __name__ == \"__main__\":\n",
    "    play_rps()"
   ]
  },
  {
   "cell_type": "code",
   "execution_count": null,
   "id": "dfd3d859",
   "metadata": {},
   "outputs": [],
   "source": []
  }
 ],
 "metadata": {
  "kernelspec": {
   "display_name": ".venv",
   "language": "python",
   "name": "python3"
  },
  "language_info": {
   "codemirror_mode": {
    "name": "ipython",
    "version": 3
   },
   "file_extension": ".py",
   "mimetype": "text/x-python",
   "name": "python",
   "nbconvert_exporter": "python",
   "pygments_lexer": "ipython3",
   "version": "3.13.5"
  }
 },
 "nbformat": 4,
 "nbformat_minor": 5
}
