{
 "cells": [
  {
   "cell_type": "markdown",
   "id": "7a7590d8",
   "metadata": {},
   "source": [
    "# 모듈\n",
    "- 여러기능이 뭉쳐진 하나의 py 파일"
   ]
  },
  {
   "cell_type": "markdown",
   "id": "7de9a9ed",
   "metadata": {},
   "source": [
    "관련 실습은 상단 module_test폴더 내에서 작성\n"
   ]
  },
  {
   "cell_type": "code",
   "execution_count": 2,
   "id": "5d056f60",
   "metadata": {},
   "outputs": [
    {
     "name": "stdout",
     "output_type": "stream",
     "text": [
      "가위:보, 승리!\n",
      "무승부\n",
      "바위:가위, 승리!\n",
      "무승부\n",
      "바위:가위, 승리!\n",
      "바위:가위, 승리!\n",
      "보:가위, 패배...\n",
      "무승부\n",
      "가위:보, 승리!\n",
      "가위:바위, 패배...\n",
      "무승부\n",
      "바위:보, 패배...\n",
      "바위:가위, 승리!\n",
      "무승부\n",
      "무승부\n",
      "무승부\n",
      "\n",
      "최종결과\n",
      "가위바위보 실행 횟수: 16\n",
      "승리 횟수: 6\n",
      "\n",
      "가위 낸 횟수: 4\n",
      "바위 낸 횟수: 10\n",
      "보 낸 횟수: 2\n",
      "\n"
     ]
    }
   ],
   "source": [
    "# 기존 rockpaper 코드, 클로드와 함께 리팩터링한 결과\n",
    "\n",
    "import random\n",
    "\n",
    "def play_rps():\n",
    "    choices = [\"가위\", \"바위\", \"보\"]\n",
    "    wins = 0\n",
    "    stats = {\"가위\": 0, \"바위\": 0, \"보\": 0}\n",
    "    \n",
    "    # 승리 조건 매핑\n",
    "    win_conditions = {\"가위\": \"보\", \"바위\": \"가위\", \"보\": \"바위\"}\n",
    "    \n",
    "    while True:\n",
    "        computer = random.choice(choices)\n",
    "        user = input(\">>> 가위,바위,보? (X로 종료): \")\n",
    "        \n",
    "        if user == \"X\":\n",
    "            break\n",
    "            \n",
    "        if user not in choices:\n",
    "            print(\"올바른 선택을 입력하세요!\")\n",
    "            continue\n",
    "            \n",
    "        stats[user] += 1\n",
    "        \n",
    "        if user == computer:\n",
    "            print(\"무승부\")\n",
    "        elif win_conditions[user] == computer:\n",
    "            print(f\"{user}:{computer}, 승리!\")\n",
    "            wins += 1\n",
    "        else:\n",
    "            print(f\"{user}:{computer}, 패배...\")\n",
    "    \n",
    "    # 결과 출력\n",
    "    total = sum(stats.values())\n",
    "    if total > 0:\n",
    "        print(f\"\"\"\n",
    "최종결과\n",
    "가위바위보 실행 횟수: {total}\n",
    "승리 횟수: {wins}\n",
    "\n",
    "가위 낸 횟수: {stats['가위']}\n",
    "바위 낸 횟수: {stats['바위']}\n",
    "보 낸 횟수: {stats['보']}\n",
    "\"\"\")\n",
    "\n",
    "if __name__ == \"__main__\":\n",
    "    play_rps()"
   ]
  },
  {
   "cell_type": "markdown",
   "id": "31f1c1e4",
   "metadata": {},
   "source": [
    "# 2025.07.29"
   ]
  },
  {
   "cell_type": "code",
   "execution_count": 8,
   "id": "dfd3d859",
   "metadata": {},
   "outputs": [
    {
     "name": "stdout",
     "output_type": "stream",
     "text": [
      "1753752533.4000058\n",
      "Tue Jul 29 10:28:53 2025\n",
      "Thu Jan  1 09:00:00 1970\n",
      "시간지연: None\n"
     ]
    }
   ],
   "source": [
    "import time as t\n",
    "\n",
    "print(t.time()) # Unix 타임스탬프, 1970/1/1 부터 경과 초\n",
    "print(t.ctime())   # 현재시간\n",
    "print(t.ctime(0)) # 기준시 반환\n",
    "print(\"시간지연:\",t.sleep(1))"
   ]
  },
  {
   "cell_type": "code",
   "execution_count": 2,
   "id": "da2d6796",
   "metadata": {},
   "outputs": [
    {
     "name": "stdout",
     "output_type": "stream",
     "text": [
      "[2025/07/29] - [10|45|56]\n",
      "time.struct_time(tm_year=2025, tm_mon=7, tm_mday=29, tm_hour=10, tm_min=45, tm_sec=56, tm_wday=1, tm_yday=210, tm_isdst=-1)\n",
      "1\n",
      "2\n",
      "3\n",
      "수행시간: 0.91초\n"
     ]
    }
   ],
   "source": [
    "import time as t\n",
    "\n",
    "# 1. 현재 시간 가져오기\n",
    "now = t.localtime()\n",
    "\n",
    "# 2. 원하는 포맷으로 출력\n",
    "formatted = f\"[{now.tm_year}/{now.tm_mon:02d}/{now.tm_mday:02d}] - [{now.tm_hour:02d}|{now.tm_min:02d}|{now.tm_sec:02d}]\"\n",
    "print(formatted)\n",
    "\n",
    "# 3. 다시 struct_time으로 변환 (time.strptime 이용)\n",
    "# strptime 포맷에 맞게 문자열 만들기\n",
    "time_str = f\"{now.tm_year}/{now.tm_mon:02d}/{now.tm_mday:02d} {now.tm_hour:02d}:{now.tm_min:02d}:{now.tm_sec:02d}\"\n",
    "struct_time = t.strptime(time_str, \"%Y/%m/%d %H:%M:%S\")\n",
    "\n",
    "print(struct_time)\n",
    "\n",
    "# 4. 출력 예시 숫자\n",
    "print(1)\n",
    "print(2)\n",
    "print(3)\n",
    "\n",
    "# 5. 수행 시간 측정 예시\n",
    "start = t.time()\n",
    "t.sleep(0.91)  # 예시로 0.91초 대기\n",
    "end = t.time()\n",
    "print(f\"수행시간: {end - start:.2f}초\")\n"
   ]
  },
  {
   "cell_type": "code",
   "execution_count": null,
   "id": "68b26a1f",
   "metadata": {},
   "outputs": [],
   "source": []
  }
 ],
 "metadata": {
  "kernelspec": {
   "display_name": ".venv",
   "language": "python",
   "name": "python3"
  },
  "language_info": {
   "codemirror_mode": {
    "name": "ipython",
    "version": 3
   },
   "file_extension": ".py",
   "mimetype": "text/x-python",
   "name": "python",
   "nbconvert_exporter": "python",
   "pygments_lexer": "ipython3",
   "version": "3.13.5"
  }
 },
 "nbformat": 4,
 "nbformat_minor": 5
}
