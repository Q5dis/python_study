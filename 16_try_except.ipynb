{
 "cells": [
  {
   "cell_type": "markdown",
   "id": "73f08263",
   "metadata": {},
   "source": [
    "# 에러와 예외\n",
    "- 에러: 실행 전 발생, 프로그램이 실행 자체를 할 수 없게 만드는 치명적 문제\n",
    "- 예외: 실행 중 발생, 코드가 특정 상황에서 동작을 멈추는 것 \n"
   ]
  },
  {
   "cell_type": "code",
   "execution_count": null,
   "id": "a50b4f8d",
   "metadata": {},
   "outputs": [
    {
     "name": "stdout",
     "output_type": "stream",
     "text": [
      "숫자가 아님\n",
      "자 숫자 잘 느셨으니 계산 해볼게요\n",
      "0으로 나눌 수 없음\n",
      "자 숫자 잘 느셨으니 계산 해볼게요\n",
      "1.0\n"
     ]
    }
   ],
   "source": [
    "for i in range(3):\n",
    "    try:\n",
    "        num=int(input())\n",
    "        print(\"자 숫자 잘 느셨으니 계산 해볼게요\")\n",
    "        print(int(10/num))\n",
    "    except ValueError:\n",
    "        print(\"숫자가 아님\")\n",
    "    except ZeroDivisionError:\n",
    "        print(\"뭐야이건 0이잖아 계산못해줘\")"
   ]
  },
  {
   "cell_type": "code",
   "execution_count": null,
   "id": "5bdb5b5b",
   "metadata": {},
   "outputs": [],
   "source": []
  }
 ],
 "metadata": {
  "kernelspec": {
   "display_name": ".venv",
   "language": "python",
   "name": "python3"
  },
  "language_info": {
   "codemirror_mode": {
    "name": "ipython",
    "version": 3
   },
   "file_extension": ".py",
   "mimetype": "text/x-python",
   "name": "python",
   "nbconvert_exporter": "python",
   "pygments_lexer": "ipython3",
   "version": "3.13.5"
  }
 },
 "nbformat": 4,
 "nbformat_minor": 5
}
