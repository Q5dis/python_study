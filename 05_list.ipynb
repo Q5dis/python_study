{
 "cells": [
  {
   "cell_type": "markdown",
   "id": "9033aa77",
   "metadata": {},
   "source": [
    "# 리스트"
   ]
  },
  {
   "cell_type": "markdown",
   "id": "21cf2340",
   "metadata": {},
   "source": [
    "이터러블 iterable: 반복(=iteration)이 가능한 객체의 총칭, for 루프에 사용할 수 있는 모든 개체.\n",
    "\"반복할 수 있는 성질\"\n",
    "\n",
    "ㄴ 재너레이터 Generator: 값을 하나씩 생성하며 반복가능한 객체를 만드는 \"함수 또는 표현식\"\n",
    "\n",
    "ㄴ 컬렉션 Collection: 여러 개의 데이터를 하나의 변수에 묶어서 저장할 수 있는 \"자료의 총칭.\" 모든 컬렉션은 이터러블이다.\n",
    "\n",
    "ㄴ 시퀀스: 컬렉션 중 \"순서가 있는\" 자료형\n",
    "\n",
    "\n",
    "\n",
    "#### 리스트? list\n",
    "> 여러 값을 순서대로 저장할 수 있는 자료형.\n",
    "- 가변 자료형(mutable): 요소의 추가/수정/삭제가 자유로움\n",
    "- 문자열은 불변자료형.\n",
    "\n",
    "#### 인덱스 index\n",
    "- 인덱스(index): 리스트를 구성하는 원소에 부여된 순서번호. 인덱스로 각 원소에 접근가능\n",
    "- 모든 인덱스는 0번부터 출발한다.\n",
    "- 인덱싱 (indexing): 인덱스를 통해 값을 조회\n",
    "- 음수 인덱스: 뒤에서부터 자료에 접근\n"
   ]
  },
  {
   "cell_type": "code",
   "execution_count": null,
   "id": "2ee993bd",
   "metadata": {},
   "outputs": [
    {
     "name": "stdout",
     "output_type": "stream",
     "text": [
      "['t', 'e', 's', 't', 'i', 'n', 'g']\n",
      "순서대로 조회:  1\n",
      "역순으로 조회:  5\n",
      "[1, 2, 3, 40, 5]\n",
      "y\n"
     ]
    }
   ],
   "source": [
    "\n",
    "list1=[\"hi\",\"hello\",\"goodbye\"]\n",
    "# 리스트의 생성 모습.\n",
    "# 쉼표로 원소를 구분\n",
    "list2=[123,\"good morning\",5.16]\n",
    "# 파이썬은 여러 자료형을 하나의 리스트에 저장 가능\n",
    "llist3=[1,2,3,[1,2,3]]\n",
    "# 리스트 내부에 리스트도 저장 가능\n",
    "\n",
    "\n",
    "# 리스트 생성함수?\n",
    "list4=list()\n",
    "#빈 리스트 생성\n",
    "list5=list(\"testing\")\n",
    "print(list5)\n",
    "\n",
    "\n",
    "#리스트 생성\n",
    "list6=[1,2,3,4,5]\n",
    "\n",
    "#인덱싱 조회\n",
    "print(\"순서대로 조회: \",list6[0])\n",
    "print(\"역순으로 조회: \", list6[-1])\n",
    "\n",
    "#인덱스로 원소에 접근해 리스트 값 변경\n",
    "list6[3]=40\n",
    "print(list6)\n",
    "\n",
    "#문자열 인덱싱\n",
    "list_str=\"heyaa\"\n",
    "print(list_str[2])\n",
    "#불변자료형이기 때문에 원소를 바꿀 순 없다."
   ]
  },
  {
   "cell_type": "code",
   "execution_count": 20,
   "id": "fbdd5a3c",
   "metadata": {},
   "outputs": [
    {
     "name": "stdout",
     "output_type": "stream",
     "text": [
      "천의 자리:  1 백의 자리:  2 십의 자리:  3 일의 자리:  4\n"
     ]
    }
   ],
   "source": [
    "num=input(\"네 자릿수 정수를 입력: \")\n",
    "print(\"천의 자리: \",num[0],\n",
    "      \"백의 자리: \",num[1],\n",
    "      \"십의 자리: \",num[2],\n",
    "      \"일의 자리: \",num[3])"
   ]
  },
  {
   "cell_type": "code",
   "execution_count": null,
   "id": "a4d6e7b4",
   "metadata": {},
   "outputs": [
    {
     "name": "stdout",
     "output_type": "stream",
     "text": [
      "[10, 20, 100, 400, 50, 60, 70, 80, 90, 100]\n"
     ]
    }
   ],
   "source": [
    "# 슬라이싱\n",
    "# 시퀀스에서 특정 구간을 잘라내서 추출하는 법\n",
    "# 원본은 그대로, 새로운 시퀀스를 생성\n",
    "# 문법>>> 시퀀스[시작:끝:간격]\n",
    "\n",
    "list_slice=[10,20,30,40,50,60,70,80,90,100]\n",
    "list_slice[1:4] #1번 인덱스부터 3번 인덱스까지\n",
    "list_slice[3:] #3번 인덱스부터 쭉\n",
    "list_slice[:4] #3번 인덱스까지\n",
    "\n",
    "# 앞부분 자를 땐 0 부터 카운트\n",
    "# 뒷부분은 1부터 카운트\n",
    "# 이유? 인덱스는 담긴 칸 자체가 아니라 그 원소를 시작하는 부분에 위치함\n",
    "\n",
    "sliced=list_slice[:4]\n",
    "list_slice[1: :2] #1번 인덱스 부터 끝까지 2칸의 간격을 두고 출력\n",
    "\n",
    "list_slice[:] #리스트의 사본 만들기\n",
    "list_slice[::-1] #리스트를 역순으로 복제\n",
    "\n",
    "list_slice[2:4]=[100,400] #2번 인덱스와 3번인덱스 값을 변경\n",
    "print(list_slice)\n"
   ]
  },
  {
   "cell_type": "code",
   "execution_count": 45,
   "id": "d6bce376",
   "metadata": {},
   "outputs": [
    {
     "data": {
      "text/plain": [
       "[100, 200]"
      ]
     },
     "execution_count": 45,
     "metadata": {},
     "output_type": "execute_result"
    }
   ],
   "source": [
    "# 리스트에 값 추가하기\n",
    "list_add=[]\n",
    "list_add.append(100)\n",
    "list_add.append(200)\n",
    "list_add"
   ]
  },
  {
   "cell_type": "code",
   "execution_count": null,
   "id": "40149636",
   "metadata": {},
   "outputs": [],
   "source": []
  }
 ],
 "metadata": {
  "kernelspec": {
   "display_name": ".venv",
   "language": "python",
   "name": "python3"
  },
  "language_info": {
   "codemirror_mode": {
    "name": "ipython",
    "version": 3
   },
   "file_extension": ".py",
   "mimetype": "text/x-python",
   "name": "python",
   "nbconvert_exporter": "python",
   "pygments_lexer": "ipython3",
   "version": "3.13.5"
  }
 },
 "nbformat": 4,
 "nbformat_minor": 5
}
