{
 "cells": [
  {
   "cell_type": "markdown",
   "id": "9033aa77",
   "metadata": {},
   "source": [
    "# 리스트"
   ]
  },
  {
   "cell_type": "markdown",
   "id": "21cf2340",
   "metadata": {},
   "source": [
    "이터러블 iterable: 반복(=iteration)이 가능한 객체의 총칭, for 루프에 사용할 수 있는 모든 개체.\n",
    "\"반복할 수 있는 성질\"\n",
    "\n",
    "ㄴ 재너레이터 Generator: 값을 하나씩 생성하며 반복가능한 객체를 만드는 \"함수 또는 표현식\"\n",
    "\n",
    "ㄴ 컬렉션 Collection: 여러 개의 데이터를 하나의 변수에 묶어서 저장할 수 있는 \"자료의 총칭.\" 모든 컬렉션은 이터러블이다.\n",
    "\n",
    "ㄴ 시퀀스: 컬렉션 중 \"순서가 있는\" 자료형\n",
    "\n",
    "\n",
    "\n",
    "#### 리스트? list\n",
    "> 여러 값을 순서대로 저장할 수 있는 자료형.\n",
    "- 가변 자료형(mutable): 요소의 추가/수정/삭제가 자유로움\n",
    "- 문자열은 불변자료형.\n",
    "\n",
    "#### 인덱스 index\n",
    "- 인덱스(index): 리스트를 구성하는 원소에 부여된 순서번호. 인덱스로 각 원소에 접근가능\n",
    "- 모든 인덱스는 0번부터 출발한다.\n",
    "- 인덱싱 (indexing): 인덱스를 통해 값을 조회\n",
    "- 음수 인덱스: 뒤에서부터 자료에 접근\n"
   ]
  },
  {
   "cell_type": "code",
   "execution_count": null,
   "id": "2ee993bd",
   "metadata": {},
   "outputs": [
    {
     "name": "stdout",
     "output_type": "stream",
     "text": [
      "['t', 'e', 's', 't', 'i', 'n', 'g']\n",
      "순서대로 조회:  1\n",
      "역순으로 조회:  5\n",
      "[1, 2, 3, 40, 5]\n",
      "y\n"
     ]
    }
   ],
   "source": [
    "\n",
    "list1=[\"hi\",\"hello\",\"goodbye\"]\n",
    "# 리스트의 생성 모습.\n",
    "# 쉼표로 원소를 구분\n",
    "list2=[123,\"good morning\",5.16]\n",
    "# 파이썬은 여러 자료형을 하나의 리스트에 저장 가능\n",
    "llist3=[1,2,3,[1,2,3]]\n",
    "# 리스트 내부에 리스트도 저장 가능\n",
    "\n",
    "\n",
    "# 리스트 생성함수?\n",
    "list4=list()\n",
    "#빈 리스트 생성\n",
    "list5=list(\"testing\")\n",
    "print(list5)\n",
    "\n",
    "\n",
    "#리스트 생성\n",
    "list6=[1,2,3,4,5]\n",
    "\n",
    "#인덱싱 조회\n",
    "print(\"순서대로 조회: \",list6[0])\n",
    "print(\"역순으로 조회: \", list6[-1])\n",
    "\n",
    "#인덱스로 원소에 접근해 리스트 값 변경\n",
    "list6[3]=40\n",
    "print(list6)\n",
    "\n",
    "#문자열 인덱싱\n",
    "list_str=\"heyaa\"\n",
    "print(list_str[2])\n",
    "#불변자료형이기 때문에 원소를 바꿀 순 없다."
   ]
  },
  {
   "cell_type": "code",
   "execution_count": 20,
   "id": "fbdd5a3c",
   "metadata": {},
   "outputs": [
    {
     "name": "stdout",
     "output_type": "stream",
     "text": [
      "천의 자리:  1 백의 자리:  2 십의 자리:  3 일의 자리:  4\n"
     ]
    }
   ],
   "source": [
    "num=input(\"네 자릿수 정수를 입력: \")\n",
    "print(\"천의 자리: \",num[0],\n",
    "      \"백의 자리: \",num[1],\n",
    "      \"십의 자리: \",num[2],\n",
    "      \"일의 자리: \",num[3])"
   ]
  },
  {
   "cell_type": "code",
   "execution_count": null,
   "id": "a4d6e7b4",
   "metadata": {},
   "outputs": [
    {
     "name": "stdout",
     "output_type": "stream",
     "text": [
      "[10, 20, 100, 400, 50, 60, 70, 80, 90, 100]\n"
     ]
    }
   ],
   "source": [
    "# 슬라이싱\n",
    "# 시퀀스에서 특정 구간을 잘라내서 추출하는 법\n",
    "# 원본은 그대로, 새로운 시퀀스를 생성\n",
    "# 문법>>> 시퀀스[시작:끝:간격]\n",
    "\n",
    "list_slice=[10,20,30,40,50,60,70,80,90,100]\n",
    "list_slice[1:4] #1번 인덱스부터 3번 인덱스까지\n",
    "list_slice[3:] #3번 인덱스부터 쭉\n",
    "list_slice[:4] #3번 인덱스까지\n",
    "\n",
    "# 앞부분 자를 땐 0 부터 카운트\n",
    "# 뒷부분은 1부터 카운트\n",
    "# 이유? 인덱스는 담긴 칸 자체가 아니라 그 원소를 시작하는 부분에 위치함\n",
    "\n",
    "sliced=list_slice[:4]\n",
    "list_slice[1: :2] #1번 인덱스 부터 끝까지 2칸의 간격을 두고 출력\n",
    "\n",
    "list_slice[:] #리스트의 사본 만들기\n",
    "list_slice[::-1] #리스트를 역순으로 복제\n",
    "\n",
    "list_slice[2:4]=[100,400] #2번 인덱스와 3번인덱스 값을 변경\n",
    "print(list_slice)\n"
   ]
  },
  {
   "cell_type": "code",
   "execution_count": 45,
   "id": "d6bce376",
   "metadata": {},
   "outputs": [
    {
     "data": {
      "text/plain": [
       "[100, 200]"
      ]
     },
     "execution_count": 45,
     "metadata": {},
     "output_type": "execute_result"
    }
   ],
   "source": [
    "# 리스트에 값 추가하기\n",
    "list_add=[]\n",
    "list_add.append(100)\n",
    "list_add.append(200)\n",
    "list_add"
   ]
  },
  {
   "cell_type": "code",
   "execution_count": 49,
   "id": "40149636",
   "metadata": {},
   "outputs": [
    {
     "name": "stdout",
     "output_type": "stream",
     "text": [
      "[10] [50]\n",
      "[300, 400, 500]\n",
      "[2, 4, 6, 8, 10]\n"
     ]
    }
   ],
   "source": [
    "# 리스트 복습 \n",
    "\n",
    "# 처음과 마지막만 출력\n",
    "nums=[10,20,30,40,50]\n",
    "print(nums[:1], nums[-1:])\n",
    "\n",
    "# 가운데만 출력\n",
    "nums=[100,200,300,400,500,600,700]\n",
    "print(nums[2:5])\n",
    "\n",
    "# 리스트 원소 두배하기\n",
    "nums=[1,2,3,4,5]\n",
    "for i in range(len(nums)):\n",
    "    nums[i]=nums[i]*2\n",
    "print(nums)\n"
   ]
  },
  {
   "cell_type": "code",
   "execution_count": null,
   "id": "3f2b35d1",
   "metadata": {},
   "outputs": [
    {
     "name": "stdout",
     "output_type": "stream",
     "text": [
      "['e', 'd', 'c', 'b', 'a']\n",
      "['zero', 'two', 'four']\n",
      "['인셉션', '인터스텔라', '매트릭스', '타이타닉', '라라랜드', '기생충']\n"
     ]
    }
   ],
   "source": [
    "# 리스트 역순출력\n",
    "items=[\"a\",\"b\",\"c\",\"d\",\"e\"]\n",
    "print(items[::-1])\n",
    "\n",
    "# 0과 짝수만 출력\n",
    "data=[\"zero\",\"one\",\"two\",\"three\",\"four\",\"five\"]\n",
    "print(data[::2])\n",
    "\n",
    "# 중간값 바꾸기 \n",
    "movies=[\"인셉션\",\"인터스텔라\",\"어벤져스\",\"라라랜드\",\"기생충\"]\n",
    "movies[2:3]=[\"매트릭스\",\"타이타닉\"]\n",
    "print(movies)"
   ]
  },
  {
   "cell_type": "code",
   "execution_count": null,
   "id": "35a2a67a",
   "metadata": {},
   "outputs": [
    {
     "name": "stdout",
     "output_type": "stream",
     "text": [
      "['물리', '생물', '지구과학']\n",
      "['C', 'B', 'A'] ['F', 'E', 'D'] ['I', 'H', 'G']\n"
     ]
    }
   ],
   "source": [
    "# 물 생 지 만 골라출력하기\n",
    "subjects=[\"국어\",\"수학\",\"영어\",\"물리\",\"화학\",\"생물\",\"역사\",\"지구과학\",\"윤리\"]\n",
    "print(subjects[3:8:2])\n",
    "# 핵십은 시작:끝:간격... 마지막에 -1을 사용시 역순으로\n",
    "\n",
    "# 얘는 모르겠음...\n",
    "# 분리한 다음 역순으로 출력\n",
    "data=[\"A\",\"B\",\"C\",\"D\",\"E\",\"F\",\"G\",\"H\",\"I\"]\n",
    "print(data[0:3:][::-1], data[3:6:][::-1], data[6:9][::-1])\n",
    "# 여기서 보아하니 여러개의 []를 리스트 슬라이싱에 사용 가능한가보구나"
   ]
  },
  {
   "cell_type": "code",
   "execution_count": null,
   "id": "5c529c29",
   "metadata": {},
   "outputs": [],
   "source": [
    "# 범위에서 벗어난 인덱스를 입력할 경우 index out of range 에러 발생\n",
    "# step 에 양수를 넣었는데 start에서 end를 감소시키면 빈리스트 반환\n",
    "# step에 음수를 넣었는데 start에서 end를 증가시키면 빈 리스트 반환\n"
   ]
  },
  {
   "cell_type": "code",
   "execution_count": 58,
   "id": "1edb9ebe",
   "metadata": {},
   "outputs": [
    {
     "name": "stdout",
     "output_type": "stream",
     "text": [
      "[10, 20, 40, 50]\n",
      "[10, 50]\n"
     ]
    }
   ],
   "source": [
    "my_list=[10,20,30,40,50]\n",
    "del my_list[2]\n",
    "print(my_list)\n",
    "#2번에 해당하는 요소를 삭제\n",
    "\n",
    "my_list=[10,20,30,40,50]\n",
    "del my_list[1:4]\n",
    "print(my_list)\n",
    "#20,40삭제\n",
    "\n",
    "my_list=[10,20,30,40,50]\n",
    "del my_list\n",
    "#리스트 삭제"
   ]
  },
  {
   "cell_type": "code",
   "execution_count": null,
   "id": "58fa90b6",
   "metadata": {},
   "outputs": [
    {
     "name": "stdout",
     "output_type": "stream",
     "text": [
      "['가', '나', '다', '라', '마', '바']\n",
      "['가', '나', '다']\n",
      "['라', '마', '바']\n"
     ]
    }
   ],
   "source": [
    "my_list=[\"가\",\"나\",\"다\"]\n",
    "my_list2=[\"라\",\"마\",\"바\"]\n",
    "\n",
    "#원본리스트를 해치지 않고 새로운 리스트를 반환\n",
    "my_list3=my_list+my_list2\n",
    "print(my_list3,my_list,my_list2,sep=\"\\n\")"
   ]
  },
  {
   "cell_type": "code",
   "execution_count": 64,
   "id": "ce688584",
   "metadata": {},
   "outputs": [
    {
     "name": "stdout",
     "output_type": "stream",
     "text": [
      "['금', '은', '동', '금', '은', '동', '금', '은', '동']\n",
      "['금', '은', '동']\n",
      "['금', '은', '동', '금', '은', '동', '금', '은', '동']\n"
     ]
    }
   ],
   "source": [
    "# 리스트 반복 \n",
    "\n",
    "my_list=[\"금\",\"은\",\"동\"]\n",
    "print(my_list*3)\n",
    "\n",
    "my_list=[\"금\",\"은\",\"동\"]\n",
    "new_list=my_list*3\n",
    "print(my_list,new_list,sep=\"\\n\")\n",
    "\n"
   ]
  },
  {
   "cell_type": "code",
   "execution_count": 72,
   "id": "dbaa1176",
   "metadata": {},
   "outputs": [
    {
     "name": "stdout",
     "output_type": "stream",
     "text": [
      "True\n",
      "False\n",
      "용과 있다네\n",
      "바나나 없다네\n"
     ]
    }
   ],
   "source": [
    "fruits=[\"사과\",\"딸기\",\"포도\",\"토마토\",\"용과\"]\n",
    "print(\"용과\" in fruits)\n",
    "print(\"용과\" not in fruits)\n",
    "\n",
    "if \"용과\" in fruits:\n",
    "    print(\"용과 있다네\")\n",
    "else:\n",
    "    print(\"용과 없다네\")\n",
    "\n",
    "if \"바나나\" in fruits:\n",
    "    print(\"바나나 있다네\")\n",
    "else:\n",
    "    print(\"바나나 없다네\")\n"
   ]
  },
  {
   "cell_type": "code",
   "execution_count": 77,
   "id": "2b227803",
   "metadata": {},
   "outputs": [
    {
     "name": "stdout",
     "output_type": "stream",
     "text": [
      "['apple', 'watermelon', 'strawberry']\n",
      "['A', 'B', 'B', 'A', 'B']\n"
     ]
    }
   ],
   "source": [
    "fruits=[\"apple\",\"banana\",\"cherry\",\"grape\",\"watermelon\",\"strawberry\"]\n",
    "result=fruits\n",
    "del fruits[1:4]\n",
    "print(result)\n",
    "\n",
    "letters=[\"A\",\"B\"]\n",
    "letters*=3\n",
    "del letters[2]\n",
    "print(letters)\n"
   ]
  },
  {
   "cell_type": "code",
   "execution_count": 96,
   "id": "fbadf0e4",
   "metadata": {},
   "outputs": [
    {
     "name": "stdout",
     "output_type": "stream",
     "text": [
      "1. len(): 길이체크 함수\n",
      "3\n",
      "10\n",
      "내부에 작성하기 때문에 함수\n",
      "2. append(): 리스트 끝에 추가\n",
      "[1, 2, 3, 4, 5, 6, 7, 8, 9, 10, 11]\n",
      "리스트 뒤에 .을 찍고 작성했기 때문에 메써드이다.\n",
      "3. insert: 특정 원소 위치에 값을 삽입\n",
      "[0, 1, 2, 2.5, 3, 3.5, 4, 5, 6, 7, 8, 9, 10, 11]\n",
      "4. remove: 특정한 '값' 삭제. 같은 값이 두 개일 경우 앞의 원소를 지움\n",
      "[1, 2, 3, 4, 5, 6, 7, 8, 9, 10, 11]\n",
      "5. pop: '인덱스'로 삭제. 인덱스 지정하지 않을 시 맨 마지막 원소를 삭제\n",
      "삭제한 요소를 반환하는 특징\n",
      "[1, 2, 3, 4, 5, 6, 7, 8, 9, 10]\n"
     ]
    }
   ],
   "source": [
    "nums=[1,2,3,4,5,6,7,8,9,10]\n",
    "\n",
    "print(\"1. len(): 길이체크 함수\")\n",
    "print(len(\"cat\"))\n",
    "print(len(nums))\n",
    "print(\"내부에 작성하기 때문에 함수\")\n",
    "\n",
    "print(\"2. append(): 리스트 끝에 추가\")\n",
    "nums.append(11)\n",
    "print(nums)\n",
    "print(\"리스트 뒤에 .을 찍고 작성했기 때문에 메써드이다.\")\n",
    "\n",
    "print(\"3. insert: 특정 원소 위치에 값을 삽입\")\n",
    "nums.insert(2,2.5)\n",
    "nums.insert(4,3.5)\n",
    "nums.insert(0,0)\n",
    "print(nums)\n",
    "\n",
    "print(\"4. remove: 특정한 '값' 삭제. 같은 값이 두 개일 경우 앞의 원소를 지움\")\n",
    "nums.remove(2.5)\n",
    "nums.remove(3.5)\n",
    "nums.remove(0)\n",
    "print(nums)\n",
    "\n",
    "print(\"5. pop: '인덱스'로 삭제. 인덱스 지정하지 않을 시 맨 마지막 원소를 삭제\\n삭제한 요소를 반환하는 특징\")\n",
    "nums.pop()\n",
    "print(nums)"
   ]
  },
  {
   "cell_type": "code",
   "execution_count": null,
   "id": "e4b28557",
   "metadata": {},
   "outputs": [
    {
     "name": "stdout",
     "output_type": "stream",
     "text": [
      "6. extend: 리스트 끝에 여러 요소 추가\n",
      "['사과', '배', '포도', '수박', '딸', '기']\n"
     ]
    }
   ],
   "source": [
    "print(\"6. extend: 이터러블을 추가.\")\n",
    "fruits=[\"사과\",\"배\"]\n",
    "fruits.extend([\"포도\",\"수박\"])\n",
    "\n",
    "fruits.extend(\"딸기\")\n",
    "print(fruits)\n",
    "\n",
    "# 딸기가 분리된 이유: 문자열 그자체는 딸, 기 각자 하나의 원소이기 때문."
   ]
  },
  {
   "cell_type": "code",
   "execution_count": 121,
   "id": "7418f099",
   "metadata": {},
   "outputs": [
    {
     "name": "stdout",
     "output_type": "stream",
     "text": [
      "7-1. sort(): 원본 리스트를 기본 오름차순으로 정렬. reverse=True옵션을 붙이면 역순으로\n",
      "[1, 2, 3, 4] ['라', '다', '나', '가']\n",
      "7-2. sorted: 정렬된 '새로운'리스트를 반환. sort는 리스트 자체를 변환한단 점에서 차이\n",
      "[1, 2, 3, 4] [4, 3, 2, 1]\n",
      "['가', '나', '다', '라']\n",
      "8. reverse, reversed: sort와 같은 용법으로 reverse는 원본을 변환, reversed는 새로운 리스트를 반환\n",
      "[10, 20, 30, 40, 50]\n",
      "[50, 40, 30, 20, 10]\n"
     ]
    }
   ],
   "source": [
    "del list\n",
    "\n",
    "print(\"7-1. sort(): 원본 리스트를 기본 오름차순으로 정렬. reverse=True옵션을 붙이면 역순으로\")\n",
    "nums=[3,2,1,4]\n",
    "nums.sort()\n",
    "chars=[\"가\",\"라\",\"나\",\"다\"]\n",
    "chars.sort(reverse=True)\n",
    "print(nums, chars)\n",
    "\n",
    "print(\"7-2. sorted: 정렬된 '새로운'리스트를 반환. sort는 리스트 자체를 변환한단 점에서 차이\")\n",
    "print(nums, sorted(nums, reverse=True))\n",
    "# sorted 역시 reverse를 사용할 수 있다.\n",
    "re_char=sorted(chars)\n",
    "print(re_char)\n",
    "\n",
    "print(\"8. reverse, reversed: sort와 같은 용법으로 reverse는 원본을 변환, reversed는 새로운 리스트를 반환\")\n",
    "nums=[50,40,30,20,10]\n",
    "nums.reverse()\n",
    "print(nums)\n",
    "new_nums=list(reversed(nums))\n",
    "print(new_nums)"
   ]
  },
  {
   "cell_type": "code",
   "execution_count": 127,
   "id": "51db61fa",
   "metadata": {},
   "outputs": [
    {
     "name": "stdout",
     "output_type": "stream",
     "text": [
      "9. count: '값'의 계수 세기\n",
      "4\n",
      "10. min(list), max(list): 최솟값, 최댓값\n",
      "1 100\n",
      "11. sum(list): 요소들의 합 구하기\n",
      "55\n"
     ]
    }
   ],
   "source": [
    "print(\"9. count: '값'의 계수 세기\")\n",
    "nums=[1,1,3,3,3,3]\n",
    "print(nums.count(3))\n",
    "\n",
    "print(\"10. min(list), max(list): 최솟값, 최댓값\")\n",
    "nums=[100,20,1,60]\n",
    "print(min(nums), max(nums))\n",
    "\n",
    "print(\"11. sum(list): 요소들의 합 구하기\")\n",
    "nums=[1,2,3,4,5,6,7,8,9,10]\n",
    "print(sum(nums))"
   ]
  },
  {
   "cell_type": "code",
   "execution_count": 133,
   "id": "18e358bf",
   "metadata": {},
   "outputs": [
    {
     "name": "stdout",
     "output_type": "stream",
     "text": [
      "['지훈', '철수', '수진']\n"
     ]
    }
   ],
   "source": [
    "# 실습 문제\n",
    "train=[]\n",
    "# 철수 영희 탑승\n",
    "train.append(\"철수\")\n",
    "train.append(\"영희\")\n",
    "# 민수 지훈 탑승\n",
    "train.append(\"민수\")\n",
    "train.append(\"지훈\")\n",
    "# 영희 하차\n",
    "train.remove(\"영희\")\n",
    "# 수진 1번석\n",
    "train.insert(0,\"수진\")\n",
    "# 민수 하차, 기차 뒤집기\n",
    "train.remove(\"민수\")\n",
    "\n",
    "print(list(reversed(train)))"
   ]
  },
  {
   "cell_type": "code",
   "execution_count": 3,
   "id": "9b184b44",
   "metadata": {},
   "outputs": [
    {
     "name": "stdout",
     "output_type": "stream",
     "text": [
      "큰 수: 9, 작은 수: 3\n",
      "총합: 28\n",
      "최종: [3, 4, 5, 7]\n"
     ]
    }
   ],
   "source": [
    "\n",
    "# 스타트\n",
    "num_game=[5,3,7]\n",
    "# 숫자 추가\n",
    "num_game.append(4)\n",
    "num_game.append(9)\n",
    "\n",
    "print(f\"큰 수: {max(num_game)}, 작은 수: {min(num_game)}\")\n",
    "print(f\"총합: {sum(num_game)}\")\n",
    "\n",
    "num_game.sort()\n",
    "num_game.pop()\n",
    "print(f\"최종: {num_game}\")\n"
   ]
  },
  {
   "cell_type": "code",
   "execution_count": null,
   "id": "b4908539",
   "metadata": {},
   "outputs": [],
   "source": []
  }
 ],
 "metadata": {
  "kernelspec": {
   "display_name": ".venv",
   "language": "python",
   "name": "python3"
  },
  "language_info": {
   "codemirror_mode": {
    "name": "ipython",
    "version": 3
   },
   "file_extension": ".py",
   "mimetype": "text/x-python",
   "name": "python",
   "nbconvert_exporter": "python",
   "pygments_lexer": "ipython3",
   "version": "3.13.5"
  }
 },
 "nbformat": 4,
 "nbformat_minor": 5
}
