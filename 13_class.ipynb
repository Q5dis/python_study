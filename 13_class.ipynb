{
 "cells": [
  {
   "cell_type": "markdown",
   "id": "efd70ef3",
   "metadata": {},
   "source": [
    "# Class\n",
    "- 데이터(속성)과 기능(메서드)를 하나로 묶는 구조"
   ]
  },
  {
   "cell_type": "code",
   "execution_count": 32,
   "id": "70ec99ae",
   "metadata": {},
   "outputs": [],
   "source": [
    "# 오브젝트는 생성된 데이터들, 인스턴스는 그 중 특정한 하나를 가리킴\n",
    "\n",
    "\n",
    "class ClassName:\n",
    "    def __init__(self,name,age,address,hobby):\n",
    "        # 생성자 Constructor\n",
    "        # 인스턴스가 생성될 때 호출\n",
    "        self.name=name # 인스턴스 변수\n",
    "        # self= 생성된 인스턴스 자기 자신을 가리킴\n",
    "        self.age=age\n",
    "        self.address=address\n",
    "        self.hobby=hobby\n",
    "        \n",
    "        # 하나의 클래스에는 하나의 init만.\n",
    "        # init은 클래스 내에서만 사용할 변수를 지정하는 메서드?\n",
    "\n",
    "    # (인스턴스) 메소드???  \n",
    "    def tell_all_info(self):\n",
    "        print(f\"지금부터 제 개인정보를 다 넘기도록 하겠습니다. \\n저는 {self.name}, {self.age}살, \\n주소는 {self.address}, 취미는 {self.hobby}\")\n",
    "    def add_age(self):\n",
    "        print(f\"내년에는 {self.age+1}살이 됩니다.\")\n"
   ]
  },
  {
   "cell_type": "code",
   "execution_count": 33,
   "id": "31f072cf",
   "metadata": {},
   "outputs": [
    {
     "name": "stdout",
     "output_type": "stream",
     "text": [
      "지금부터 제 개인정보를 다 넘기도록 하겠습니다. \n",
      "저는 김병식, 50살, \n",
      "주소는 해피특별시, 취미는 조기축구\n",
      "내년에는 51살이 됩니다.\n",
      "\n",
      "지금부터 제 개인정보를 다 넘기도록 하겠습니다. \n",
      "저는 전순자, 39살, \n",
      "주소는 동동광역시, 취미는 데드리프트\n",
      "내년에는 40살이 됩니다.\n",
      "\n",
      "지금부터 제 개인정보를 다 넘기도록 하겠습니다. \n",
      "저는 나서스, 3000살, \n",
      "주소는 슈리마, 취미는 스택쌓기\n",
      "내년에는 3001살이 됩니다.\n"
     ]
    }
   ],
   "source": [
    "# 인스턴스의 생성\n",
    "person1=ClassName(\"김병식\",50,\"해피특별시\",\"조기축구\")\n",
    "person1.tell_all_info()\n",
    "person1.add_age()\n",
    "\n",
    "print(\"\")\n",
    "\n",
    "person2=ClassName(\"전순자\",39,\"동동광역시\",\"데드리프트\")\n",
    "person2.tell_all_info()\n",
    "person2.add_age()\n",
    "\n",
    "print(\"\")\n",
    "\n",
    "person2=ClassName(\"나서스\",3000,\"슈리마\",\"스택쌓기\")\n",
    "person2.tell_all_info()\n",
    "person2.add_age()\n"
   ]
  },
  {
   "cell_type": "code",
   "execution_count": 84,
   "id": "f1c56eaa",
   "metadata": {},
   "outputs": [
    {
     "name": "stdout",
     "output_type": "stream",
     "text": [
      "-책정보-\n",
      "제목: happy\n",
      "지은이: lulu\n",
      "전체페이지수: 150\n",
      "\n",
      "현재 페이지를 읽음. 현재 90쪽\n",
      "지금껏 내가 읽은 양: 90/150, 60.0%\n",
      "현재 페이지를 읽음. 현재 140쪽\n",
      "지금껏 내가 읽은 양: 140/150, 93.3%\n",
      "완독해서 읽을 수 없습니다\n"
     ]
    }
   ],
   "source": [
    "class book:\n",
    "    def __init__(self,title,author,total_pages,current_page):\n",
    "        self.title=title\n",
    "        self.author=author\n",
    "        self.total_pages=total_pages\n",
    "        self.current_page=current_page\n",
    "\n",
    "    def info(self):\n",
    "        print(f\"-책정보-\\n제목: {self.title}\\n지은이: {self.author}\\n전체페이지수: {self.total_pages}\")\n",
    "\n",
    "    def read_page(self, pages):\n",
    "        curs= self.current_page+pages\n",
    "        if curs>self.total_pages:\n",
    "            print(\"완독해서 읽을 수 없습니다\")\n",
    "            self.current_page=self.total_pages\n",
    "        else:\n",
    "            self.current_page+=pages\n",
    "            print(f\"현재 페이지를 읽음. 현재 {self.current_page}쪽\")\n",
    "        \n",
    "    \n",
    "    def progress(self):\n",
    "        tots=self.total_pages\n",
    "        curs=self.current_page\n",
    "        if curs>=tots:\n",
    "            print(\"지금껏 내가 읽은 양: 100%\")\n",
    "        else:\n",
    "            print(f\"지금껏 내가 읽은 양: {curs}/{tots}, {(round((curs/tots)*100,1))}%\")\n",
    "\n",
    "happy=book(\"happy\",\"lulu\",150,40)\n",
    "happy.info()\n",
    "print(\"\")\n",
    "happy.read_page(50)\n",
    "happy.progress()\n",
    "happy.read_page(50)\n",
    "happy.progress()\n",
    "happy.read_page(50)"
   ]
  },
  {
   "cell_type": "code",
   "execution_count": 95,
   "id": "c00b1853",
   "metadata": {},
   "outputs": [
    {
     "name": "stdout",
     "output_type": "stream",
     "text": [
      "생성된 사각형 넓이: 211860\n"
     ]
    }
   ],
   "source": [
    "class Rectangle:\n",
    "    def __init__(self,width,height):\n",
    "        self.width=width\n",
    "        self.height=height\n",
    "\n",
    "    def area(self):\n",
    "        print(f\"생성된 사각형 넓이: {self.width*self.height}\")\n",
    "\n",
    "a,b=input(\"입력하시오: \").split()\n",
    "rec=Rectangle(int(a),int(b))\n",
    "rec.area()"
   ]
  },
  {
   "cell_type": "code",
   "execution_count": null,
   "id": "d7c6812a",
   "metadata": {},
   "outputs": [
    {
     "name": "stdout",
     "output_type": "stream",
     "text": [
      "개과\n",
      "개과\n",
      "개과\n"
     ]
    }
   ],
   "source": [
    "# 클래스 자체가 가진 변수와 메소드\n",
    "class Dog:\n",
    "    kind =\"개과\"\n",
    "    def __init__(self,breed,name,age):\n",
    "        self.breed=breed\n",
    "        self.name=name\n",
    "        self.age=age\n",
    "\n",
    "dog1=Dog(\"자칼\",\"나서스\",3000)\n",
    "dog2=Dog(\"들개\",\"나피리\",3000)\n",
    "wolf1=Dog(\"늑대\",\"워웍\",50)\n",
    "\n",
    "print(dog1.kind)\n",
    "print(dog2.kind)\n",
    "print(wolf1.kind)"
   ]
  },
  {
   "cell_type": "code",
   "execution_count": 112,
   "id": "72c261ba",
   "metadata": {},
   "outputs": [
    {
     "name": "stdout",
     "output_type": "stream",
     "text": [
      "현재 1권을 가졌습니다.\n",
      "현재 2권을 가졌습니다.\n"
     ]
    }
   ],
   "source": [
    "# 클래스 메서드: 클래스의 데이터를 조작하는데 사용\n",
    "\n",
    "class Book:\n",
    "    book_count=0\n",
    "    # 클래스가 공유하는 하나의 변수\n",
    "    def __init__(self,title,author):\n",
    "        Book.book_count+=1\n",
    "        # 인스턴스가 생성될 때 마다 하나씩 증가\n",
    "        self.title=title\n",
    "        self.author=author\n",
    "    \n",
    "    @classmethod # 클래스 메소드라는 것을 알리는 데코레이터\n",
    "    def get_count(cls):\n",
    "        # 클래스를 받아오는 메소드. \n",
    "        print(f\"현재 {cls.book_count}권을 가졌습니다.\")\n",
    "\n",
    "\n",
    "book1=Book(\"Stack Story\",\"Nasus\")\n",
    "Book.get_count()\n",
    "book3=Book(\"Happy Story\",\"Happy\")\n",
    "Book.get_count()"
   ]
  },
  {
   "cell_type": "code",
   "execution_count": null,
   "id": "d3e0e481",
   "metadata": {},
   "outputs": [
    {
     "data": {
      "text/plain": [
       "30"
      ]
     },
     "execution_count": 114,
     "metadata": {},
     "output_type": "execute_result"
    }
   ],
   "source": [
    "# 정적 메소드\n",
    "# 클래스나 인스턴스의 데이터를 조장하지 않는 클래스함수\n",
    "# 클래스나 인스턴스의 상태에 의존하지않는...\n",
    "# 클래스와 개념적으로 연관있으나 데이터를 조작치않음.\n",
    "\n",
    "class OperationTool:\n",
    "    @staticmethod\n",
    "    def add(a,b):\n",
    "        return a+b\n",
    "\n",
    "OperationTool.add(10,20)\n",
    "\n",
    "\n",
    "    "
   ]
  },
  {
   "cell_type": "code",
   "execution_count": 127,
   "id": "3c3f1bea",
   "metadata": {},
   "outputs": [
    {
     "name": "stdout",
     "output_type": "stream",
     "text": [
      "happy유저 10포인트 추가\n",
      "happy님 등급은 브론즈\n",
      "happy유저 420포인트 추가\n",
      "happy님 등급은 실버\n",
      "joy유저 900포인트 추가\n",
      "joy님 등급은 골드\n",
      "총 회원가입 고객 수: 2\n"
     ]
    }
   ],
   "source": [
    "class User:\n",
    "    total_users=0\n",
    "    def __init__(self, username):\n",
    "        User.total_users+=1\n",
    "        self.points=0\n",
    "        self.username=username\n",
    "\n",
    "    def add_points(self,amount):\n",
    "        self.points+=amount\n",
    "        print(f\"{self.username}유저 {amount}포인트 추가\")\n",
    "    \n",
    "    def get_level(self):\n",
    "        if 0<self.points<100:\n",
    "            print(f\"{self.username}님 등급은 브론즈\")\n",
    "        elif 99<self.points<500:\n",
    "            print(f\"{self.username}님 등급은 실버\")\n",
    "        else:\n",
    "            print(f\"{self.username}님 등급은 골드\")\n",
    "    @classmethod\n",
    "    def get_users(cls):\n",
    "        print(f\"총 회원가입 고객 수: {cls.total_users}\")\n",
    "\n",
    "user1=User(\"happy\")\n",
    "user1.add_points(10)\n",
    "user1.get_level()\n",
    "user1.add_points(420)\n",
    "user1.get_level()\n",
    "user2=User(\"joy\")\n",
    "user2.add_points(900)\n",
    "user2.get_level()\n",
    "User.get_users()"
   ]
  },
  {
   "cell_type": "code",
   "execution_count": 1,
   "id": "1ff63f23",
   "metadata": {},
   "outputs": [],
   "source": [
    "# 캡슐화:\n",
    "# 자신의 속성과 메서드를 하나로 묶고\n",
    "# 외부에는 데이터의 필요한 부분만 보여준다.\n",
    "\n",
    "# 정보은닉:\n",
    "# 공개된 메서드를 통해서만 접근하도록 하여 \n",
    "# 내부 상태의 데이터를 직접접근 불가하게 제한하는 것 \n",
    "\n",
    "# _ : 보호해야하는 정보라는 표시 __ : 실제 보호\n",
    "\n",
    "# 데이터무결성은 함부로조작하지못하게 \n"
   ]
  },
  {
   "cell_type": "code",
   "execution_count": 6,
   "id": "89a405ee",
   "metadata": {},
   "outputs": [
    {
     "name": "stdout",
     "output_type": "stream",
     "text": [
      "nasus\n",
      "유효치 않은 나이설정\n",
      "3000\n"
     ]
    },
    {
     "data": {
      "text/plain": [
       "3000"
      ]
     },
     "execution_count": 6,
     "metadata": {},
     "output_type": "execute_result"
    }
   ],
   "source": [
    "class Person:\n",
    "    def __init__(self,name,age):\n",
    "        self.name=name\n",
    "        self.__age=age\n",
    "\n",
    "    #게터\n",
    "    def get_age(self):\n",
    "        return self.__age\n",
    "    #세터\n",
    "    def add_age(self, value):\n",
    "        if value>10000:\n",
    "            print(\"유효치 않은 나이설정\")\n",
    "\n",
    "p1=Person(\"nasus\",3000)\n",
    "print(p1.name)\n",
    "# 외부 접근이 안됨\n",
    "p1.add_age(1000000)\n",
    "print(p1._Person__age)  # 가능하지만 권장되지 않음 (우회 접근)\n",
    "# 네임 맹글링 \n",
    "# 외부 접근이 안됨\n",
    "# print(p1.__age)\n",
    "# 네임 맹글링 \n",
    "p1.get_age()\n"
   ]
  },
  {
   "cell_type": "code",
   "execution_count": 19,
   "id": "a51b24e2",
   "metadata": {},
   "outputs": [
    {
     "name": "stdout",
     "output_type": "stream",
     "text": [
      "유효하지 않은 값 업데이트\n"
     ]
    }
   ],
   "source": [
    "# @propoerty 메서드를 속성처럼 보이게 만드는 기능\n",
    "\n",
    "class ValueTest:\n",
    "    def __init__(self):\n",
    "        self.__value=0\n",
    "    \n",
    "    #getter\n",
    "    @property\n",
    "    def value(self):\n",
    "        return self.__value\n",
    "    \n",
    "    #setter\n",
    "    @value.setter\n",
    "    def value(self, val):\n",
    "        if val<0:\n",
    "            print(\"유효하지 않은 값 업데이트\")\n",
    "        self.__value=val\n",
    "\n",
    "c1=ValueTest()\n",
    "c1.value=60\n",
    "c1.value\n",
    "\n",
    "c1.value=-90\n",
    "# 사용은 속성처럼 쓰지만 내부에서는 동작을 시켜야할때 ex) 이런거"
   ]
  },
  {
   "cell_type": "code",
   "execution_count": 36,
   "id": "f0ed21af",
   "metadata": {},
   "outputs": [
    {
     "name": "stdout",
     "output_type": "stream",
     "text": [
      "True\n",
      "False\n",
      "비밀번호 불일치\n",
      "False\n",
      "True\n"
     ]
    }
   ],
   "source": [
    "class UserAccount:\n",
    "    def __init__(self,username,password):\n",
    "        self.__password=password\n",
    "        self.username=username\n",
    "    \n",
    "    @property\n",
    "    def password(self):\n",
    "        return self.__password\n",
    "    \n",
    "    \n",
    "    def change_password(self, old_pw, new_pw):\n",
    "        if old_pw!=self.__password:\n",
    "            print(\"비밀번호 불일치\")\n",
    "        else:\n",
    "            self.__password=new_pw\n",
    "\n",
    "    def check_password(self,password):\n",
    "        return bool(password==self.__password)\n",
    "\n",
    "user1=UserAccount(\"happy\",\"12345!\")\n",
    "print(user1.check_password(\"12345!\"))\n",
    "print(user1.check_password(\"54321!\"))\n",
    "user1.change_password(\"00000!\",\"54321!\")\n",
    "user1.change_password(\"12345!\",\"54321!\")\n",
    "print(user1.check_password(\"12345!\"))\n",
    "print(user1.check_password(\"54321!\"))"
   ]
  },
  {
   "cell_type": "code",
   "execution_count": 52,
   "id": "9c8fed55",
   "metadata": {},
   "outputs": [
    {
     "name": "stdout",
     "output_type": "stream",
     "text": [
      "happy 점수 업데이트:  90\n",
      "똘똘이 점수 업데이트:  99\n"
     ]
    }
   ],
   "source": [
    "class Students:\n",
    "    def __init__(self,name):\n",
    "        self.name=name\n",
    "        self.__score=0\n",
    "    \n",
    "    #getter\n",
    "    @property\n",
    "    def score(self):\n",
    "        return self.__score\n",
    "    \n",
    "    #setter\n",
    "    @score.setter\n",
    "    def score(self, score):\n",
    "        if 0<score<101:\n",
    "            print(self.name,\"점수 업데이트: \",score)\n",
    "            self.__score=score\n",
    "        else:\n",
    "            print(\"업데이트 불가능한 수\")\n",
    "            raise ValueError(\"그 수로는 업데이트가 불가능합니다\")\n",
    "s1=Students(\"happy\")\n",
    "s1.score=90\n",
    "\n",
    "s2=Students(\"똘똘이\")\n",
    "s2.score=99"
   ]
  },
  {
   "cell_type": "code",
   "execution_count": null,
   "id": "db156af1",
   "metadata": {},
   "outputs": [
    {
     "name": "stdout",
     "output_type": "stream",
     "text": [
      "동물이 울다\n",
      "먀옹\n",
      "렝가, 밥먹는다\n"
     ]
    },
    {
     "data": {
      "text/plain": [
       "True"
      ]
     },
     "execution_count": 90,
     "metadata": {},
     "output_type": "execute_result"
    }
   ],
   "source": [
    "# 상속\n",
    "# 부모클래스의 속성과 메서드를 물려받은 새로운 자녀클래스를 생성\n",
    "# super=부모\n",
    "class LivingBeeing:\n",
    "    def __init__(self):\n",
    "        self.alive=True\n",
    "\n",
    "class Animal(LivingBeeing):\n",
    "    def __init__(self,name):\n",
    "        super().__init__()\n",
    "        self.name=name\n",
    "    def speak(self):\n",
    "        print(\"동물이 울다\")\n",
    "    def eat(self):\n",
    "        print(f\"{self.name}, 밥먹는다\")\n",
    "\n",
    "class Cat(Animal): # 상속의 기본 문법\n",
    "    def __init__(self, name, furcoat):\n",
    "        super().__init__(name) # 부모코드를 복붙하는과정\"\n",
    "        self.furcoat=furcoat\n",
    "    def meowing(self):\n",
    "        super().speak()\n",
    "        print(\"먀옹\") # 부모의 것, 자녀에서 재정의: 오버라이딩\n",
    "\n",
    "\n",
    "\n",
    "meow=Cat(\"렝가\",\"하얀색\")\n",
    "meow.meowing()\n",
    "meow.eat()\n",
    "meow.alive"
   ]
  },
  {
   "cell_type": "code",
   "execution_count": 99,
   "id": "a34628d4",
   "metadata": {},
   "outputs": [
    {
     "name": "stdout",
     "output_type": "stream",
     "text": [
      "변의개수: 4, 밑 변의 길이: 100\n",
      "너비값: 50000\n",
      "\n",
      "변의개수: 3, 밑 변의 길이: 100\n",
      "너비값: 25000\n"
     ]
    }
   ],
   "source": [
    "class Shape:\n",
    "    def __init__(self,sides,base):\n",
    "        self.sides=sides\n",
    "        self.base=base\n",
    "    \n",
    "    def printinfo(self):\n",
    "        print(f\"변의개수: {self.sides}, 밑 변의 길이: {self.base}\")\n",
    "    \n",
    "    def area():\n",
    "        print(\"넓이 계산이 정의되지 않았습니다\")\n",
    "\n",
    "class Rectangle(Shape):\n",
    "    def __init__(self, sides, base, height):\n",
    "        super().__init__(sides, base)\n",
    "        self.height=height\n",
    "    def area(self):\n",
    "        print(f\"너비값: {self.height*self.base}\")\n",
    "    \n",
    "class Triangle(Shape):\n",
    "    def __init__(self, sides, base, height):\n",
    "        super().__init__(sides, base)\n",
    "        self.height=height\n",
    "    def area(self):\n",
    "        print(f\"너비값: {int((self.height*self.base)/2)}\")\n",
    "\n",
    "rec=Rectangle(4,100,500)\n",
    "rec.printinfo()\n",
    "rec.area()\n",
    "print(\"\")\n",
    "tri=Triangle(3,100,500)\n",
    "tri.printinfo()\n",
    "tri.area()\n",
    "    "
   ]
  },
  {
   "cell_type": "code",
   "execution_count": 103,
   "id": "85d4d9ee",
   "metadata": {},
   "outputs": [],
   "source": [
    "# 추상클래스?\n",
    "# 일관성유지, 구현강제, 코드재사용+설계명확화\n",
    "\n",
    "from abc import ABC, abstractmethod\n",
    "\n",
    "class Animal(ABC):\n",
    "    @abstractmethod\n",
    "    def bark(self):\n",
    "        pass\n",
    "\n",
    "class Dog(Animal):\n",
    "    def bark(self):\n",
    "        print(\"우리집 강아지는 복슬강아지\")\n",
    "\n",
    "d=Dog()"
   ]
  },
  {
   "cell_type": "code",
   "execution_count": 110,
   "id": "a0a8766c",
   "metadata": {},
   "outputs": [
    {
     "name": "stdout",
     "output_type": "stream",
     "text": [
      "카드로 100원 결제\n",
      "현금으로 1000000000000원 결제\n"
     ]
    }
   ],
   "source": [
    "from abc import ABC, abstractmethod\n",
    "\n",
    "class Payment(ABC):\n",
    "    @abstractmethod\n",
    "    def pay(amount):\n",
    "        pass\n",
    "\n",
    "class CardPayment(Payment):\n",
    "    def pay(self,amount):\n",
    "        print(f\"카드로 {amount}원 결제\")\n",
    "\n",
    "class CashPayment(Payment):\n",
    "    def pay(self,amount):\n",
    "        print(f\"현금으로 {amount}원 결제\")\n",
    "\n",
    "man=CardPayment()\n",
    "man2=CashPayment()\n",
    "man.pay(100)\n",
    "man2.pay(1000000000000)"
   ]
  }
 ],
 "metadata": {
  "kernelspec": {
   "display_name": ".venv",
   "language": "python",
   "name": "python3"
  },
  "language_info": {
   "codemirror_mode": {
    "name": "ipython",
    "version": 3
   },
   "file_extension": ".py",
   "mimetype": "text/x-python",
   "name": "python",
   "nbconvert_exporter": "python",
   "pygments_lexer": "ipython3",
   "version": "3.13.5"
  }
 },
 "nbformat": 4,
 "nbformat_minor": 5
}
