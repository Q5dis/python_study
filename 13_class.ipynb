{
 "cells": [
  {
   "cell_type": "markdown",
   "id": "efd70ef3",
   "metadata": {},
   "source": [
    "# Class\n",
    "- 데이터(속성)과 기능(메서드)를 하나로 묶는 구조"
   ]
  },
  {
   "cell_type": "code",
   "execution_count": 32,
   "id": "70ec99ae",
   "metadata": {},
   "outputs": [],
   "source": [
    "# 오브젝트는 생성된 데이터들, 인스턴스는 그 중 특정한 하나를 가리킴\n",
    "\n",
    "\n",
    "class ClassName:\n",
    "    def __init__(self,name,age,address,hobby):\n",
    "        # 생성자 Constructor\n",
    "        # 인스턴스가 생성될 때 호출\n",
    "        self.name=name # 인스턴스 변수\n",
    "        # self= 생성된 인스턴스 자기 자신을 가리킴\n",
    "        self.age=age\n",
    "        self.address=address\n",
    "        self.hobby=hobby\n",
    "        \n",
    "        # 하나의 클래스에는 하나의 init만.\n",
    "        # init은 클래스 내에서만 사용할 변수를 지정하는 메서드?\n",
    "\n",
    "    # (인스턴스) 메소드???  \n",
    "    def tell_all_info(self):\n",
    "        print(f\"지금부터 제 개인정보를 다 넘기도록 하겠습니다. \\n저는 {self.name}, {self.age}살, \\n주소는 {self.address}, 취미는 {self.hobby}\")\n",
    "    def add_age(self):\n",
    "        print(f\"내년에는 {self.age+1}살이 됩니다.\")\n"
   ]
  },
  {
   "cell_type": "code",
   "execution_count": 33,
   "id": "31f072cf",
   "metadata": {},
   "outputs": [
    {
     "name": "stdout",
     "output_type": "stream",
     "text": [
      "지금부터 제 개인정보를 다 넘기도록 하겠습니다. \n",
      "저는 김병식, 50살, \n",
      "주소는 해피특별시, 취미는 조기축구\n",
      "내년에는 51살이 됩니다.\n",
      "\n",
      "지금부터 제 개인정보를 다 넘기도록 하겠습니다. \n",
      "저는 전순자, 39살, \n",
      "주소는 동동광역시, 취미는 데드리프트\n",
      "내년에는 40살이 됩니다.\n",
      "\n",
      "지금부터 제 개인정보를 다 넘기도록 하겠습니다. \n",
      "저는 나서스, 3000살, \n",
      "주소는 슈리마, 취미는 스택쌓기\n",
      "내년에는 3001살이 됩니다.\n"
     ]
    }
   ],
   "source": [
    "# 인스턴스의 생성\n",
    "person1=ClassName(\"김병식\",50,\"해피특별시\",\"조기축구\")\n",
    "person1.tell_all_info()\n",
    "person1.add_age()\n",
    "\n",
    "print(\"\")\n",
    "\n",
    "person2=ClassName(\"전순자\",39,\"동동광역시\",\"데드리프트\")\n",
    "person2.tell_all_info()\n",
    "person2.add_age()\n",
    "\n",
    "print(\"\")\n",
    "\n",
    "person2=ClassName(\"나서스\",3000,\"슈리마\",\"스택쌓기\")\n",
    "person2.tell_all_info()\n",
    "person2.add_age()\n"
   ]
  },
  {
   "cell_type": "code",
   "execution_count": 84,
   "id": "f1c56eaa",
   "metadata": {},
   "outputs": [
    {
     "name": "stdout",
     "output_type": "stream",
     "text": [
      "-책정보-\n",
      "제목: happy\n",
      "지은이: lulu\n",
      "전체페이지수: 150\n",
      "\n",
      "현재 페이지를 읽음. 현재 90쪽\n",
      "지금껏 내가 읽은 양: 90/150, 60.0%\n",
      "현재 페이지를 읽음. 현재 140쪽\n",
      "지금껏 내가 읽은 양: 140/150, 93.3%\n",
      "완독해서 읽을 수 없습니다\n"
     ]
    }
   ],
   "source": [
    "class book:\n",
    "    def __init__(self,title,author,total_pages,current_page):\n",
    "        self.title=title\n",
    "        self.author=author\n",
    "        self.total_pages=total_pages\n",
    "        self.current_page=current_page\n",
    "\n",
    "    def info(self):\n",
    "        print(f\"-책정보-\\n제목: {self.title}\\n지은이: {self.author}\\n전체페이지수: {self.total_pages}\")\n",
    "\n",
    "    def read_page(self, pages):\n",
    "        curs= self.current_page+pages\n",
    "        if curs>self.total_pages:\n",
    "            print(\"완독해서 읽을 수 없습니다\")\n",
    "            self.current_page=self.total_pages\n",
    "        else:\n",
    "            self.current_page+=pages\n",
    "            print(f\"현재 페이지를 읽음. 현재 {self.current_page}쪽\")\n",
    "        \n",
    "    \n",
    "    def progress(self):\n",
    "        tots=self.total_pages\n",
    "        curs=self.current_page\n",
    "        if curs>=tots:\n",
    "            print(\"지금껏 내가 읽은 양: 100%\")\n",
    "        else:\n",
    "            print(f\"지금껏 내가 읽은 양: {curs}/{tots}, {(round((curs/tots)*100,1))}%\")\n",
    "\n",
    "happy=book(\"happy\",\"lulu\",150,40)\n",
    "happy.info()\n",
    "print(\"\")\n",
    "happy.read_page(50)\n",
    "happy.progress()\n",
    "happy.read_page(50)\n",
    "happy.progress()\n",
    "happy.read_page(50)"
   ]
  },
  {
   "cell_type": "code",
   "execution_count": 95,
   "id": "c00b1853",
   "metadata": {},
   "outputs": [
    {
     "name": "stdout",
     "output_type": "stream",
     "text": [
      "생성된 사각형 넓이: 211860\n"
     ]
    }
   ],
   "source": [
    "class Rectangle:\n",
    "    def __init__(self,width,height):\n",
    "        self.width=width\n",
    "        self.height=height\n",
    "\n",
    "    def area(self):\n",
    "        print(f\"생성된 사각형 넓이: {self.width*self.height}\")\n",
    "\n",
    "a,b=input(\"입력하시오: \").split()\n",
    "rec=Rectangle(int(a),int(b))\n",
    "rec.area()"
   ]
  },
  {
   "cell_type": "code",
   "execution_count": null,
   "id": "d7c6812a",
   "metadata": {},
   "outputs": [
    {
     "name": "stdout",
     "output_type": "stream",
     "text": [
      "개과\n",
      "개과\n",
      "개과\n"
     ]
    }
   ],
   "source": [
    "# 클래스 자체가 가진 변수와 메소드\n",
    "class Dog:\n",
    "    kind =\"개과\"\n",
    "    def __init__(self,breed,name,age):\n",
    "        self.breed=breed\n",
    "        self.name=name\n",
    "        self.age=age\n",
    "\n",
    "dog1=Dog(\"자칼\",\"나서스\",3000)\n",
    "dog2=Dog(\"들개\",\"나피리\",3000)\n",
    "wolf1=Dog(\"늑대\",\"워웍\",50)\n",
    "\n",
    "print(dog1.kind)\n",
    "print(dog2.kind)\n",
    "print(wolf1.kind)"
   ]
  },
  {
   "cell_type": "code",
   "execution_count": 112,
   "id": "72c261ba",
   "metadata": {},
   "outputs": [
    {
     "name": "stdout",
     "output_type": "stream",
     "text": [
      "현재 1권을 가졌습니다.\n",
      "현재 2권을 가졌습니다.\n"
     ]
    }
   ],
   "source": [
    "# 클래스 메서드: 클래스의 데이터를 조작하는데 사용\n",
    "\n",
    "class Book:\n",
    "    book_count=0\n",
    "    # 클래스가 공유하는 하나의 변수\n",
    "    def __init__(self,title,author):\n",
    "        Book.book_count+=1\n",
    "        # 인스턴스가 생성될 때 마다 하나씩 증가\n",
    "        self.title=title\n",
    "        self.author=author\n",
    "    \n",
    "    @classmethod # 클래스 메소드라는 것을 알리는 데코레이터\n",
    "    def get_count(cls):\n",
    "        # 클래스를 받아오는 메소드. \n",
    "        print(f\"현재 {cls.book_count}권을 가졌습니다.\")\n",
    "\n",
    "\n",
    "book1=Book(\"Stack Story\",\"Nasus\")\n",
    "Book.get_count()\n",
    "book3=Book(\"Happy Story\",\"Happy\")\n",
    "Book.get_count()"
   ]
  },
  {
   "cell_type": "code",
   "execution_count": null,
   "id": "d3e0e481",
   "metadata": {},
   "outputs": [
    {
     "data": {
      "text/plain": [
       "30"
      ]
     },
     "execution_count": 114,
     "metadata": {},
     "output_type": "execute_result"
    }
   ],
   "source": [
    "# 정적 메소드\n",
    "# 클래스나 인스턴스의 데이터를 조장하지 않는 클래스함수\n",
    "# 클래스나 인스턴스의 상태에 의존하지않는...\n",
    "# 클래스와 개념적으로 연관있으나 데이터를 조작치않음.\n",
    "\n",
    "class OperationTool:\n",
    "    @staticmethod\n",
    "    def add(a,b):\n",
    "        return a+b\n",
    "\n",
    "OperationTool.add(10,20)\n",
    "\n",
    "\n",
    "    "
   ]
  },
  {
   "cell_type": "code",
   "execution_count": 127,
   "id": "3c3f1bea",
   "metadata": {},
   "outputs": [
    {
     "name": "stdout",
     "output_type": "stream",
     "text": [
      "happy유저 10포인트 추가\n",
      "happy님 등급은 브론즈\n",
      "happy유저 420포인트 추가\n",
      "happy님 등급은 실버\n",
      "joy유저 900포인트 추가\n",
      "joy님 등급은 골드\n",
      "총 회원가입 고객 수: 2\n"
     ]
    }
   ],
   "source": [
    "class User:\n",
    "    total_users=0\n",
    "    def __init__(self, username):\n",
    "        User.total_users+=1\n",
    "        self.points=0\n",
    "        self.username=username\n",
    "\n",
    "    def add_points(self,amount):\n",
    "        self.points+=amount\n",
    "        print(f\"{self.username}유저 {amount}포인트 추가\")\n",
    "    \n",
    "    def get_level(self):\n",
    "        if 0<self.points<100:\n",
    "            print(f\"{self.username}님 등급은 브론즈\")\n",
    "        elif 99<self.points<500:\n",
    "            print(f\"{self.username}님 등급은 실버\")\n",
    "        else:\n",
    "            print(f\"{self.username}님 등급은 골드\")\n",
    "    @classmethod\n",
    "    def get_users(cls):\n",
    "        print(f\"총 회원가입 고객 수: {cls.total_users}\")\n",
    "\n",
    "user1=User(\"happy\")\n",
    "user1.add_points(10)\n",
    "user1.get_level()\n",
    "user1.add_points(420)\n",
    "user1.get_level()\n",
    "user2=User(\"joy\")\n",
    "user2.add_points(900)\n",
    "user2.get_level()\n",
    "User.get_users()"
   ]
  },
  {
   "cell_type": "code",
   "execution_count": 129,
   "id": "1ff63f23",
   "metadata": {},
   "outputs": [],
   "source": [
    "# 캡슐화:\n",
    "# 자신의 속성과 메서드를 하나로 묶고\n",
    "# 외부에는 데이터의 필요한 부분만 보여준다.\n",
    "\n",
    "# 정보은닉:\n",
    "# 공개된 메서드를 통해서만 접근하도록 하여 \n",
    "# 내부 상태의 데이터를 직접접근 불가하게 제한하는 것\n",
    "\n"
   ]
  },
  {
   "cell_type": "code",
   "execution_count": null,
   "id": "89a405ee",
   "metadata": {},
   "outputs": [
    {
     "name": "stdout",
     "output_type": "stream",
     "text": [
      "susan\n"
     ]
    },
    {
     "ename": "AttributeError",
     "evalue": "'Person' object has no attribute '_person__age'",
     "output_type": "error",
     "traceback": [
      "\u001b[31m---------------------------------------------------------------------------\u001b[39m",
      "\u001b[31mAttributeError\u001b[39m                            Traceback (most recent call last)",
      "\u001b[36mCell\u001b[39m\u001b[36m \u001b[39m\u001b[32mIn[138]\u001b[39m\u001b[32m, line 9\u001b[39m\n\u001b[32m      7\u001b[39m p1.name=\u001b[33m\"\u001b[39m\u001b[33msusan\u001b[39m\u001b[33m\"\u001b[39m\n\u001b[32m      8\u001b[39m \u001b[38;5;28mprint\u001b[39m(p1.name)\n\u001b[32m----> \u001b[39m\u001b[32m9\u001b[39m \u001b[43mp1\u001b[49m\u001b[43m.\u001b[49m\u001b[43m_person__age\u001b[49m\n\u001b[32m     10\u001b[39m \u001b[38;5;66;03m# 외부 접근이 안됨\u001b[39;00m\n\u001b[32m     11\u001b[39m \u001b[38;5;66;03m# print(p1.__age)\u001b[39;00m\n",
      "\u001b[31mAttributeError\u001b[39m: 'Person' object has no attribute '_person__age'"
     ]
    }
   ],
   "source": [
    "class Person:\n",
    "    def __init__(self,name,age):\n",
    "        self.name=name\n",
    "        self.__age=age\n",
    "\n",
    "p1=Person(\"nasus\",3000)\n",
    "p1.name=\"susan\"\n",
    "print(p1.name)\n",
    "# 외부 접근이 안됨\n",
    "# print(p1.__age)\n",
    "# 네임 맹글링 \n",
    "\n"
   ]
  },
  {
   "cell_type": "code",
   "execution_count": null,
   "id": "a51b24e2",
   "metadata": {},
   "outputs": [],
   "source": []
  }
 ],
 "metadata": {
  "kernelspec": {
   "display_name": ".venv",
   "language": "python",
   "name": "python3"
  },
  "language_info": {
   "codemirror_mode": {
    "name": "ipython",
    "version": 3
   },
   "file_extension": ".py",
   "mimetype": "text/x-python",
   "name": "python",
   "nbconvert_exporter": "python",
   "pygments_lexer": "ipython3",
   "version": "3.13.5"
  }
 },
 "nbformat": 4,
 "nbformat_minor": 5
}
