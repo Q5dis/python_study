{
 "cells": [
  {
   "cell_type": "markdown",
   "id": "48b55010",
   "metadata": {},
   "source": [
    "# 집합 set\n",
    "\n",
    "- 원소의 중복을 허용치않는 여러 데이터의 모음\n",
    "- 순서가 없는 컬렉션 자료형"
   ]
  },
  {
   "cell_type": "code",
   "execution_count": null,
   "id": "18a367d7",
   "metadata": {},
   "outputs": [],
   "source": []
  },
  {
   "cell_type": "code",
   "execution_count": null,
   "id": "608a8b06",
   "metadata": {},
   "outputs": [
    {
     "name": "stdout",
     "output_type": "stream",
     "text": [
      "셋 만들기\n",
      "{1, 2, 3, 4, 5} <class 'set'>\n",
      "중복이 제거되는 특성\n",
      "{1, 2, 3}\n",
      "선언하지 않고 중괄호만 사용해서 선언 시 딕셔너리로 인식됨\n",
      "{} <class 'dict'>\n",
      "빈 set을 선언하고싶다면 set 함수를 이용해서 선언해야 한다.\n",
      "<class 'set'>\n"
     ]
    }
   ],
   "source": [
    "print(\"셋 만들기\")\n",
    "s1={1,2,3,4,5}\n",
    "print(s1, type(s1))\n",
    "\n",
    "print(\"중복이 제거되는 특성\")\n",
    "s2={1,1,1,1,1,1,1,1,1,1,1,2,3}\n",
    "print(s2)\n",
    "\n",
    "print(\"선언하지 않고 중괄호만 사용해서 선언 시 딕셔너리로 인식됨\")\n",
    "s3={}\n",
    "print(s3, type(s3))\n",
    "print(\"빈 set을 선언하고싶다면 set 함수를 이용해서 선언해야 한다.\")\n",
    "s3=set()\n",
    "print(type(s3))"
   ]
  },
  {
   "cell_type": "code",
   "execution_count": null,
   "id": "fc9bfb2c",
   "metadata": {},
   "outputs": [
    {
     "name": "stdout",
     "output_type": "stream",
     "text": [
      "[1, 2, 3, 4]\n"
     ]
    }
   ],
   "source": [
    "# 셋을 이용한 리스트의 중복제거\n",
    "\n",
    "list_set=[1,1,1,1,1,1,1,1,1,1,2,3,4]\n",
    "set_list=set(list_set)\n",
    "re_list=list(set_list)\n",
    "print(re_list)"
   ]
  },
  {
   "cell_type": "code",
   "execution_count": null,
   "id": "6ac3beb9",
   "metadata": {},
   "outputs": [
    {
     "data": {
      "text/plain": [
       "10"
      ]
     },
     "execution_count": 20,
     "metadata": {},
     "output_type": "execute_result"
    }
   ],
   "source": [
    "# 순서가 없기 때문에 인덱싱이 불가능\n",
    "s1={10,20,30}\n",
    "# s1[0] 오류발생\n",
    "\n",
    "# 즉 인덱싱을 원한다면 리스트로 변환해야함. 다만, 순서를 보장할 순 없음.\n",
    "s_list=list(s1)\n",
    "s_list[0]\n",
    "\n",
    "# set은 가변자료형을 원소로 사용할 수 없음 \n",
    "# s1={1,2,3,[1,2,3]}\n",
    "# TypeError: unhashable type: 'list'"
   ]
  },
  {
   "cell_type": "code",
   "execution_count": null,
   "id": "a27c8332",
   "metadata": {},
   "outputs": [
    {
     "name": "stdout",
     "output_type": "stream",
     "text": [
      "합집합(OR):  {1, 2, 3, 4, 5, 6} 메소드 사용예:  {1, 2, 3, 4, 5, 6}\n",
      "\n",
      "교집합(AND):  {3, 4} 메소드 사용예:  {3, 4}\n",
      "\n",
      "차집합:  {1, 2} 메소드 사용예:  {1, 2}\n",
      "\n",
      "계산식 이용한 대칭 차집합:  {1, 2, 5, 6} 메소드 사용예:  {1, 2, 5, 6}\n",
      "기호로 계산:  {1, 2, 5, 6}\n"
     ]
    }
   ],
   "source": [
    "a={1,2,3,4}\n",
    "b={3,4,5,6}\n",
    "\n",
    "\n",
    "print(\"합집합(OR): \", a | b, \"메소드 사용예: \", a.union(b))\n",
    "\n",
    "print(\"\\n교집합(AND): \",a&b, \"메소드 사용예: \", a.intersection(b))\n",
    "\n",
    "print(\"\\n차집합: \",a-b,\"메소드 사용예: \",a.difference(b))\n",
    "\n",
    "print(\"\\n계산식 이용한 대칭 차집합: \",(a|b)-(a&b),\"메소드 사용예: \",a.symmetric_difference(b))\n",
    "print(\"기호로 계산: \",a^b)\n"
   ]
  },
  {
   "cell_type": "code",
   "execution_count": 44,
   "id": "b007543a",
   "metadata": {},
   "outputs": [
    {
     "name": "stdout",
     "output_type": "stream",
     "text": [
      "셋의 값을 하나 추가하는 add와 다수를 추가하는 update\n",
      "{1, 2, 3, 4, 5, 6, 7}\n",
      "remove: 없는 값을 제거하라 하면 에러/discard는 에러가 나지 않는다\n",
      "{1, 2, 3, 5, 7}\n",
      "임의의 값 제거\n",
      "{2, 3, 5, 7}\n"
     ]
    }
   ],
   "source": [
    "set_1={1,2,3}\n",
    "set_1.add(4)\n",
    "# add = append\n",
    "set_1.update({5,6,7})\n",
    "# update = extend\n",
    "\n",
    "print(\"셋의 값을 하나 추가하는 add와 다수를 추가하는 update\")\n",
    "print(set_1)\n",
    "\n",
    "print(\"remove: 없는 값을 제거하라 하면 에러/discard는 에러가 나지 않는다\")\n",
    "set_1.remove(4)\n",
    "set_1.discard(6)\n",
    "print(set_1)\n",
    "\n",
    "print(\"임의의 값 제거\")\n",
    "set_1.pop()\n",
    "print(set_1)"
   ]
  },
  {
   "cell_type": "code",
   "execution_count": 48,
   "id": "8653e0ac",
   "metadata": {},
   "outputs": [
    {
     "name": "stdout",
     "output_type": "stream",
     "text": [
      "부분집합 체크\n",
      "True\n",
      "상위집합 체크\n",
      "True\n",
      "공통 원소 확인\n",
      "False\n",
      "True\n"
     ]
    }
   ],
   "source": [
    "# 부분집합 관련 메서드\n",
    "\n",
    "a={10,20,30,40,50,60}\n",
    "b={20,30,40}\n",
    "c={100,102,103}\n",
    "\n",
    "print(\"부분집합 체크\")\n",
    "print(b.issubset(a))\n",
    "print(\"상위집합 체크\")\n",
    "print(a.issuperset(b))\n",
    "\n",
    "print(\"공통 원소 확인\")\n",
    "print(a.isdisjoint(b)) #공통원소가 없다면 True 반환\n",
    "print(a.isdisjoint(c)) #공통원소가 없다면 True 반환"
   ]
  },
  {
   "cell_type": "code",
   "execution_count": 65,
   "id": "12cb475a",
   "metadata": {},
   "outputs": [
    {
     "name": "stdout",
     "output_type": "stream",
     "text": [
      "제출한 학생 수:  4 \n",
      "제출자 명단:  {'kim', 'lee', 'choi', 'park'}\n",
      "\n",
      "공통 관심사:  {'Action', 'Drama'}\n",
      "관심 다른 장르:  {'SF', 'Romance'}\n",
      "전체장르:  {'Action', 'SF', 'Romance', 'Drama'}\n",
      "\n",
      "지원자격 충족여부:  True\n"
     ]
    }
   ],
   "source": [
    "# 실습연습1 \n",
    "\n",
    "submission=[\"kim\",\"lee\",\"kim\",\"park\",\"choi\",\"lee\",\"lee\"]\n",
    "set_sub=set(submission)\n",
    "submission=list(set_sub)\n",
    "\n",
    "print(\"제출한 학생 수: \",len(submission),\"\\n제출자 명단: \",set_sub)\n",
    "\n",
    "# 실습연습 2\n",
    "\n",
    "user1={\"SF\",\"Action\",\"Drama\"}\n",
    "user2={\"Drama\",\"Romance\",\"Action\"}\n",
    "\n",
    "print(\"\\n공통 관심사: \", user1&user2)\n",
    "print(\"관심 다른 장르: \", user1^user2)\n",
    "print(\"전체장르: \", user1|user2)\n",
    "\n",
    "# 실습연습 3\n",
    "\n",
    "my_certificates={\"SQL\",\"Python\",\"Linux\"}\n",
    "job_required={\"SQL\",\"Python\"}\n",
    "\n",
    "print(\"\\n지원자격 충족여부: \",my_certificates.issuperset(job_required))"
   ]
  },
  {
   "cell_type": "code",
   "execution_count": null,
   "id": "86cc658e",
   "metadata": {},
   "outputs": [],
   "source": []
  }
 ],
 "metadata": {
  "kernelspec": {
   "display_name": ".venv",
   "language": "python",
   "name": "python3"
  },
  "language_info": {
   "codemirror_mode": {
    "name": "ipython",
    "version": 3
   },
   "file_extension": ".py",
   "mimetype": "text/x-python",
   "name": "python",
   "nbconvert_exporter": "python",
   "pygments_lexer": "ipython3",
   "version": "3.13.5"
  }
 },
 "nbformat": 4,
 "nbformat_minor": 5
}
