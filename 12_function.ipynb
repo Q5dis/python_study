{
 "cells": [
  {
   "cell_type": "markdown",
   "id": "40ded75f",
   "metadata": {},
   "source": [
    "# 함수 \n",
    "라는 것이다\n",
    "- 특정작업을 수행하는 코드블록\n",
    "- 복잡한 코드를 작은 단위로 나눌 수 있게 도와줌\n",
    "- 반복되는 코드의 편리한 재사용"
   ]
  },
  {
   "cell_type": "markdown",
   "id": "daf830c9",
   "metadata": {},
   "source": [
    "### 중요한 것은 모듈화?!\n",
    "\n",
    "- 내장함수: 파이썬이 기본적으로 제공하는 함수들\n",
    "- 사용자 정의 함수: def 키워드를 통해 직접 제작한 함수"
   ]
  },
  {
   "cell_type": "code",
   "execution_count": null,
   "id": "fcd7ebb3",
   "metadata": {},
   "outputs": [
    {
     "name": "stdout",
     "output_type": "stream",
     "text": [
      "인자인자\n"
     ]
    }
   ],
   "source": [
    "def 함수명(매개변수):\n",
    "# 매개변수=매개+변수: parameter\n",
    "# 매개: 두 사이를 연결\n",
    "# 함수가 실행될 때 입력되는 값을 함수의 코드블록으로 전달하는 역할\n",
    "\n",
    "    # 실행할 코드 내용\n",
    "    매개변수=매개변수*2\n",
    "    return 매개변수 # 반환할 내용\n",
    "\n",
    "# 함수의 실행=호출 call\n",
    "결과=함수명(\"인자\") \n",
    "# 인자=Argument 매개변수로 전달하는 실제 값.\n",
    "# 여기서 이번 호출에 사용할 매개변수를 정의한다고 볼 수 있다.\n",
    "\n",
    "print(결과)\n"
   ]
  },
  {
   "cell_type": "code",
   "execution_count": null,
   "id": "ee716efe",
   "metadata": {},
   "outputs": [
    {
     "name": "stdout",
     "output_type": "stream",
     "text": [
      "95\n",
      "105\n",
      "100\n"
     ]
    }
   ],
   "source": [
    "def my_func(a,b):\n",
    "    if a>b:\n",
    "        return a-b\n",
    "    else:\n",
    "        return a+b\n",
    "    \n",
    "print(my_func(100,5))\n",
    "print(my_func(5,100))\n",
    "print(my_func(50,50))\n",
    "\n"
   ]
  },
  {
   "cell_type": "code",
   "execution_count": null,
   "id": "6d9ea67e",
   "metadata": {},
   "outputs": [],
   "source": []
  }
 ],
 "metadata": {
  "kernelspec": {
   "display_name": ".venv",
   "language": "python",
   "name": "python3"
  },
  "language_info": {
   "codemirror_mode": {
    "name": "ipython",
    "version": 3
   },
   "file_extension": ".py",
   "mimetype": "text/x-python",
   "name": "python",
   "nbconvert_exporter": "python",
   "pygments_lexer": "ipython3",
   "version": "3.13.5"
  }
 },
 "nbformat": 4,
 "nbformat_minor": 5
}
