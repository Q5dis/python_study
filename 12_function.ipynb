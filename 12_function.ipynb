{
 "cells": [
  {
   "cell_type": "markdown",
   "id": "40ded75f",
   "metadata": {},
   "source": [
    "# 함수 \n",
    "라는 것이다\n",
    "- 특정작업을 수행하는 코드블록\n",
    "- 복잡한 코드를 작은 단위로 나눌 수 있게 도와줌\n",
    "- 반복되는 코드의 편리한 재사용"
   ]
  },
  {
   "cell_type": "markdown",
   "id": "daf830c9",
   "metadata": {},
   "source": [
    "### 중요한 것은 모듈화?!\n",
    "\n",
    "- 내장함수: 파이썬이 기본적으로 제공하는 함수들\n",
    "- 사용자 정의 함수: def 키워드를 통해 직접 제작한 함수"
   ]
  },
  {
   "cell_type": "code",
   "execution_count": 1,
   "id": "fcd7ebb3",
   "metadata": {},
   "outputs": [
    {
     "name": "stdout",
     "output_type": "stream",
     "text": [
      "인자인자\n"
     ]
    }
   ],
   "source": [
    "def 함수명(매개변수):\n",
    "# 매개변수=매개+변수: parameter\n",
    "# 매개: 두 사이를 연결\n",
    "# 함수가 실행될 때 입력되는 값을 함수의 코드블록으로 전달하는 역할\n",
    "\n",
    "    # 실행할 코드 내용\n",
    "    매개변수=매개변수*2\n",
    "    return 매개변수 # 반환할 내용\n",
    "\n",
    "# 함수의 실행=호출 call\n",
    "결과=함수명(\"인자\") \n",
    "# 인자=Argument 매개변수로 전달하는 실제 값.\n",
    "# 여기서 이번 호출에 사용할 매개변수를 정의한다고 볼 수 있다.\n",
    "\n",
    "print(결과)\n"
   ]
  },
  {
   "cell_type": "code",
   "execution_count": null,
   "id": "ee716efe",
   "metadata": {},
   "outputs": [
    {
     "name": "stdout",
     "output_type": "stream",
     "text": [
      "95\n",
      "105\n",
      "100\n"
     ]
    }
   ],
   "source": [
    "def my_func(a,b):\n",
    "    if a>b:\n",
    "        return a-b\n",
    "    else:\n",
    "        return a+b\n",
    "    \n",
    "print(my_func(100,5))\n",
    "print(my_func(5,100))\n",
    "print(my_func(50,50))\n",
    "\n"
   ]
  },
  {
   "cell_type": "code",
   "execution_count": null,
   "id": "6d9ea67e",
   "metadata": {},
   "outputs": [
    {
     "name": "stdout",
     "output_type": "stream",
     "text": [
      "0\n"
     ]
    }
   ],
   "source": []
  },
  {
   "cell_type": "code",
   "execution_count": 7,
   "id": "387143ab",
   "metadata": {},
   "outputs": [
    {
     "name": "stdout",
     "output_type": "stream",
     "text": [
      "빵상 깨랑깨랑 냄돌 이유\n",
      "30\n"
     ]
    }
   ],
   "source": [
    "def introduce(name):\n",
    "    print(\"빵상 깨랑깨랑\",name,\"이유\")\n",
    "introduce(\"냄돌\")\n",
    "\n",
    "def add(x,y):\n",
    "    return x+y\n",
    "print(add(10,20))"
   ]
  },
  {
   "cell_type": "code",
   "execution_count": null,
   "id": "4db2ff3a",
   "metadata": {},
   "outputs": [
    {
     "name": "stdout",
     "output_type": "stream",
     "text": [
      "5.0\n"
     ]
    }
   ],
   "source": [
    "# 실습 사칙연산 계산기\n",
    "\n",
    "def calculate(a,b,operator):\n",
    "    s=\"지원하지 않는 연산입니다\"\n",
    "    if operator==\"+\":\n",
    "        return a+b\n",
    "    elif operator==\"-\":\n",
    "        return a-b\n",
    "    elif operator==\"*\":\n",
    "        return a*b\n",
    "    elif operator==\"/\":\n",
    "        return float(a/b)\n",
    "    else:\n",
    "        return s\n",
    "    \n",
    "print(calculate(50,10,\"/\"))\n"
   ]
  },
  {
   "cell_type": "code",
   "execution_count": 13,
   "id": "b103b5d6",
   "metadata": {},
   "outputs": [
    {
     "name": "stdout",
     "output_type": "stream",
     "text": [
      "삽살개님, 안녕하세요!\n"
     ]
    }
   ],
   "source": [
    "#  기본값 인자!!!\n",
    "# 는 뒤로 가야된다.\n",
    "\n",
    "def greet(name,message=\"안녕하세요!\"):\n",
    "    print(f\"{name}님, {message}\")\n",
    "\n",
    "greet(\"삽살개\")"
   ]
  },
  {
   "cell_type": "code",
   "execution_count": null,
   "id": "d64ae012",
   "metadata": {},
   "outputs": [
    {
     "name": "stdout",
     "output_type": "stream",
     "text": [
      "(1, 2, 3, 4)\n",
      "10\n"
     ]
    }
   ],
   "source": [
    "# 위치가변인자\n",
    "\n",
    "def all(*args):\n",
    "    return (args)\n",
    "print(all(1,2,3,4))\n",
    "\n",
    "# 튜플형태로 값을 받아들여 여러개를 받을 수 있다.\n",
    "# 받아들일 값이 유동적일 때 위치가변인자를 사용하면 유연하게 대처할 수 있다.\n",
    "\n",
    "def sum_all(*args):\n",
    "    return sum((args))\n",
    "print(sum_all(1,2,3,4))\n",
    "# 입력받은 모든 값을 더한 값을 출력\n"
   ]
  },
  {
   "cell_type": "code",
   "execution_count": null,
   "id": "4490b9d1",
   "metadata": {},
   "outputs": [
    {
     "name": "stdout",
     "output_type": "stream",
     "text": [
      "name: nasus\n",
      "age: 3000\n",
      "location: shurima\n"
     ]
    }
   ],
   "source": [
    "# 키워드가변인자\n",
    "# 여러 키워드 인자를 유동적으로 받을 수 있음\n",
    "# 딕셔너리 형태로 값이 입력됨.\n",
    "\n",
    "def print_info(**kwargs):\n",
    "    for key, value in kwargs.items(): \n",
    "        # kwargs로 받은 items()를 key, value에 각각 언패킹하는 코드\n",
    "        print(f\"{key}: {value}\")\n",
    "\n",
    "print_info(name=\"nasus\", age=3000, location=\"shurima\")"
   ]
  },
  {
   "cell_type": "code",
   "execution_count": 1,
   "id": "3bde04ce",
   "metadata": {},
   "outputs": [
    {
     "name": "stdout",
     "output_type": "stream",
     "text": [
      "1\n",
      "(20, 30, 40, 40)\n",
      "{'name': 'nasus', 'need': 'stack'}\n"
     ]
    }
   ],
   "source": [
    "def my_func (a,*args,**kwargs):\n",
    "    print(a)\n",
    "    print(args)\n",
    "    print(kwargs)\n",
    "\n",
    "my_func(1,20,30,40,40, name=\"nasus\",need=\"stack\")\n",
    "\n",
    "\n",
    "# 여러 가변 인자를 섞어서 사용할 수 있음.\n",
    "# 그러나 가변인자의 순서가 맞아야만 됨."
   ]
  },
  {
   "cell_type": "markdown",
   "id": "a1c37f15",
   "metadata": {},
   "source": [
    "# 파이썬은 매개변수 전달방식이 객체 참조에 의한 전달 방식이다\n",
    "#### call by object reference\n",
    "\n",
    "- 변경가능한 객체(mutable): 함수 내 변경>>>외부에도 영향\n",
    "- 변경 불가능한 객체(immutable): 함수 내 변경>>>외부영향없음"
   ]
  },
  {
   "cell_type": "code",
   "execution_count": null,
   "id": "7d61671a",
   "metadata": {},
   "outputs": [
    {
     "name": "stdout",
     "output_type": "stream",
     "text": [
      "90.0 \n",
      "\n",
      "90.0 \n",
      "\n",
      "Asdfasdfasfdaf \n",
      "\n",
      "Asdfasdfasfdaf \n",
      "\n",
      "name: nasus\n",
      "age: 3000\n",
      "email: happy@gmail.com\n",
      "\n",
      "상품명: 수박, 원가: 10000, 할인가: 9000원\n",
      "상품명: 사과, 원가: 8000, 할인가: 7200원\n"
     ]
    }
   ],
   "source": [
    "# 실습1\n",
    "def average(*args):\n",
    "    j=0\n",
    "    for i in range(len(args)):\n",
    "        j+=args[i]\n",
    "    return j/len(args)\n",
    "\n",
    "print(average(100,100,100,100,50),\"\\n\")\n",
    "\n",
    "# 더 짧게 함수로\n",
    "def average(*args):\n",
    "    return sum(args)/len(args)\n",
    "\n",
    "print(average(100,100,100,100,50),\"\\n\")\n",
    "\n",
    "# 실습2\n",
    "def max_len(*args):\n",
    "    j=\"\"\n",
    "    for i in args:\n",
    "        if len(i)>len(j):\n",
    "            j=i\n",
    "    return j\n",
    "print(max_len(\"asdfadf\",\"Asdfasdfasdf\",\"Asdfasdfasfdaf\"),\"\\n\")\n",
    "\n",
    "# 강사의 예\n",
    "def max_len(*args):\n",
    "    return max(args,key=len) # 길이를 키워드로 가장 큰 수?\n",
    "print(max_len(\"asdfadf\",\"Asdfasdfasdf\",\"Asdfasdfasfdaf\"),\"\\n\")\n",
    "\n",
    "\n",
    "# 실습3\n",
    "def print_info(**kwargs):\n",
    "    for key, value in kwargs.items(): \n",
    "        print(f\"{key}: {value}\")\n",
    "print_info(name=\"nasus\", age=3000, email=\"happy@gmail.com\")\n",
    "print(\"\")\n",
    "\n",
    "# 실습4\n",
    "\n",
    "def discount(**kwargs):\n",
    "    for key, value in kwargs.items(): \n",
    "        print(f\"상품명: {key}, 원가: {value}, 할인가: {int(value-value*0.1)}원\")\n",
    "discount(수박=10000,사과=8000)\n",
    "\n",
    "\n"
   ]
  },
  {
   "cell_type": "code",
   "execution_count": 78,
   "id": "2647791d",
   "metadata": {},
   "outputs": [],
   "source": [
    "# 파이썬의 메모리구조\n",
    "\n",
    "# 스택영역: 지역변수, 매개변수가 저장되는 공간, 함수와 깊은 연결\n",
    "# FILO first in last out\n",
    "\n",
    "# 힙영역: 생성되는 모든 객체가 저장되는 공간\n",
    "# LIFO last in first out\n",
    "\n",
    "# 큐 queue\n",
    "# FIFO first in first out\n",
    "\n",
    "# Local지역스코프 함수 내>>Enclosing내포된 함수의 스코프>>Global모듈 단위>>Built-in내장 이름들 len, sum등"
   ]
  },
  {
   "cell_type": "code",
   "execution_count": null,
   "id": "c8c164f8",
   "metadata": {},
   "outputs": [
    {
     "name": "stdout",
     "output_type": "stream",
     "text": [
      "지역변수:  120\n",
      "전역변수:  10\n",
      "\n",
      "원래의 전역변수 n:  100\n",
      "글로벌 키워드로 전역변수 사용선언:  200\n",
      "전역변수가 변경되다?!:  200\n",
      "\n",
      "원래의 전역변수 j:  100\n",
      "매개변수는 지역에 존재, 원본 변수를 변경하지 않고 기능 사용:  200\n",
      "전역변수는 그대로 안전하게 있다:  100\n",
      "이런 식으로 새로 선언해주는게 안전:  200\n"
     ]
    }
   ],
   "source": [
    "x=10\n",
    "\n",
    "# 전역: 함수 밖 선언된 변수\n",
    "# 지역: 함수 안 선언된 변수\n",
    "\n",
    "def my_func():\n",
    "    x=20\n",
    "    x+=100\n",
    "    print(\"지역변수: \",x)\n",
    "\n",
    "my_func()\n",
    "print(\"전역변수: \",x)\n",
    "\n",
    "# 함수 내에서 x 가 정의 안되었을 때: UnboundLocalError\n",
    "# cannot access local variable 'x' \n",
    "# where it is not associated with a value\n",
    "\n",
    "n = 100\n",
    "print(\"\\n원래의 전역변수 n: \",n)\n",
    "def my_func():\n",
    "    global n\n",
    "    n+=100\n",
    "    print(\"글로벌 키워드로 전역변수 사용선언: \",n)\n",
    "\n",
    "my_func()\n",
    "print(\"전역변수가 변경되다?!: \",n)\n",
    "\n",
    "# 다만 권장되는 패턴은 아니다. 추적이 어렵고 문제발생시 해결이 어렵다\n",
    "\n",
    "j = 100\n",
    "print(\"\\n원래의 전역변수 j: \",j)\n",
    "def my_func(j):\n",
    "    j+=100\n",
    "    return j\n",
    "print(\"매개변수는 지역에 존재, 원본 변수를 변경하지 않고 기능 사용: \",my_func(j))\n",
    "print(\"전역변수는 그대로 안전하게 있다: \",j)\n",
    "\n",
    "j=my_func(j)\n",
    "print(\"이런 식으로 새로 선언해주는게 안전: \",j)\n",
    "\n",
    "# 함수형 프로그래밍의 예..."
   ]
  },
  {
   "cell_type": "code",
   "execution_count": null,
   "id": "687dc1fa",
   "metadata": {},
   "outputs": [
    {
     "name": "stdout",
     "output_type": "stream",
     "text": [
      "120\n"
     ]
    }
   ],
   "source": [
    "x=10 \n",
    "\n",
    "def f1():\n",
    "    global x\n",
    "    x+=10\n",
    "\n",
    "def f2():\n",
    "    global x\n",
    "    x+=100\n",
    "\n",
    "f1()\n",
    "f2()\n",
    "\n",
    "print(x)\n",
    "\n",
    "# 이것은 나쁜 예. 변수 직접변경은 하나의 곳에서만 실행하라."
   ]
  },
  {
   "cell_type": "code",
   "execution_count": 103,
   "id": "5e413c46",
   "metadata": {},
   "outputs": [
    {
     "name": "stdout",
     "output_type": "stream",
     "text": [
      "내내부\n",
      "내부\n",
      "외부\n"
     ]
    }
   ],
   "source": [
    "# 외부 함수와 내부 함수의 작동을 체크\n",
    "\n",
    "def deep_func():\n",
    "    print(\"내내부\")\n",
    "\n",
    "def inner_func():\n",
    "    deep_func()\n",
    "    print(\"내부\")\n",
    "\n",
    "def outer_func():\n",
    "    inner_func()\n",
    "    print(\"외부\")\n",
    "\n",
    "outer_func()\n",
    "# 스택구조라는 것을 볼 수 있음.\n",
    "\n",
    "# 호출대기순서>> 아웃펑크,이너펑크,딥펑크 순으로 쌓임.\n",
    "# 파이썬은 스택구조이기 때문에 딥펑크, 이너펑크, 아웃펑크 순으로 호출"
   ]
  },
  {
   "cell_type": "code",
   "execution_count": 118,
   "id": "a0836427",
   "metadata": {},
   "outputs": [
    {
     "name": "stdout",
     "output_type": "stream",
     "text": [
      "삼색이님 로그인 환영합니다\n",
      "이미 로그인 되어있습니다\n",
      "이미 로그인 되어있습니다\n",
      "여러번 시도 불가능!\n",
      "로그아웃 되었습니다\n",
      "신통이님 로그인 환영합니다\n"
     ]
    }
   ],
   "source": [
    "# 실습 로그인/로그아웃 관리\n",
    "\n",
    "current_user=None\n",
    "count=0\n",
    "def login(name):\n",
    "    global current_user\n",
    "    global count\n",
    "\n",
    "    if current_user!=None:\n",
    "        print(\"이미 로그인 되어있습니다\")\n",
    "        count+=1\n",
    "        if count>1:\n",
    "            print(\"여러번 시도 불가능!\")\n",
    "    else:\n",
    "        current_user=name\n",
    "        print(f\"{current_user}님 로그인 환영합니다\")\n",
    "    \n",
    "def logout():\n",
    "    global current_user\n",
    "    global count\n",
    "    current_user=None\n",
    "    count=0\n",
    "    print(\"로그아웃 되었습니다\")\n",
    "\n",
    "\n",
    "login(\"삼색이\")\n",
    "login(\"삼순이\")\n",
    "login(\"삼돌이\")\n",
    "logout()\n",
    "login(\"신통이\")"
   ]
  },
  {
   "cell_type": "markdown",
   "id": "a7b9a190",
   "metadata": {},
   "source": [
    "#### 재귀함수 스스로를 계속 불러오는 함수\n",
    "- 반복되는 함수의 무한호출을 막기위해 정확히 언제 끝나는지 정해야만 한다\n",
    "- 언제!!!!! 끝날 지 구상이 끝나야 이용할 준비가 되었다고 볼 수 있다\n",
    "### 언제 사용하냐\n",
    "- 일정한 패턴이 있을 때...\n",
    "- 자기자신을 호출하며 더 작은 문제로 나눔\n",
    "- 기본 조건이 충족될 때 까지 재귀를 반복\n",
    "- 기본조건을 만나면 재귀가 종료, 함수가 차례로 반환\n",
    "- 기본조건 (Base Case) 가 필수, 없으면 무한루프가 됨."
   ]
  },
  {
   "cell_type": "markdown",
   "id": "d961ddf9",
   "metadata": {},
   "source": [
    "# 부분의 모양이 전체의 모양과 같다 = 프랙탈\n",
    "## 재귀도 이 지점에 적용됨"
   ]
  },
  {
   "cell_type": "code",
   "execution_count": 4,
   "id": "d4dda164",
   "metadata": {},
   "outputs": [
    {
     "name": "stdout",
     "output_type": "stream",
     "text": [
      "스택재귀\n",
      "재귀 1\n",
      "재귀 2\n",
      "재귀 3\n",
      "재귀 4\n",
      "재귀 5\n"
     ]
    }
   ],
   "source": [
    "import time\n",
    "\n",
    "def recursive_func(n):\n",
    "    if n==0:\n",
    "        print(\"스택재귀\")\n",
    "        return\n",
    "    recursive_func(n-1)\n",
    "    print(\"재귀\",n)\n",
    "recursive_func(5)"
   ]
  },
  {
   "cell_type": "markdown",
   "id": "86713abe",
   "metadata": {},
   "source": [
    "- 자기 자신을 호출하는 함수\n",
    "- 큰 문제를 작은문제로 나누었을 때 일정한 패턴이 있어야만 함\n",
    "- 기본조건(종료조건) 필수"
   ]
  },
  {
   "cell_type": "code",
   "execution_count": 21,
   "id": "7027f4a3",
   "metadata": {},
   "outputs": [
    {
     "name": "stdout",
     "output_type": "stream",
     "text": [
      "64\n",
      "64\n"
     ]
    }
   ],
   "source": [
    "# 일반적인 함수\n",
    "\n",
    "def power_for(a,n): # 수와 지수\n",
    "    result=1\n",
    "    for _ in range(n):\n",
    "        result*=a\n",
    "    return result\n",
    "\n",
    "print(power_for(4,3))\n",
    "\n",
    "\n",
    "# 재귀함수로 작성\n",
    "def power_rec(a, n):\n",
    "    if n == 0:\n",
    "        return 1  # 0제곱은 1\n",
    "    return a * power_rec(a, n - 1)\n",
    "\n",
    "print(power_rec(4, 3))  \n",
    "\n"
   ]
  },
  {
   "cell_type": "code",
   "execution_count": null,
   "id": "f981e529",
   "metadata": {},
   "outputs": [
    {
     "name": "stdout",
     "output_type": "stream",
     "text": [
      "120\n",
      "120\n"
     ]
    }
   ],
   "source": [
    "# 팩토리얼\n",
    "# 포문으로\n",
    "\n",
    "def factorial_for(n):\n",
    "    result = 1\n",
    "    for i in range(1, n + 1):  # 1부터 n까지 반복\n",
    "        result *= i\n",
    "    return result\n",
    "print(factorial_for(5))  \n",
    "\n",
    "# 그뭐냐... 재귀함수로\n",
    "def factorial_rec(n):\n",
    "    if n <=1:\n",
    "        return 1\n",
    "    return n * factorial_rec(n-1)\n",
    "print(factorial_rec(5))\n",
    "\n",
    "# 강사의 예시코드\n",
    "def factorial_rec(n):\n",
    "    if n < 0:\n",
    "        return \"음수 팩토리얼 출력불가\"\n",
    "    if n <=1:\n",
    "        return 1 # 기본조건: 1이되면 멈춘다.\n",
    "    return n * factorial_rec(n-1) # 하나씩 빼면서 스택에 쌓다.\n",
    "print(factorial_rec(5))\n"
   ]
  },
  {
   "cell_type": "code",
   "execution_count": 58,
   "id": "bc4b3030",
   "metadata": {},
   "outputs": [
    {
     "name": "stdout",
     "output_type": "stream",
     "text": [
      "233\n",
      "233\n"
     ]
    }
   ],
   "source": [
    "##### 제제제제제제제발 정정정정정정신차려제제제제제제발정정정정신차려제발\n",
    "# 수학적 개념에 대해 먼저 공부할 필요가 있어보입니다. 제발요. 정신병자년아. \n",
    "\n",
    "\n",
    "# 앞의 두 수를 더해 새로운 수를 만들어 내는 수열 피보나치\n",
    "\n",
    "\n",
    "def fibonacci_for(n):\n",
    "    if n==0:\n",
    "        return 0\n",
    "    elif n==1:\n",
    "        return 1\n",
    "    \n",
    "    before = 0\n",
    "    now = 1\n",
    "\n",
    "    for i in range(2, n+1):\n",
    "        before,now=now,before+now\n",
    "    return now\n",
    "\n",
    "print(fibonacci_for(13))\n",
    "\n",
    "\n",
    "def fibonacci_rec(n):\n",
    "    if n < 0:\n",
    "        return \"음수 수용불가\"\n",
    "    if n == 0:\n",
    "        return 0\n",
    "    if n == 1:\n",
    "        return 1\n",
    "    return fibonacci_rec(n-1) + fibonacci_rec(n-2)\n",
    "            #직전의 것 더하기 + 직전 전의 것 더하기\n",
    "\n",
    "print(fibonacci_rec(13))\n",
    "\n"
   ]
  },
  {
   "cell_type": "code",
   "execution_count": null,
   "id": "77bd3f9b",
   "metadata": {},
   "outputs": [],
   "source": [
    "# 강사의 예문 코드\n",
    "\n",
    "def fibonacci_for(n):\n",
    "    if n<=0:\n",
    "        return 0\n",
    "    elif n == 1:\n",
    "        return 1\n",
    "    \n",
    "    a=0\n",
    "    b=1\n",
    "    result =0\n",
    "\n",
    "    for _ in range(n-1):\n",
    "        result =a+b\n",
    "        a=b\n",
    "        b=result\n",
    "\n",
    "    return result\n"
   ]
  },
  {
   "cell_type": "code",
   "execution_count": 59,
   "id": "47b89b1a",
   "metadata": {},
   "outputs": [
    {
     "name": "stdout",
     "output_type": "stream",
     "text": [
      "233\n"
     ]
    }
   ],
   "source": [
    "def asdf(n):\n",
    "    if n <=0:\n",
    "        return 0\n",
    "    elif n==1:\n",
    "        return 1\n",
    "    a,b=0,1\n",
    "\n",
    "    for _ in range(n-1):\n",
    "        a,b=b,a+b\n",
    "    return b\n",
    "\n",
    "print(asdf(13))"
   ]
  },
  {
   "cell_type": "markdown",
   "id": "4283ae7d",
   "metadata": {},
   "source": [
    "# ㅇㅏ주 중요한 람다함수\n",
    "- 간단한 함수를 한 줄로 표현할때 사용한다\n",
    "- 리스트 컴프리헨션의 함수버전 느낌??"
   ]
  },
  {
   "cell_type": "code",
   "execution_count": null,
   "id": "3cc0b7d5",
   "metadata": {},
   "outputs": [
    {
     "name": "stdout",
     "output_type": "stream",
     "text": [
      "30\n",
      "100\n",
      "100\n"
     ]
    }
   ],
   "source": [
    "# 사용법 lambda 매개변수: 표현식\n",
    "\n",
    "def add(x,y):\n",
    "    return x+y\n",
    "\n",
    "# 의 람다식 표현\n",
    "# 재활용 람다?\n",
    "add_func=lambda x,y:x+y\n",
    "print(add_func(10,20))\n",
    "\n",
    "# 람다로 값 반환 후 사용 끝내는 경우\n",
    "print((lambda x: x**2)(10)) #람다식/값\n"
   ]
  },
  {
   "cell_type": "code",
   "execution_count": 73,
   "id": "d5931ff6",
   "metadata": {},
   "outputs": [
    {
     "data": {
      "text/plain": [
       "[1, 4, 9, 16, 25, 36, 49, 64, 81, 100]"
      ]
     },
     "execution_count": 73,
     "metadata": {},
     "output_type": "execute_result"
    }
   ],
   "source": [
    "# 람다의 주된 활용은...\n",
    "# 1. map 에서 활용\n",
    "# 이터러블을 순회하며 함수를 적용해주는 함수가 map 함수\n",
    "# 아주 중요하니!\n",
    "my_list=[1,2,3,4,5,6,7,8,9,10]\n",
    "list(map(lambda x: x**2, my_list))"
   ]
  },
  {
   "cell_type": "code",
   "execution_count": 81,
   "id": "a9b1db16",
   "metadata": {},
   "outputs": [
    {
     "name": "stdout",
     "output_type": "stream",
     "text": [
      "[2, 4, 6, 8, 10, 12, 14, 16, 18, 20, 22, 24, 26, 28, 30]\n",
      "[2, 4, 6, 8, 10, 12, 14, 16, 18, 20, 22, 24, 26, 28, 30]\n"
     ]
    }
   ],
   "source": [
    "ml2=[1,2,3,4,5,6,7,8,9,10,11,12,13,14,15,16,17,18,19,20,21,22,23,24,25,26,27,28,29,30]\n",
    "def norm_func(x):\n",
    "    return x%2==0\n",
    "\n",
    "print(list(filter(norm_func,ml2)))\n",
    "\n",
    "# 짝수만 필터한다\n",
    "# filter: 이터러블 함수가 True면 반환, False라면 패스\n",
    "\n",
    "# 람다이용?\n",
    "print(list(filter(lambda x: x%2==0,ml2)))"
   ]
  },
  {
   "cell_type": "code",
   "execution_count": 8,
   "id": "f0c79b6c",
   "metadata": {},
   "outputs": [
    {
     "name": "stdout",
     "output_type": "stream",
     "text": [
      "['dragonfruits', 'strawberry', 'watermelon', 'grape', 'apple']\n"
     ]
    }
   ],
   "source": [
    "words=[\"strawberry\",\"watermelon\",\"dragonfruits\",\"grape\",\"apple\"]\n",
    "\n",
    "sorted_data=sorted(words,key=lambda word: len(word),reverse=True)# key로 정렬기준을 정해줄 수 있다.\n",
    "print(sorted_data)\n",
    "\n"
   ]
  },
  {
   "cell_type": "code",
   "execution_count": 124,
   "id": "7e80686c",
   "metadata": {},
   "outputs": [
    {
     "name": "stdout",
     "output_type": "stream",
     "text": [
      "[('Alice', [80, 90])]\n",
      "['Python', 'Lambda', 'Coding']\n",
      "[('Bob', 25), ('Alice', 30), ('Charlie', 35)]\n"
     ]
    }
   ],
   "source": [
    "# 실습 1\n",
    "students = [(\"Alice\", [80, 90]), (\"Bob\", [60, 65]), (\"Charlie\", [70, 70])]\n",
    "filter_students = list(filter(lambda s: sum(s[1]) / 2 > 70,students))\n",
    "print(filter_students)\n",
    "\n",
    "# 실습 2\n",
    "sentences = [\"Python is fun\", \"Lambda functions are powerful\", \"Coding is creative\"]\n",
    "first_words = list(map(lambda s: s.split()[0], sentences))\n",
    "print(first_words)\n",
    "\n",
    "# 실습 3\n",
    "people=[(\"Alice\",30),(\"Bob\",25),(\"Charlie\",35)]\n",
    "sort_people = list(sorted(people, key=lambda p: p[1]))\n",
    "print(sort_people)\n"
   ]
  },
  {
   "cell_type": "code",
   "execution_count": 126,
   "id": "371d9b89",
   "metadata": {},
   "outputs": [
    {
     "name": "stdout",
     "output_type": "stream",
     "text": [
      "[('Alice', [80, 90])]\n",
      "['Python', 'Lambda', 'Coding']\n",
      "[('Bob', 25), ('Alice', 30), ('Charlie', 35)]\n"
     ]
    }
   ],
   "source": [
    "# 실습 1\n",
    "students = [(\"Alice\", [80, 90]), (\"Bob\", [60, 65]), (\"Charlie\", [70, 70])]\n",
    "filter_students = list(filter(lambda s: sum(s[1]) / 2 > 70,students))\n",
    "print(filter_students)\n",
    "\n",
    "# 실습 2\n",
    "sentences = [\"Python is fun\", \"Lambda functions are powerful\", \"Coding is creative\"]\n",
    "first_words = list(map(lambda s: s.split()[0], sentences))\n",
    "print(first_words)\n",
    "\n",
    "# 실습 3\n",
    "people=[(\"Alice\",30),(\"Bob\",25),(\"Charlie\",35)]\n",
    "sort_people = list(sorted(people, key=lambda p: p[1])) # 하나씩 꺼내서 필터... 하나씩 꺼내서 적용,적용출력...\n",
    "print(sort_people)\n"
   ]
  },
  {
   "cell_type": "code",
   "execution_count": null,
   "id": "b7766e07",
   "metadata": {},
   "outputs": [
    {
     "data": {
      "text/plain": [
       "9"
      ]
     },
     "execution_count": 2,
     "metadata": {},
     "output_type": "execute_result"
    }
   ],
   "source": [
    "# 람다 매개변수: 표현식\n",
    "# 람다는 함수 속 함수가 필요할때 사용\n",
    "# 맵, 리스트, 소트, 필터 등에 자주 사용된다.\n",
    "\n",
    "# 함수를 인자로 받는 함수- 고차함수(Higher-oder Function)\n",
    "# 부수효과를 일으키지 않는 함수: 순수함수 \n",
    "a=lambda x,y: x+y\n",
    "a(6,3)"
   ]
  },
  {
   "cell_type": "code",
   "execution_count": null,
   "id": "b98c1b3b",
   "metadata": {},
   "outputs": [],
   "source": []
  }
 ],
 "metadata": {
  "kernelspec": {
   "display_name": ".venv",
   "language": "python",
   "name": "python3"
  },
  "language_info": {
   "codemirror_mode": {
    "name": "ipython",
    "version": 3
   },
   "file_extension": ".py",
   "mimetype": "text/x-python",
   "name": "python",
   "nbconvert_exporter": "python",
   "pygments_lexer": "ipython3",
   "version": "3.13.5"
  }
 },
 "nbformat": 4,
 "nbformat_minor": 5
}
