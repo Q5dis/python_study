{
 "cells": [
  {
   "cell_type": "markdown",
   "id": "5f7a853e",
   "metadata": {},
   "source": [
    "# 조건문\n",
    "\n",
    "- 조건에 따라 프로그램의 실행 흐름을 분기시키는 제어문\n",
    "- 조권 아닙니다\n",
    "- 조건: (=명제) 참과 거짓을 구분할 수 있는 부분.\n",
    "\n",
    "파이썬은 코드블록을 : 와 들여쓰기로 구분함.\n",
    "\n",
    "\n",
    "- true로 간주되는 값: truthy/false로 간주되는 값: falsy\n",
    "- falsy: False, None, 0, 0.0, 빈 문자열, 리스트, 튜플, 딕셔너리 등. 그 외는 모두 True로 간주"
   ]
  },
  {
   "cell_type": "code",
   "execution_count": null,
   "id": "7e8e2e23",
   "metadata": {},
   "outputs": [],
   "source": [
    "# if 조건 :\n",
    "#     if 조건을 충족했을 시 실행되는 구문\n",
    "# elif :\n",
    "#    다른 조건을 충족했을 시 실행되는 구문\n",
    "# else : \n",
    "#    두 구문 다 충족되지 않을 시 실행되는 구문"
   ]
  },
  {
   "cell_type": "code",
   "execution_count": null,
   "id": "6b7a6002",
   "metadata": {},
   "outputs": [
    {
     "name": "stdout",
     "output_type": "stream",
     "text": [
      "a is smaller than 2\n"
     ]
    }
   ],
   "source": [
    "a=int(input())\n",
    "\n",
    "if a>=2:\n",
    "    print(\"a is bigger or same as 2\")\n",
    "else:\n",
    "    print(\"a is smaller than 2\")"
   ]
  },
  {
   "cell_type": "code",
   "execution_count": 14,
   "id": "a8d0b45d",
   "metadata": {},
   "outputs": [],
   "source": [
    "# pass 를 사용하면 조건을 충족했을 시 실행되는 구문을 공백으로 남길 수 있음\n",
    "\n",
    "a=int(input())\n",
    "\n",
    "if a>=2:\n",
    "    print(\"a is bigger or same as 2\")\n",
    "else:\n",
    "    pass"
   ]
  },
  {
   "cell_type": "code",
   "execution_count": 22,
   "id": "356fc194",
   "metadata": {},
   "outputs": [
    {
     "name": "stdout",
     "output_type": "stream",
     "text": [
      "김병지\n"
     ]
    }
   ],
   "source": [
    "name=\"김병지\"\n",
    "\n",
    "if name:\n",
    "    print(name)\n",
    "else:\n",
    "    print(\"이름이 없음\")"
   ]
  },
  {
   "cell_type": "code",
   "execution_count": null,
   "id": "78ced731",
   "metadata": {},
   "outputs": [
    {
     "name": "stdout",
     "output_type": "stream",
     "text": [
      "우산을 챙기시오\n"
     ]
    }
   ],
   "source": [
    "weather=input()\n",
    "if weather==\"비\":\n",
    "    print(\"우산을 챙기시오\")\n",
    "elif weather==\"맑음\":\n",
    "    print(\"선크림을 바르시오\")"
   ]
  },
  {
   "cell_type": "code",
   "execution_count": null,
   "id": "509bb582",
   "metadata": {},
   "outputs": [
    {
     "name": "stdout",
     "output_type": "stream",
     "text": [
      "선크림을 바르시오\n"
     ]
    }
   ],
   "source": [
    "weather=input()\n",
    "if weather==\"비\":\n",
    "    print(\"우산을 챙기시오\")\n",
    "elif weather==\"맑음\":\n",
    "    print(\"선크림을 바르시오\")"
   ]
  },
  {
   "cell_type": "code",
   "execution_count": null,
   "id": "02606504",
   "metadata": {},
   "outputs": [
    {
     "name": "stdout",
     "output_type": "stream",
     "text": [
      "10 == 10\n"
     ]
    }
   ],
   "source": [
    "a=int(input())\n",
    "if a>10:\n",
    "    print(a,\"> 10\")\n",
    "elif a==10: \n",
    "    print(a, \"== 10\")\n",
    "else:\n",
    "    print(a,\"< 10\")"
   ]
  },
  {
   "cell_type": "code",
   "execution_count": 46,
   "id": "70adee7f",
   "metadata": {},
   "outputs": [
    {
     "name": "stdout",
     "output_type": "stream",
     "text": [
      "19 홀수\n"
     ]
    }
   ],
   "source": [
    "num=int(input(\"정수를 입력하세요: \"))\n",
    "if num%2==0:\n",
    "    print(num,\"짝수\")\n",
    "else: print(num, \"홀수\")"
   ]
  },
  {
   "cell_type": "code",
   "execution_count": 51,
   "id": "5544820c",
   "metadata": {},
   "outputs": [
    {
     "name": "stdout",
     "output_type": "stream",
     "text": [
      "A\n"
     ]
    }
   ],
   "source": [
    "score=int(input(\"점수입력: \"))\n",
    "\n",
    "if score>=90:\n",
    "    print(\"A\")\n",
    "elif score>=80:\n",
    "    print(\"B\")\n",
    "elif score>=70:\n",
    "    print(\"C\")\n",
    "elif score>=60:\n",
    "    print(\"D\")\n",
    "else:\n",
    "    print(\"F\")"
   ]
  },
  {
   "cell_type": "code",
   "execution_count": null,
   "id": "afaa63e3",
   "metadata": {},
   "outputs": [
    {
     "name": "stdout",
     "output_type": "stream",
     "text": [
      "15 12세 관람가\n"
     ]
    }
   ],
   "source": [
    "age=int(input(\"나이를 입력해 주세요: \"))\n",
    "\n",
    "if age>19:\n",
    "    print(age, \"청소년 관람불가 가능\")\n",
    "elif age<=18 & age>15:\n",
    "    print(age, \"15세 관람가\")\n",
    "elif age<=15 & age>11:\n",
    "    print(age, \"12세 관람가\")\n",
    "else:\n",
    "    print(age, \"전체관람가\")\n"
   ]
  },
  {
   "cell_type": "code",
   "execution_count": null,
   "id": "28a02d5f",
   "metadata": {},
   "outputs": [
    {
     "name": "stdout",
     "output_type": "stream",
     "text": [
      "pass\n",
      "로그인 성공\n"
     ]
    }
   ],
   "source": [
    "# 중첩 조건문\n",
    "username=input(\"관리자 아이디 입력: \")\n",
    "if username==\"admin\":\n",
    "    print(\"pass\")\n",
    "    password=input(\"비밀번호 입력: \")\n",
    "    if password==\"asdf\":\n",
    "        print(\"로그인 성공\")\n",
    "    else: print(\"잘못된 비밀번호\")\n",
    "else: print(\"잘못된 유저명\")"
   ]
  },
  {
   "cell_type": "code",
   "execution_count": 75,
   "id": "d3f5d6d2",
   "metadata": {},
   "outputs": [
    {
     "name": "stdout",
     "output_type": "stream",
     "text": [
      "유저인증 성공\n"
     ]
    }
   ],
   "source": [
    "if username==\"admin\" and password==\"asdf\":\n",
    "    print(\"유저인증 성공\")\n",
    "else: print(\"유저인증 실패\")"
   ]
  },
  {
   "cell_type": "code",
   "execution_count": 78,
   "id": "4740e713",
   "metadata": {},
   "outputs": [
    {
     "name": "stdout",
     "output_type": "stream",
     "text": [
      "도시락 성공적 구매\n"
     ]
    }
   ],
   "source": [
    "kimbap=[\"김밥\", 2500]\n",
    "tribap=[\"삼각김밥\",1500]\n",
    "dosirak=[\"도시락\", 4000]\n",
    "\n",
    "money=int(input(\"금액을 입력받겠습니다: \"))\n",
    "food=input(\"식품명을 입력받겠슶니다: \")\n",
    "\n",
    "if food==kimbap[0] and money>=kimbap[1]:\n",
    "    print(food, \"성공적 구매\")\n",
    "elif money<kimbap[1]:\n",
    "    print(\"구매 실패\")\n",
    "\n",
    "if food==tribap[0] and money>=tribap[1]:\n",
    "    print(food, \"성공적 구매\")\n",
    "elif money<tribap[1]:\n",
    "    print(\"구매 실패\")\n",
    "\n",
    "if food==dosirak[0] and money>=dosirak[1]:\n",
    "    print(food, \"성공적 구매\")\n",
    "elif money<dosirak[1]:\n",
    "    print(\"구매 실패\")\n"
   ]
  },
  {
   "cell_type": "code",
   "execution_count": null,
   "id": "9079bed3",
   "metadata": {},
   "outputs": [
    {
     "name": "stdout",
     "output_type": "stream",
     "text": [
      "1 시간  16 분  7 초\n"
     ]
    }
   ],
   "source": [
    "time=int(input(\"시간을 입력해 주세요: \"))\n",
    "\n",
    "if time<=60:\n",
    "    print(time,\"초\")\n",
    "elif time<=3600:\n",
    "    print((time//60),\"분 \",(time%60),\"초\")\n",
    "else:\n",
    "    time_hour= time//3600\n",
    "    time= time%3600\n",
    "    print(time_hour,\"시간 \",(time//60),\"분 \",(time%60),\"초\")"
   ]
  },
  {
   "cell_type": "code",
   "execution_count": null,
   "id": "4213051f",
   "metadata": {},
   "outputs": [],
   "source": []
  }
 ],
 "metadata": {
  "kernelspec": {
   "display_name": ".venv",
   "language": "python",
   "name": "python3"
  },
  "language_info": {
   "codemirror_mode": {
    "name": "ipython",
    "version": 3
   },
   "file_extension": ".py",
   "mimetype": "text/x-python",
   "name": "python",
   "nbconvert_exporter": "python",
   "pygments_lexer": "ipython3",
   "version": "3.13.5"
  }
 },
 "nbformat": 4,
 "nbformat_minor": 5
}
