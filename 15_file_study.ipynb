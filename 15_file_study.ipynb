{
 "cells": [
  {
   "cell_type": "markdown",
   "id": "dd4e1a86",
   "metadata": {},
   "source": [
    "로그인 성공 시 전화번호 저장하기"
   ]
  },
  {
   "cell_type": "code",
   "execution_count": 2,
   "id": "d234ed9d",
   "metadata": {},
   "outputs": [
    {
     "name": "stdout",
     "output_type": "stream",
     "text": [
      "---유저데이터 출력---\n",
      "nasus stack123\n",
      "garen demacia123\n",
      "darius nomorecsforyou\n",
      "\n"
     ]
    }
   ],
   "source": [
    "with open(\"members.txt\",\"w\",encoding=\"utf-8\") as m:\n",
    "    for i in range(3):\n",
    "        user=input(\"아이디: \")\n",
    "        password=input(\"비밀번호: \")\n",
    "        m.write(f\"{user} {password}\\n\")\n",
    "\n",
    "with open(\"members.txt\",\"r\",encoding=\"utf-8\") as m:\n",
    "    print(\"---유저데이터 출력---\")\n",
    "    print(m.read())"
   ]
  },
  {
   "cell_type": "code",
   "execution_count": null,
   "id": "2007c486",
   "metadata": {},
   "outputs": [
    {
     "name": "stdout",
     "output_type": "stream",
     "text": [
      "- 로그인 시 전화번호 저장 시스템\n",
      "- 프로그램 종료를 원하시면 x 입력\n",
      "id: adfs\n",
      "password: adfafds\n",
      "adfs: adfafsd\n",
      "adfafds: dsfaf\n",
      "adfafsd: ajaj\n",
      "dsfaf: dd\n",
      "ajaj: x\n",
      "- 프로그램 종료 \n"
     ]
    }
   ],
   "source": [
    "is_loggedin=False\n",
    "is_exit=0\n",
    "\n",
    "print(\"- 로그인 시 전화번호 저장 시스템\")\n",
    "print(\"- 프로그램 종료를 원하시면 x 입력\")\n",
    "\n",
    "login=[\"id\",\"password\"]\n",
    "\n",
    "while is_exit==0:\n",
    "    for i in range(2):\n",
    "        d=input(f\"{login[i]}를 입력하세요: \")\n",
    "        print(f\"{login[i]}: {d}\")\n",
    "        login[i]=d\n",
    "        if d==\"x\":\n",
    "            is_exit=1\n",
    "            print(\"- 프로그램 종료 \")\n",
    "            break\n",
    "        \n",
    "\n",
    "    "
   ]
  },
  {
   "cell_type": "code",
   "execution_count": null,
   "id": "15c5ec24",
   "metadata": {},
   "outputs": [],
   "source": []
  }
 ],
 "metadata": {
  "kernelspec": {
   "display_name": ".venv",
   "language": "python",
   "name": "python3"
  },
  "language_info": {
   "codemirror_mode": {
    "name": "ipython",
    "version": 3
   },
   "file_extension": ".py",
   "mimetype": "text/x-python",
   "name": "python",
   "nbconvert_exporter": "python",
   "pygments_lexer": "ipython3",
   "version": "3.13.5"
  }
 },
 "nbformat": 4,
 "nbformat_minor": 5
}
