{
 "cells": [
  {
   "cell_type": "markdown",
   "id": "df344ac2",
   "metadata": {},
   "source": [
    "# while 문\n",
    "- 조건(참 거짓으로 구분되는 구문)에 따라 반복하는 반복문.\n",
    "- True인 동안만 반복된다.\n",
    "- 포문과 차이점? 정해진 이터러블을 돈다\n",
    "- 와일문은 해당 조건동안 반복한다"
   ]
  },
  {
   "cell_type": "code",
   "execution_count": 4,
   "id": "9337ffb3",
   "metadata": {},
   "outputs": [
    {
     "name": "stdout",
     "output_type": "stream",
     "text": [
      "hi\n"
     ]
    }
   ],
   "source": [
    "import time\n",
    "while True:\n",
    "    print(\"hi\")\n",
    "    time.sleep(0.5)\n",
    "    break"
   ]
  },
  {
   "cell_type": "code",
   "execution_count": null,
   "id": "d7917667",
   "metadata": {},
   "outputs": [
    {
     "name": "stdout",
     "output_type": "stream",
     "text": [
      "go\n",
      "go\n",
      "go\n",
      "stop\n"
     ]
    }
   ],
   "source": [
    "light=\"green\"\n",
    "while light==\"green\":\n",
    "    print(\"go\")\n",
    "    light=input(\"input light: \")\n",
    "print(\"stop\")"
   ]
  },
  {
   "cell_type": "code",
   "execution_count": 6,
   "id": "cdaf8390",
   "metadata": {},
   "outputs": [
    {
     "name": "stdout",
     "output_type": "stream",
     "text": [
      "0 repeat\n",
      "1 repeat\n",
      "2 repeat\n",
      "3 repeat\n",
      "4 repeat\n"
     ]
    }
   ],
   "source": [
    "i=0\n",
    "while i<5:\n",
    "    print(i,\"repeat\")\n",
    "    i+=1\n",
    "    time.sleep(0.5)"
   ]
  },
  {
   "cell_type": "code",
   "execution_count": 8,
   "id": "f26fc97a",
   "metadata": {},
   "outputs": [
    {
     "name": "stdout",
     "output_type": "stream",
     "text": [
      "비밀코드를 입력하세요: ㅁㄹ\n",
      "비밀코드를 입력하세요: ㅁㄹㅇㅁㄴㅇㄹㅁㅇ\n",
      "비밀코드를 입력하세요: 가나다\n",
      "비밀코드를 입력하세요: codingonre3\n",
      "입장 완료! 환영합니다.\n"
     ]
    }
   ],
   "source": [
    "# 비밀코드맞추기\n",
    "secret_code=\"\"\n",
    "while secret_code!=\"codingonre3\":\n",
    "    print(\"비밀코드를 입력하세요: \",end=\"\")\n",
    "    secret_code=input(\"비밀코드: \")\n",
    "    print(secret_code)\n",
    "print(\"입장 완료! 환영합니다.\")"
   ]
  },
  {
   "cell_type": "code",
   "execution_count": 35,
   "id": "862ea1d9",
   "metadata": {},
   "outputs": [
    {
     "name": "stdout",
     "output_type": "stream",
     "text": [
      "숫자를 입력하세요: 100\n",
      "그거보단 작습니다\n",
      "숫자를 입력하세요: 50\n",
      "그거보단 큽니다\n",
      "숫자를 입력하세요: 80\n",
      "그거보단 작습니다\n",
      "숫자를 입력하세요: 60\n",
      "그거보단 큽니다\n",
      "숫자를 입력하세요: 70\n",
      "그거보단 작습니다\n",
      "숫자를 입력하세요: 65\n",
      "그거보단 작습니다\n",
      "숫자를 입력하세요: 64\n",
      "그거보단 작습니다\n",
      "숫자를 입력하세요: 63\n",
      "그거보단 작습니다\n",
      "숫자를 입력하세요: 62\n",
      "그거보단 작습니다\n",
      "숫자를 입력하세요: 60\n",
      "그거보단 큽니다\n",
      "숫자를 입력하세요: 60\n",
      "그거보단 큽니다\n",
      "숫자를 입력하세요: 61\n",
      "12 번 만에 수를 맞췄습니다!\n"
     ]
    }
   ],
   "source": [
    "# 랜덤코드\n",
    "import random\n",
    "num=0\n",
    "count=0\n",
    "answer=random.randrange(1,101)\n",
    "while num!=answer:\n",
    "    print(\"숫자를 입력하세요: \",end=\"\")\n",
    "    count+=1\n",
    "    num=int(input(\"숫자: \"))\n",
    "    print(num)\n",
    "    if num>answer:\n",
    "        print(\"그거보단 작습니다\")\n",
    "    elif num<answer:\n",
    "        print(\"그거보단 큽니다\")\n",
    "print(count,\"번 만에 수를 맞췄습니다!\")"
   ]
  },
  {
   "cell_type": "code",
   "execution_count": 32,
   "id": "f39a0cb3",
   "metadata": {},
   "outputs": [
    {
     "name": "stdout",
     "output_type": "stream",
     "text": [
      "2\n",
      "4\n",
      "4 end!\n"
     ]
    }
   ],
   "source": [
    "a=0\n",
    "while a!=4:\n",
    "    a=random.randrange(1,5)\n",
    "    print(a)\n",
    "print(a,\"end!\")"
   ]
  },
  {
   "cell_type": "code",
   "execution_count": null,
   "id": "ca42ecea",
   "metadata": {},
   "outputs": [
    {
     "name": "stdout",
     "output_type": "stream",
     "text": [
      "0 실행 |adfadf1\n",
      "1 실행 |ㅈㅇㅁㄹㅁ2\n",
      "2 실행 |종료\n",
      "end\n"
     ]
    }
   ],
   "source": [
    "i=0\n",
    "\n",
    "while True:\n",
    "    select=input(\"메뉴고르세요: \")\n",
    "    print(i,\"실행 | \",end=\"\")\n",
    "    print(select,end=\"\")\n",
    "    if select==\"종료\":\n",
    "        break\n",
    "    if i>=5:\n",
    "        break\n",
    "    i+=1\n",
    "    print(i)\n",
    "print(\"\\nend\")"
   ]
  },
  {
   "cell_type": "code",
   "execution_count": null,
   "id": "e255248b",
   "metadata": {},
   "outputs": [
    {
     "name": "stdout",
     "output_type": "stream",
     "text": [
      "1 go\n",
      "2 go\n",
      "3 go\n",
      "4 go\n",
      "5 go\n",
      "end 6\n",
      "1 go\n",
      "2 go\n",
      "3 go\n",
      "4 go\n",
      "5 go\n",
      "end 5\n"
     ]
    }
   ],
   "source": [
    "# 첫 번째 루프: 무한 루프 + break로 종료\n",
    "i = 0\n",
    "while True:\n",
    "    i += 1\n",
    "    if i > 5:\n",
    "        break  # 조건을 만족하면 루프 즉시 종료 (아래 print는 실행되지 않음)\n",
    "    print(i, \"go\")\n",
    "\n",
    "print(\"end\", i)  # i는 이미 6까지 증가한 상태에서 루프 종료됨 → end 6 출력\n",
    "\n",
    "\n",
    "# 두 번째 루프: 조건문 기반 루프\n",
    "i = 0\n",
    "while i < 5:\n",
    "    i += 1\n",
    "    print(i, \"go\")  # i가 5가 되기 전까지 루프 실행\n",
    "\n",
    "print(\"end\", i)  # i는 5에서 루프 종료 → end 5 출력\n",
    "\n",
    "# break를 사용하면 조건을 만족하는 순간 루프를 즉시 종료하며,\n",
    "# 조건 기반 루프는 조건을 만족하는 동안만 반복된다.\n",
    "# break는 루프 블록 내부의 나머지 코드를 건너뛰고 바로 빠져나감."
   ]
  },
  {
   "cell_type": "code",
   "execution_count": null,
   "id": "896b9bb3",
   "metadata": {},
   "outputs": [
    {
     "name": "stdout",
     "output_type": "stream",
     "text": [
      "1 3 5 "
     ]
    }
   ],
   "source": [
    "# continue를 이용한 홀수만 출력 \n",
    "\n",
    "i = 0\n",
    "while i<5:\n",
    "    i+=1\n",
    "    if i%2==0:\n",
    "        continue\n",
    "    print(i, end=\" \")"
   ]
  },
  {
   "cell_type": "code",
   "execution_count": 61,
   "id": "0905bf11",
   "metadata": {},
   "outputs": [
    {
     "name": "stdout",
     "output_type": "stream",
     "text": [
      "비밀 코드를 입력하시오: ㅁㅁㄴㅇㄹㅁㅇㄹ\n",
      "비밀 코드를 입력하시오: ㅂㅈㄷㄹㅂㄷㄹ\n",
      "비밀 코드를 입력하시오: codingonre3\n",
      "입장 완료! 환영합니다\n"
     ]
    }
   ],
   "source": [
    "secret_code=\"codingonre3\"\n",
    "while True:\n",
    "    print(\"비밀 코드를 입력하시오: \",end=\"\")\n",
    "    enter=input(\"비밀 코드를 입력하시오: \")\n",
    "    print(enter)\n",
    "    if enter==secret_code:\n",
    "        break\n",
    "print(\"입장 완료! 환영합니다\")"
   ]
  },
  {
   "cell_type": "code",
   "execution_count": null,
   "id": "970c63fe",
   "metadata": {},
   "outputs": [
    {
     "name": "stdout",
     "output_type": "stream",
     "text": [
      "나이를 입력하시오: 10\n",
      "나이를 입력하시오: 1\n",
      "나이를 입력하시오: 20\n",
      "나이를 입력하시오: -900\n",
      "나이를 입력하시오: 900\n",
      "나이를 입력하시오: 1000\n",
      "나이를 입력하시오: 30\n",
      "나이를 입력하시오: 40\n",
      "나이의 총 합: 101, 평균: 20\n"
     ]
    }
   ],
   "source": [
    "count=0\n",
    "sum_age=0\n",
    "\n",
    "while True:\n",
    "    print(\"나이를 입력하시오: \",end=\"\")\n",
    "    age=int(input(\"나이를 입력하시오: \"))\n",
    "    print(age)\n",
    "    if age>120 or age<0:\n",
    "        continue\n",
    "    sum_age+=age\n",
    "    count+=1\n",
    "    if count==5:\n",
    "        break\n",
    "print(f\"나이의 총 합: {sum_age}, 평균: {sum_age//5}\")"
   ]
  },
  {
   "cell_type": "code",
   "execution_count": 65,
   "id": "9b568740",
   "metadata": {},
   "outputs": [
    {
     "name": "stdout",
     "output_type": "stream",
     "text": [
      "go\n",
      "go\n",
      "go\n",
      "go\n",
      "stop\n"
     ]
    }
   ],
   "source": [
    "while True: # 일단 반복을 해 \n",
    "    print(\"go\")\n",
    "    light=input(\"input light: \")\n",
    "    if light!=\"green\":\n",
    "        break\n",
    "# light이 green이 아닌 순간 탈출\n",
    "print(\"stop\")"
   ]
  },
  {
   "cell_type": "code",
   "execution_count": null,
   "id": "8ba723dd",
   "metadata": {},
   "outputs": [
    {
     "name": "stdout",
     "output_type": "stream",
     "text": [
      "2 단\n",
      "2*0=0\n",
      "2*1=2\n",
      "2*2=4\n",
      "2*3=6\n",
      "2*4=8\n",
      "2*5=10\n",
      "2*6=12\n",
      "2*7=14\n",
      "2*8=16\n",
      "2*9=18\n",
      "3 단\n",
      "3*0=0\n",
      "3*1=3\n",
      "3*2=6\n",
      "3*3=9\n",
      "3*4=12\n",
      "3*5=15\n",
      "3*6=18\n",
      "3*7=21\n",
      "3*8=24\n",
      "3*9=27\n",
      "4 단\n",
      "4*0=0\n",
      "4*1=4\n",
      "4*2=8\n",
      "4*3=12\n",
      "4*4=16\n",
      "4*5=20\n",
      "4*6=24\n",
      "4*7=28\n",
      "4*8=32\n",
      "4*9=36\n",
      "5 단\n",
      "5*0=0\n",
      "5*1=5\n",
      "5*2=10\n",
      "5*3=15\n",
      "5*4=20\n",
      "5*5=25\n",
      "5*6=30\n",
      "5*7=35\n",
      "5*8=40\n",
      "5*9=45\n",
      "6 단\n",
      "6*0=0\n",
      "6*1=6\n",
      "6*2=12\n",
      "6*3=18\n",
      "6*4=24\n",
      "6*5=30\n",
      "6*6=36\n",
      "6*7=42\n",
      "6*8=48\n",
      "6*9=54\n",
      "7 단\n",
      "7*0=0\n",
      "7*1=7\n",
      "7*2=14\n",
      "7*3=21\n",
      "7*4=28\n",
      "7*5=35\n",
      "7*6=42\n",
      "7*7=49\n",
      "7*8=56\n",
      "7*9=63\n",
      "8 단\n",
      "8*0=0\n",
      "8*1=8\n",
      "8*2=16\n",
      "8*3=24\n",
      "8*4=32\n",
      "8*5=40\n",
      "8*6=48\n",
      "8*7=56\n",
      "8*8=64\n",
      "8*9=72\n",
      "9 단\n",
      "9*0=0\n",
      "9*1=9\n",
      "9*2=18\n",
      "9*3=27\n",
      "9*4=36\n",
      "9*5=45\n",
      "9*6=54\n",
      "9*7=63\n",
      "9*8=72\n",
      "9*9=81\n"
     ]
    }
   ],
   "source": [
    "# while로 구구단 출력\n",
    "\n",
    "dan =2\n",
    "while dan<=9:\n",
    "    num=0\n",
    "    print(dan,\"단\")\n",
    "    while num<=9:\n",
    "        print(f\"{dan}*{num}={dan*num}\")\n",
    "        num+=1\n",
    "    dan +=1"
   ]
  },
  {
   "cell_type": "code",
   "execution_count": 20,
   "id": "999f6de8",
   "metadata": {},
   "outputs": [
    {
     "name": "stdout",
     "output_type": "stream",
     "text": [
      "아이디를 입력: renekton\n",
      "정보 불일치, 재시도\n",
      "아이디를 입력: nasus\n",
      "정보 일치, 아이디 통과\n",
      "비밀번호를 입력: **********\n",
      "정보 불일치, 재시도\n",
      "비밀번호를 입력: ********\n",
      "정보 일치, 아이디 통과\n",
      "최종 로그인 성공\n"
     ]
    }
   ],
   "source": [
    "# id가 맞을 때 까지 id입력을 받는다\n",
    "# id가 맞으면 비밀번호 인증에 들어간다\n",
    "# 비밀번호도 맞을 때 까지 반복한다\n",
    "# 둘 다 맞췄다면 로그인 성공\n",
    "\n",
    "user_id=\"nasus\"\n",
    "user_pw=\"stack500\"\n",
    "protect=\"*\"\n",
    "\n",
    "while True:\n",
    "    print(\"아이디를 입력: \",end=\"\")\n",
    "    id=input(\"아이디: \")\n",
    "    print(id)\n",
    "\n",
    "    if id!=user_id: # 만약 정보가 불일치하다면 계속 반복한다\n",
    "        print(\"정보 불일치, 재시도\")\n",
    "    else: # 정보가 일치할 경우 통과! 비밀번호 반복으로 넘어감\n",
    "        print(\"정보 일치, 아이디 통과\")\n",
    "        while True:\n",
    "            print(\"비밀번호를 입력: \",end=\"\")\n",
    "            password=input(\"비밀번호: \")\n",
    "            print(protect*len(password))\n",
    "\n",
    "            if password!=user_pw: # id 검사와 같은 로직\n",
    "                print(\"정보 불일치, 재시도\")\n",
    "            else:\n",
    "                print(\"정보 일치, 아이디 통과\")\n",
    "                break # 내부 while문 break\n",
    "        break # 외부 while문 break\n",
    "\n",
    "print(\"최종 로그인 성공\")"
   ]
  },
  {
   "cell_type": "code",
   "execution_count": null,
   "id": "e06d1f2b",
   "metadata": {},
   "outputs": [
    {
     "name": "stdout",
     "output_type": "stream",
     "text": [
      "id 일치않음\n",
      "id 성공\n",
      "pw 일치 않음\n",
      "pw 성공\n",
      "로그인 성공\n"
     ]
    }
   ],
   "source": [
    "# 강사의 예문코드\n",
    "\n",
    "user_id=\"nasus\"\n",
    "user_pw=\"stack500\"\n",
    "protect=\"*\"\n",
    "\n",
    "while True:\n",
    "    id_input=input(\"input: \")\n",
    "    if id_input!=user_id:\n",
    "        print(\"id 일치않음\")\n",
    "        continue # 일치하지 않을 시 continue를 통해 위의 내용이 반복되게 함\n",
    "    print(\"id 성공\")\n",
    "    while True:\n",
    "        pw_input=input(\"input: \")\n",
    "        if pw_input!=user_pw:\n",
    "            print(\"pw 일치 않음\")\n",
    "        break\n",
    "    print(\"pw 성공\")\n",
    "    break\n",
    "print(\"로그인 성공\")\n"
   ]
  },
  {
   "cell_type": "code",
   "execution_count": null,
   "id": "8c248f0f",
   "metadata": {},
   "outputs": [],
   "source": []
  }
 ],
 "metadata": {
  "kernelspec": {
   "display_name": ".venv",
   "language": "python",
   "name": "python3"
  },
  "language_info": {
   "codemirror_mode": {
    "name": "ipython",
    "version": 3
   },
   "file_extension": ".py",
   "mimetype": "text/x-python",
   "name": "python",
   "nbconvert_exporter": "python",
   "pygments_lexer": "ipython3",
   "version": "3.13.5"
  }
 },
 "nbformat": 4,
 "nbformat_minor": 5
}
