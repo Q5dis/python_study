{
 "cells": [
  {
   "cell_type": "markdown",
   "id": "c0e1fbf5",
   "metadata": {},
   "source": [
    "# 2. 자료형 (data type)\n",
    "\n",
    "자료의 종류와 구조를 정의\n"
   ]
  },
  {
   "cell_type": "code",
   "execution_count": null,
   "id": "2fb1fbbb",
   "metadata": {},
   "outputs": [],
   "source": [
    "# 문자열 (String, str)\n",
    "# 공백, 혹은 없는 것도 변수저장을 가능\n",
    "# 변수 선언 시 별도의 타입을 지정하지 않아도 되면 동적, 지정해야 되면 정적. 파이썬은 동적타입이다.\n",
    "# 동적타입은 변수선언이 자유롭지만 무질서해질 우려가 있다.\n",
    "\n",
    "str1=\"\"\n",
    "str2=\" \"\n",
    "str3=\"good morning\"\n",
    "\n",
    "# 문자열=순서가 있는 자료형\n",
    "multiple_line=\"first line\\nsecond line\\nthird line\"\n",
    "print(multiple_line+\"\\n\")\n",
    "\n",
    "multiple_line2=\"\"\"첫번째 줄\n",
    "두번째 줄\n",
    "세번째 줄\"\"\"\n",
    "print(multiple_line2)\n",
    "\n",
    "print(\"\\n'작은 따옴표'\\n\"+'\"큰 따옴표\"')"
   ]
  },
  {
   "cell_type": "code",
   "execution_count": null,
   "id": "53e2dd16",
   "metadata": {},
   "outputs": [],
   "source": [
    "# 복소수>실수>유리수(정수(양/0/음의정수)/무리수\n",
    "# 부동소수점 방식의 float (뜰 부 움직일 동)\n",
    "# why?: 메모리가 수를 표현하는 방식 실수(비트를 역할별로 분리/최소 32비트) 정수(비트를 모두 값 표현에 사용/최소 8비트)\n",
    "int1=100\n",
    "float1=100.0\n",
    "print(type(int1))\n",
    "print(type(float1))\n",
    "\n",
    "#논리형 boolean 참과 거짓 구분\n"
   ]
  },
  {
   "cell_type": "markdown",
   "id": "d52e46c5",
   "metadata": {},
   "source": [
    "# 0711 5일차"
   ]
  },
  {
   "cell_type": "code",
   "execution_count": null,
   "id": "d1079082",
   "metadata": {},
   "outputs": [],
   "source": [
    "# 0711 5일차 기록\n",
    "\n",
    "name=\"alex\"\n",
    "age=41\n",
    "\n",
    "print (\"my name is \",name,\", and my age is \",age)\n",
    "\n",
    "\n",
    "power=100\n",
    "shield=80\n",
    "agility=95\n",
    "intelligence=105\n",
    "\n",
    "print(\"\\n공격력: \",power\n",
    "      , \"\\n방어력:\", shield\n",
    "      , \"\\n민첩성:\", agility\n",
    "      , \"\\n지력:\", intelligence)\n",
    "\n",
    "\n",
    "\n",
    "# f-string: 문자열 포매팅\n",
    "# 문자열 안에 변수를 작성케 하는 기능\n",
    "\n",
    "print (f\"\\n공격력: {power}, 방어력: {shield}, 민첩성: {agility}, 지력: {intelligence}\")\n"
   ]
  },
  {
   "cell_type": "markdown",
   "id": "17808a2f",
   "metadata": {},
   "source": [
    "# 형 변환 (Type casting)"
   ]
  },
  {
   "cell_type": "code",
   "execution_count": null,
   "id": "c41525db",
   "metadata": {},
   "outputs": [],
   "source": [
    "# 명시적 explicit(강타입) 암시적 implicit(약타입)\n",
    "# 파이썬은 동적타입이면서 강타입언어\n",
    "\n",
    "# 주요 형변환 케이스: 실수>정수, 문자열의 정수>정수, 논리형>정수\n",
    "\n",
    "print(f\"3.14 > {int(3.14)}\")\n",
    "print(f\"'100' > {int('100')}\")\n",
    "print(f\"True > {int(True)}\")\n",
    "print(f\"False > {int(False)}\")\n",
    "print(bool(0),\"🤯\\n\")\n",
    "\n",
    "# 실수로 변환이 가능한 경우? (정수 > 실수, 문자열로 표현된 실수, 문자열로 표현된 정수, 논리형 가능\n",
    "\n",
    "print(f\"7 > {float(7)}\") #정수를 실수로\n",
    "print(f\"'7.7' > {float('7.7')}\") #문자열 실수를 실수로\n",
    "print(f\"'7' > {float('7')}\") #문자열 정수를 실수로\n",
    "print(f\"True, False > {float(True), float(False)}\") #논리형을 실수로\n",
    "\n",
    "# 실수로 변환이 불가능한 경우: 생 문자열을 변환 불가\n",
    "# 정수로 변환이 불가능한 경우: 문자열 실수를 정수로 변환\n",
    "# print(float(\"asdf\"))\n",
    "# print(int(\"5.14\"))\n",
    "\n",
    "# 문자열 변환은 모든 타입을 변환시킬 수 있다.\n",
    "\n",
    "print(str(100),type(str(100)))\n",
    "print(str(3.14),type(str(3.14)))\n",
    "print(str(True),type(str(True)))\n"
   ]
  },
  {
   "cell_type": "code",
   "execution_count": null,
   "id": "8e7c5e1b",
   "metadata": {},
   "outputs": [],
   "source": [
    "name=\"개인정보\"\n",
    "age=\"개인정보\"\n",
    "mbti=\"개인정보\"\n",
    "print(f\"\"\"\n",
    "    안녕하세요.\n",
    "    제 이름은 {name} 이고\n",
    "    {age}살 입니다.\n",
    "    제 MBTI는 {mbti} 예요.\n",
    "\"\"\")"
   ]
  },
  {
   "cell_type": "code",
   "execution_count": null,
   "id": "5a9be38d",
   "metadata": {},
   "outputs": [],
   "source": [
    "\n",
    "title=\"Alvin and the Chipmunks\"\n",
    "director=\"Thimothy Joseph Hill\"\n",
    "year=2007\n",
    "genre=\"Comedy\"\n",
    "\n",
    "print(f\"Title: {title}, Director: {director}, Year: {year}, Genre: {genre}\")"
   ]
  },
  {
   "cell_type": "code",
   "execution_count": null,
   "id": "5da0fb87",
   "metadata": {},
   "outputs": [],
   "source": [
    "print(\"what the hell\")"
   ]
  },
  {
   "cell_type": "code",
   "execution_count": null,
   "id": "e378682f",
   "metadata": {},
   "outputs": [],
   "source": [
    "print(\"asdfaafadfasdfadf\")"
   ]
  },
  {
   "cell_type": "code",
   "execution_count": null,
   "id": "81803e03",
   "metadata": {},
   "outputs": [
    {
     "name": "stdout",
     "output_type": "stream",
     "text": [
      "<class 'dict'>\n",
      "nasus\n",
      "3000\n",
      "dict_keys(['name', 'age'])\n"
     ]
    }
   ],
   "source": [
    "tuple_ex=(1,2,3,4,5)\n",
    "\n",
    "dict_ex={\"name\":\"nasus\",\"age\":3000}\n",
    "print(type(dict_ex))\n",
    "print(dict_ex[\"name\"])\n",
    "print(dict_ex.get(\"age\"))\n",
    "\n",
    "print(dict_ex.keys())"
   ]
  },
  {
   "cell_type": "code",
   "execution_count": null,
   "id": "3aae0761",
   "metadata": {},
   "outputs": [],
   "source": []
  },
  {
   "cell_type": "code",
   "execution_count": null,
   "id": "db9c5bfe",
   "metadata": {},
   "outputs": [],
   "source": []
  }
 ],
 "metadata": {
  "kernelspec": {
   "display_name": ".venv",
   "language": "python",
   "name": "python3"
  },
  "language_info": {
   "codemirror_mode": {
    "name": "ipython",
    "version": 3
   },
   "file_extension": ".py",
   "mimetype": "text/x-python",
   "name": "python",
   "nbconvert_exporter": "python",
   "pygments_lexer": "ipython3",
   "version": "3.13.5"
  }
 },
 "nbformat": 4,
 "nbformat_minor": 5
}
