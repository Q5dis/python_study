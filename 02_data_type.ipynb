{
 "cells": [
  {
   "cell_type": "markdown",
   "id": "c0e1fbf5",
   "metadata": {},
   "source": [
    "# 2. 자료형 (data type)\n",
    "\n",
    "자료의 종류와 구조를 정의\n"
   ]
  },
  {
   "cell_type": "code",
   "execution_count": 9,
   "id": "2fb1fbbb",
   "metadata": {},
   "outputs": [
    {
     "name": "stdout",
     "output_type": "stream",
     "text": [
      "first line\n",
      "second line\n",
      "third line\n",
      "\n",
      "첫번째 줄\n",
      "두번째 줄\n",
      "세번째 줄\n",
      "\n",
      "'작은 따옴표'\n",
      "\"큰 따옴표\"\n"
     ]
    }
   ],
   "source": [
    "# 문자열 (String, str)\n",
    "# 공백, 혹은 없는 것도 변수저장을 가능\n",
    "\n",
    "str1=\"\"\n",
    "str2=\" \"\n",
    "str3=\"good morning\"\n",
    "\n",
    "# 문자열=순서가 있는 자료형\n",
    "multiple_line=\"first line\\nsecond line\\nthird line\"\n",
    "print(multiple_line+\"\\n\")\n",
    "\n",
    "multiple_line2=\"\"\"첫번째 줄\n",
    "두번째 줄\n",
    "세번째 줄\"\"\"\n",
    "print(multiple_line2)\n",
    "\n",
    "print(\"\\n'작은 따옴표'\\n\"+'\"큰 따옴표\"')"
   ]
  },
  {
   "cell_type": "code",
   "execution_count": null,
   "id": "53e2dd16",
   "metadata": {},
   "outputs": [
    {
     "name": "stdout",
     "output_type": "stream",
     "text": [
      "<class 'int'>\n",
      "<class 'float'>\n"
     ]
    }
   ],
   "source": [
    "# 복소수>실수>유리수(정수(양/0/음의정수)/무리수\n",
    "# 부동소수점 방식의 float (뜰 부 움직일 동)\n",
    "# why?: 메모리가 수를 표현하는 방식 실수(비트를 역할별로 분리/최소 32비트) 정수(비트를 모두 값 표현에 사용/최소 8비트)\n",
    "int1=100\n",
    "float1=100.0\n",
    "print(type(int1))\n",
    "print(type(float1))\n",
    "\n",
    "#논리형 boolean 참과 거짓 구분\n"
   ]
  },
  {
   "cell_type": "code",
   "execution_count": null,
   "id": "d1079082",
   "metadata": {},
   "outputs": [],
   "source": []
  }
 ],
 "metadata": {
  "kernelspec": {
   "display_name": ".venv",
   "language": "python",
   "name": "python3"
  },
  "language_info": {
   "codemirror_mode": {
    "name": "ipython",
    "version": 3
   },
   "file_extension": ".py",
   "mimetype": "text/x-python",
   "name": "python",
   "nbconvert_exporter": "python",
   "pygments_lexer": "ipython3",
   "version": "3.13.5"
  }
 },
 "nbformat": 4,
 "nbformat_minor": 5
}
