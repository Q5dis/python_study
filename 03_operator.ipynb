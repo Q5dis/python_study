{
 "cells": [
  {
   "cell_type": "markdown",
   "id": "f1436096",
   "metadata": {},
   "source": [
    "# 연산자"
   ]
  },
  {
   "cell_type": "code",
   "execution_count": null,
   "id": "d0f70f75",
   "metadata": {},
   "outputs": [
    {
     "name": "stdout",
     "output_type": "stream",
     "text": [
      "13\n",
      "7\n",
      "30\n",
      "3.3333333333333335\n",
      "3\n",
      "1\n",
      "1000\n",
      "15\n",
      "10\n",
      "20\n"
     ]
    }
   ],
   "source": [
    "# 연산자(Operator): 값과 값 사이에 연산을 수행하는 기호\n",
    "# 항 (Operand): 연산의 대상이 되는 값\n",
    "# 반복되는 항이 있다면 변수로 처리하는게 유리하다\n",
    "\n",
    "# 연산자의 종류: 산술, 비교, 논리, 대입\n",
    "\n",
    "# 산술 (+, -, *, / = 사칙연산)\n",
    "# // 나눔의 몫, % 나눔의 나머지, ** 거듭제곱 연산\n",
    "\n",
    "a=10\n",
    "b=3\n",
    "\n",
    "print (a+b)\n",
    "print (a-b)\n",
    "print (a*b)\n",
    "print (a/b)\n",
    "print (a//b)\n",
    "print (a%b)\n",
    "print (a**b)\n",
    "\n",
    "# 비교연산자, 두 값을 연산해 비교하여 True or False를 반환\n",
    "# == 같다, != 같지않다, > 좌가 크다, < 우가 크다, >= 좌가 크거나 같다, <= 우가 크거나 같다\n",
    "\n",
    "# 논리 연산자, 논리에 대한 연산을 수행 즉 True or False에 대한 연산을 수행\n",
    "# and, or, not\n"
   ]
  },
  {
   "cell_type": "code",
   "execution_count": null,
   "id": "56715e5c",
   "metadata": {},
   "outputs": [
    {
     "name": "stdout",
     "output_type": "stream",
     "text": [
      "15\n",
      "10\n",
      "20\n",
      "축약, 대입연산자\n",
      "15\n",
      "10\n",
      "20\n"
     ]
    }
   ],
   "source": [
    "print(\"일반적인 연산결과 대입, 변수에 자리를 깔고 그다음에 계산을 한 걸 넣는 느낌?\")\n",
    "x=10\n",
    "x= x+5\n",
    "print(x)\n",
    "x=x-5\n",
    "print(x)\n",
    "x=x*2\n",
    "print(x)\n",
    "\n",
    "# 줄이는 법\n",
    "print(\"축약, 대입연산자. 연산작업 후 저장한다. 변수에 자기자신에 대한 연산결과를 다시 저장할때 사용한다.\")\n",
    "y=10\n",
    "y+=5\n",
    "print(y)\n",
    "y-=5\n",
    "print(y)\n",
    "y*=2\n",
    "print(y)"
   ]
  },
  {
   "cell_type": "code",
   "execution_count": null,
   "id": "6c509e9a",
   "metadata": {},
   "outputs": [
    {
     "name": "stdout",
     "output_type": "stream",
     "text": [
      "대학생의 현재 잔액:  300000\n",
      "책 구매 8만원 소비:  220000\n",
      "점심감 5일간 9천원 소비:  175000\n",
      "과외알바 12만원 입금:  295000\n",
      "용돈으로 현재금액의 20% 입금:  354000\n",
      "공과금으로 3분의 1 소비:  236000\n",
      "최종 잔액:  236000\n"
     ]
    }
   ],
   "source": [
    "money=300000\n",
    "print(\"대학생의 현재 잔액: \",money)\n",
    "money-=80000\n",
    "print(\"책 구매 8만원 소비: \",money)\n",
    "money-=(9000*5)\n",
    "print(\"점심감 5일간 9천원 소비: \",money)\n",
    "money+=120000\n",
    "print(\"과외알바 12만원 입금: \",money)\n",
    "money+=int(money*20/100)\n",
    "# == money *= 1.2\n",
    "print(\"용돈으로 현재금액의 20% 입금: \",money)\n",
    "money-=int(money/3)\n",
    "# == money *= 2/3\n",
    "print(\"공과금으로 3분의 1 소비: \",money)\n",
    "\n",
    "print(\"최종 잔액: \", money)\n",
    "\n"
   ]
  },
  {
   "cell_type": "code",
   "execution_count": 35,
   "id": "e9c472a2",
   "metadata": {},
   "outputs": [
    {
     "name": "stdout",
     "output_type": "stream",
     "text": [
      "300\n",
      "100200\n",
      "league of legend\n",
      "bloody mary...bloody mary...bloody mary...\n"
     ]
    }
   ],
   "source": [
    "# 문자열 연산 (산술 연산)\n",
    "# 문자열과 정수를 더할 순 없다\n",
    "\n",
    "print(100+200)\n",
    "print(\"100\"+\"200\")\n",
    "\n",
    "first_name=\"league of\"\n",
    "last_name=\"legend\"\n",
    "full_name=first_name+\" \"+last_name\n",
    "print(full_name)\n",
    "\n",
    "# 문자열은 *로 반복이 가능하다.\n",
    "mirror=\"bloody mary...\"\n",
    "print(mirror *3)\n",
    "\n",
    "# 나누기와 빼기연산은 지원하지 않는다.\n",
    "\n"
   ]
  },
  {
   "cell_type": "code",
   "execution_count": 34,
   "id": "36fad020",
   "metadata": {},
   "outputs": [
    {
     "name": "stdout",
     "output_type": "stream",
     "text": [
      "둠칫두둠칫두둠칫두둠칫\n"
     ]
    }
   ],
   "source": [
    "intro=\"둠칫\"\n",
    "drop=\"두둠칫\"\n",
    "full_beat=intro+drop*3\n",
    "print(full_beat)"
   ]
  },
  {
   "cell_type": "code",
   "execution_count": null,
   "id": "10e4d113",
   "metadata": {},
   "outputs": [],
   "source": []
  }
 ],
 "metadata": {
  "kernelspec": {
   "display_name": ".venv",
   "language": "python",
   "name": "python3"
  },
  "language_info": {
   "codemirror_mode": {
    "name": "ipython",
    "version": 3
   },
   "file_extension": ".py",
   "mimetype": "text/x-python",
   "name": "python",
   "nbconvert_exporter": "python",
   "pygments_lexer": "ipython3",
   "version": "3.13.5"
  }
 },
 "nbformat": 4,
 "nbformat_minor": 5
}
