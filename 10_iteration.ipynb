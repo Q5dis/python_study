{
 "cells": [
  {
   "cell_type": "markdown",
   "id": "f8d8ce48",
   "metadata": {},
   "source": [
    "# 반복문\n",
    "\n",
    "- for문: 이터러블의 요소를 하나씩 꺼내 실행하는 반복문\n"
   ]
  },
  {
   "cell_type": "code",
   "execution_count": null,
   "id": "81c310e5",
   "metadata": {},
   "outputs": [
    {
     "name": "stdout",
     "output_type": "stream",
     "text": [
      "hello hello hello "
     ]
    }
   ],
   "source": [
    "for i in range(3):\n",
    "    print(\"hello\",end=\" \")\n",
    "\n",
    "# i: 이 자리에는 반복변수\n",
    "# range(3): 이 자리에는 이터러블\n",
    "# print ... : 이 자리에는 반복될 코드"
   ]
  },
  {
   "cell_type": "code",
   "execution_count": null,
   "id": "458e38b2",
   "metadata": {},
   "outputs": [],
   "source": []
  },
  {
   "cell_type": "code",
   "execution_count": 2,
   "id": "cbc7bb3d",
   "metadata": {},
   "outputs": [
    {
     "name": "stdout",
     "output_type": "stream",
     "text": [
      "가\n",
      "나\n",
      "다\n",
      "라\n"
     ]
    }
   ],
   "source": [
    "import time\n",
    "for 반복변수 in [\"가\",\"나\",\"다\",\"라\"]:\n",
    "    print(반복변수)\n",
    "    time.sleep(0.4)\n",
    "\n",
    "# 이터러블 요소들이 반복변수에 담기며 출력?\n"
   ]
  },
  {
   "cell_type": "code",
   "execution_count": null,
   "id": "835187a7",
   "metadata": {},
   "outputs": [
    {
     "name": "stdout",
     "output_type": "stream",
     "text": [
      "사과\n",
      "배\n",
      "용과\n",
      "귤\n",
      "1 2\n",
      "3 4\n"
     ]
    }
   ],
   "source": [
    "fruits=[\"사과\",\"배\",\"용과\",\"귤\"]\n",
    "\n",
    "for fruit in fruits:\n",
    "    print(fruit)\n",
    "    time.sleep(0.4)\n",
    "\n",
    "# for문을 사용한 언패킹 사례\n",
    "좌표=[(1,2),(3,4)]\n",
    "for x,y in 좌표:\n",
    "    print(x,y)"
   ]
  },
  {
   "cell_type": "code",
   "execution_count": 21,
   "id": "b85655c3",
   "metadata": {},
   "outputs": [
    {
     "name": "stdout",
     "output_type": "stream",
     "text": [
      "name: nasus\n",
      "age: 3000\n",
      "address: shurima\n",
      "\n",
      "\n",
      "address: nasus\n",
      "address: 3000\n",
      "address: shurima\n",
      "\n",
      "\n",
      "name: nasus\n",
      "age: 3000\n",
      "address: shurima\n",
      "\n",
      "\n",
      "('name', 'nasus')\n",
      "('age', 3000)\n",
      "('address', 'shurima')\n"
     ]
    }
   ],
   "source": [
    "# 딕셔너리를 이용한 반복\n",
    "\n",
    "person={\n",
    "    \"name\":\"nasus\",\n",
    "    \"age\":3000,\n",
    "    \"address\":\"shurima\"\n",
    "}\n",
    "\n",
    "# 이런식으로 출력할 경우 딕셔너리 출력은 키만 출력된다.\n",
    "# 고로 딕셔너리[키]를 통해 값을 출력하다.\n",
    "for key in person:\n",
    "    print(f\"{key}: {person[key]}\")\n",
    "\n",
    "print(\"\\n\")\n",
    "# person.values()값을 value안에 넣고, 꺼내온다.\n",
    "for value in person.values():\n",
    "    print(f\"{key}: {value}\")\n",
    "\n",
    "print(\"\\n\")\n",
    "# 언패킹하며 items 가져오기\n",
    "for key,value in person.items():\n",
    "    print(f\"{key}: {value}\")\n",
    "    time.sleep(0.3)\n",
    "\n",
    "\n",
    "print(\"\\n\")\n",
    "# 그냥 아이템즈를 출력할 경우 튜플 형태로 나타난다.\n",
    "for test in person.items():\n",
    "    print(test)"
   ]
  },
  {
   "cell_type": "code",
   "execution_count": null,
   "id": "3289ff5b",
   "metadata": {},
   "outputs": [
    {
     "name": "stdout",
     "output_type": "stream",
     "text": [
      "수 두배:  [6, 12, 2, 16, 8]\n",
      "수 두배:  [6, 12, 2, 16, 8]\n",
      "문자 길이:  [5, 6, 4, 5]\n",
      "문자 길이:  [5, 6, 4, 5]\n",
      "x: [1, 3, 5, 7], y: [2, 4, 6, 8]\n"
     ]
    }
   ],
   "source": [
    "# 실습1\n",
    "numbers=[3,6,1,8,4]\n",
    "for i in range(5):\n",
    "    numbers[i]*=2\n",
    "print(\"수 두배: \",numbers)\n",
    "\n",
    "# 이런 방법도 있다...\n",
    "numbers=[3,6,1,8,4]\n",
    "doubled=[]\n",
    "for number in numbers:\n",
    "    doubled.append(number*2)\n",
    "print(\"수 두배: \",doubled)\n",
    "\n",
    "# 실습2\n",
    "words=[\"apple\",\"banana\",\"kiwi\",\"grape\"]\n",
    "word_len=[]\n",
    "for i in range(4):\n",
    "    word_len.append(len(words[i]))\n",
    "print(\"문자 길이: \",word_len)\n",
    "\n",
    "# 이런 방법도 있다...\n",
    "words=[\"apple\",\"banana\",\"kiwi\",\"grape\"]\n",
    "word_len=[]\n",
    "for word in words:\n",
    "    word_len.append(len(word))\n",
    "print(\"문자 길이: \",word_len)\n",
    "\n",
    "\n",
    "\n",
    "# 실습3\n",
    "cordinates=[(1,2),(3,4),(5,6),(7,8)]\n",
    "x_values=[]\n",
    "y_values=[]\n",
    "for x,y in cordinates:\n",
    "    x_values.append(x)\n",
    "    y_values.append(y)\n",
    "\n",
    "print(f\"x: {x_values}, y: {y_values}\")"
   ]
  },
  {
   "cell_type": "code",
   "execution_count": 62,
   "id": "b0b56699",
   "metadata": {},
   "outputs": [
    {
     "name": "stdout",
     "output_type": "stream",
     "text": [
      "1 2 3 4 \n",
      "\n",
      "1 2 3 4 \n",
      "\n",
      "0 1 2 3 4 "
     ]
    }
   ],
   "source": [
    "# range(): 지정된 범위의 정수 시퀀스\n",
    "# range(시작, 끝, 간격) // 슬라이싱과 같은 구조?\n",
    "\n",
    "list(range(1,10,2))\n",
    "\n",
    "for i in range(1,5):\n",
    "    print(i,end=\" \")\n",
    "\n",
    "print(\"\\n\")\n",
    "for i in [1,2,3,4]:\n",
    "    print(i, end=\" \")\n",
    "\n",
    "print(\"\\n\")\n",
    "for i in range(5):\n",
    "    print(i, end=\" \")\n",
    "\n",
    "\n"
   ]
  },
  {
   "cell_type": "code",
   "execution_count": null,
   "id": "8ac9643d",
   "metadata": {},
   "outputs": [
    {
     "name": "stdout",
     "output_type": "stream",
     "text": [
      "0 2 4 6 8 10 \n",
      "\n",
      "10 9 8 7 6 5 4 3 2 1 "
     ]
    }
   ],
   "source": [
    "for i in range(0,11,2):\n",
    "    print(i,end=\" \")\n",
    "\n",
    "print(\"\\n\")\n",
    "\n",
    "#역순출력\n",
    "for i in range(10,0,-1):\n",
    "    print(i,end=\" \")\n",
    "\n"
   ]
  },
  {
   "cell_type": "code",
   "execution_count": 79,
   "id": "7346f209",
   "metadata": {},
   "outputs": [
    {
     "name": "stdout",
     "output_type": "stream",
     "text": [
      "입력받은 수를 1부터 모두 더한 값:  55\n",
      "10단 실행\n",
      "10*1:10\n",
      "10*2:20\n",
      "10*3:30\n",
      "10*4:40\n",
      "10*5:50\n",
      "10*6:60\n",
      "10*7:70\n",
      "10*8:80\n",
      "10*9:90\n"
     ]
    }
   ],
   "source": [
    "# 실습1\n",
    "num=int(input(\"수 입력하시오: \"))\n",
    "\n",
    "for i in range(num):\n",
    "    num+=i\n",
    "\n",
    "print(\"입력받은 수를 1부터 모두 더한 값: \",num)\n",
    "\n",
    "# 실습2\n",
    "num=int(input(\"수 입력하시오: \"))\n",
    "print(f\"{num}단 실행\")\n",
    "for i in range(1,10):\n",
    "    print(f\"{num}*{i}:{num*i}\")"
   ]
  },
  {
   "cell_type": "code",
   "execution_count": 88,
   "id": "58873caf",
   "metadata": {},
   "outputs": [
    {
     "name": "stdout",
     "output_type": "stream",
     "text": [
      "867\n",
      "[5, 10]\n"
     ]
    }
   ],
   "source": [
    "# 실습3\n",
    "num = 0\n",
    "for i in range(1,101,2):\n",
    "    if i%3==0:\n",
    "        num+=i\n",
    "print(num)\n",
    "\n",
    "# 실습4\n",
    "num=int(input(\"수 입력하시오: \"))\n",
    "nums=[]\n",
    "for i in range(1,(num+1)):\n",
    "    if i%2==0 and i%5==0 or i==5:\n",
    "        nums.append(i)\n",
    "\n",
    "print(nums)"
   ]
  },
  {
   "cell_type": "code",
   "execution_count": 94,
   "id": "ac4160dd",
   "metadata": {},
   "outputs": [
    {
     "name": "stdout",
     "output_type": "stream",
     "text": [
      "0 1 2 3 4 \n",
      "\n",
      "1 3 5 7 9 "
     ]
    }
   ],
   "source": [
    "# 루프 제어문: break \n",
    "import time\n",
    "for i in range(10):\n",
    "    if i==5:\n",
    "        break\n",
    "    print(i,end=\" \")\n",
    "\n",
    "print(\"\\n\")\n",
    "\n",
    "# continue: 현재 반복을 넘어감\n",
    "for i in range(10):\n",
    "    if i%2==0:\n",
    "        continue\n",
    "    print(i, end=\" \")\n",
    "    time.sleep(0.3)\n",
    "\n",
    "# 반복문 내용 생략하기\n",
    "for i in range(10):\n",
    "    pass\n",
    "\n",
    "\n"
   ]
  },
  {
   "cell_type": "code",
   "execution_count": null,
   "id": "3224bbe5",
   "metadata": {},
   "outputs": [
    {
     "name": "stdout",
     "output_type": "stream",
     "text": [
      "1: 1 2 3 4 5 \n",
      "\n",
      "2: 1 2 3 4 5 \n",
      "\n",
      "3: 1 2 3 4 5 \n",
      "\n",
      "4: 1 2 3 4 5 \n",
      "\n"
     ]
    }
   ],
   "source": [
    "# 중첩 for문 동작 이해하기\n",
    "for i in range(1,5):\n",
    "    print(i, end=\": \")\n",
    "    \n",
    "    for j in range(1,6):\n",
    "        print(j, end=\" \")\n",
    "\n",
    "    print(\"\\n\")"
   ]
  },
  {
   "cell_type": "code",
   "execution_count": 109,
   "id": "72e3ce97",
   "metadata": {},
   "outputs": [
    {
     "name": "stdout",
     "output_type": "stream",
     "text": [
      "1:  1 - 1, 1 - 2, 1 - 3, 1 - 4, 1 - 5, \n",
      "\n",
      "2:  2 - 1, 2 - 2, 2 - 3, 2 - 4, 2 - 5, \n",
      "\n",
      "3:  3 - 1, 3 - 2, 3 - 3, 3 - 4, 3 - 5, \n",
      "\n",
      "4:  4 - 1, 4 - 2, 4 - 3, 4 - 4, 4 - 5, \n",
      "\n"
     ]
    }
   ],
   "source": [
    "# 중첩 for문\n",
    "for i in range(1,5):\n",
    "    print(i, end=\":  \")\n",
    "    \n",
    "    for j in range(1,6):\n",
    "        print(i,\"-\",j, end=\", \")\n",
    "\n",
    "    print(\"\\n\")"
   ]
  },
  {
   "cell_type": "code",
   "execution_count": 9,
   "id": "b97bc2b1",
   "metadata": {},
   "outputs": [
    {
     "name": "stdout",
     "output_type": "stream",
     "text": [
      "[ 2단 ]\n",
      "2 * 1 = 2\n",
      "2 * 2 = 4\n",
      "2 * 3 = 6\n",
      "2 * 4 = 8\n",
      "2 * 5 = 10\n",
      "2 * 6 = 12\n",
      "2 * 7 = 14\n",
      "2 * 8 = 16\n",
      "2 * 9 = 18\n",
      "\n",
      "\n",
      "[ 3단 ]\n",
      "3 * 1 = 3\n",
      "3 * 2 = 6\n",
      "3 * 3 = 9\n",
      "3 * 4 = 12\n",
      "3 * 5 = 15\n",
      "3 * 6 = 18\n",
      "3 * 7 = 21\n",
      "3 * 8 = 24\n",
      "3 * 9 = 27\n",
      "\n",
      "\n",
      "[ 4단 ]\n",
      "4 * 1 = 4\n",
      "4 * 2 = 8\n",
      "4 * 3 = 12\n",
      "4 * 4 = 16\n",
      "4 * 5 = 20\n",
      "4 * 6 = 24\n",
      "4 * 7 = 28\n",
      "4 * 8 = 32\n",
      "4 * 9 = 36\n",
      "\n",
      "\n",
      "[ 5단 ]\n",
      "5 * 1 = 5\n",
      "5 * 2 = 10\n",
      "5 * 3 = 15\n",
      "5 * 4 = 20\n",
      "5 * 5 = 25\n",
      "5 * 6 = 30\n",
      "5 * 7 = 35\n",
      "5 * 8 = 40\n",
      "5 * 9 = 45\n",
      "\n",
      "\n",
      "[ 6단 ]\n",
      "6 * 1 = 6\n",
      "6 * 2 = 12\n",
      "6 * 3 = 18\n",
      "6 * 4 = 24\n",
      "6 * 5 = 30\n",
      "6 * 6 = 36\n",
      "6 * 7 = 42\n",
      "6 * 8 = 48\n",
      "6 * 9 = 54\n",
      "\n",
      "\n",
      "[ 7단 ]\n",
      "7 * 1 = 7\n",
      "7 * 2 = 14\n",
      "7 * 3 = 21\n",
      "7 * 4 = 28\n",
      "7 * 5 = 35\n",
      "7 * 6 = 42\n",
      "7 * 7 = 49\n",
      "7 * 8 = 56\n",
      "7 * 9 = 63\n",
      "\n",
      "\n",
      "[ 8단 ]\n",
      "8 * 1 = 8\n",
      "8 * 2 = 16\n",
      "8 * 3 = 24\n",
      "8 * 4 = 32\n",
      "8 * 5 = 40\n",
      "8 * 6 = 48\n",
      "8 * 7 = 56\n",
      "8 * 8 = 64\n",
      "8 * 9 = 72\n",
      "\n",
      "\n",
      "[ 9단 ]\n",
      "9 * 1 = 9\n",
      "9 * 2 = 18\n",
      "9 * 3 = 27\n",
      "9 * 4 = 36\n",
      "9 * 5 = 45\n",
      "9 * 6 = 54\n",
      "9 * 7 = 63\n",
      "9 * 8 = 72\n",
      "9 * 9 = 81\n",
      "\n",
      "\n"
     ]
    }
   ],
   "source": [
    "# 실습1\n",
    "\n",
    "for i in range(2,10):\n",
    "    print(f\"[ {i}단 ]\")\n",
    "    \n",
    "    for j in range(1,10):\n",
    "        print(f\"{i} * {j} = {i*j}\")\n",
    "\n",
    "    print(\"\\n\")"
   ]
  },
  {
   "cell_type": "code",
   "execution_count": 11,
   "id": "37d3b11e",
   "metadata": {},
   "outputs": [
    {
     "name": "stdout",
     "output_type": "stream",
     "text": [
      "- 중앙정렬 -\n",
      "- 5줄 -\n",
      "-----*\n",
      "----***\n",
      "---*****\n",
      "--*******\n",
      "-*********\n"
     ]
    }
   ],
   "source": [
    "# 실습2 내가 스스로 한 것\n",
    "import time\n",
    "\n",
    "align=input(\"좌측? 중앙? 우측?: \")\n",
    "print(f\"- {align}정렬 -\")\n",
    "\n",
    "tree=int(input(\"몇 줄?: \"))\n",
    "print(f\"- {tree}줄 -\")\n",
    "\n",
    "empty=\"-\"\n",
    "\n",
    "for star in range(tree): #하나의 줄 반복\n",
    "    if align==\"좌측\": #줄 내부의 작업\n",
    "        for i in range(star+1):\n",
    "            print(\"*\", end=\"\")\n",
    "            time.sleep(0.3)\n",
    "        print(\"\")\n",
    "\n",
    "    elif align==\"우측\":\n",
    "        print(empty*(tree-star),end=\"\")\n",
    "        for i in range(star+1):\n",
    "            print(\"*\", end=\"\")\n",
    "            time.sleep(0.3)\n",
    "        print(\"\")\n",
    "    \n",
    "\n",
    "    # 중앙정렬은 로직이 제대로 이해되지 않아 chat gpt의 도움을 약간 받았습니다\n",
    "    elif align==\"중앙\":\n",
    "        print(empty*(tree-star),end=\"\") #줄이 뒤로 갈수록 공백은 하나씩 감소\n",
    "        for i in range(2*star+1): #줄 번호가 오를수록 별은 2개씩증가\n",
    "            print(\"*\",end=\"\")\n",
    "            time.sleep(0.3)\n",
    "        print()\n",
    "\n",
    "    else:\n",
    "        print(\"정상적이지 않은 입력으로 프로그램을 종료합니다.\")\n",
    "    \n",
    "\n"
   ]
  },
  {
   "cell_type": "code",
   "execution_count": 218,
   "id": "6ffd04dd",
   "metadata": {},
   "outputs": [
    {
     "name": "stdout",
     "output_type": "stream",
     "text": [
      "좌측정렬\n",
      "- 4줄 -\n",
      "*\n",
      "**\n",
      "***\n",
      "****\n"
     ]
    }
   ],
   "source": [
    "# 실습2 교사의 가이드를 보고 따라한 것\n",
    "\n",
    "print(\"좌측정렬\")\n",
    "n=int(input(\"몇 줄? : \"))\n",
    "print(f\"- {n}줄 -\")\n",
    "\n",
    "for i in range(1,n+1): #1부터 n까지\n",
    "    for j in range(i):\n",
    "        print(\"*\",end=\"\")\n",
    "    print()\n"
   ]
  },
  {
   "cell_type": "code",
   "execution_count": null,
   "id": "1b564a89",
   "metadata": {},
   "outputs": [
    {
     "name": "stdout",
     "output_type": "stream",
     "text": [
      "우측 정렬\n",
      "- 5줄 -\n",
      "    *\n",
      "   **\n",
      "  ***\n",
      " ****\n",
      "*****\n"
     ]
    }
   ],
   "source": [
    "# 실습2 교사의 가이드를 보고 따라한 것\n",
    "\n",
    "print(\"우측 정렬\")\n",
    "\n",
    "n=int(input(\"몇 줄? : \"))\n",
    "print(f\"- {n}줄 -\")\n",
    "\n",
    "for i in range(1,n+1):\n",
    "    for j in range(n-i):\n",
    "        print(\" \",end=\"\")\n",
    "    for j in range(i):\n",
    "        print(\"*\", end=\"\")\n",
    "    print()\n",
    "\n",
    "# 공백의 개수는 전체 줄 수 - 별의 개수를 활용"
   ]
  },
  {
   "cell_type": "code",
   "execution_count": 10,
   "id": "b4a61edf",
   "metadata": {},
   "outputs": [
    {
     "name": "stdout",
     "output_type": "stream",
     "text": [
      "중앙 정렬\n",
      "- 5줄 -\n",
      "    *\n",
      "    ***\n",
      "    *****\n",
      "    *******\n",
      "    *********\n"
     ]
    }
   ],
   "source": [
    "# 실습3 가운데정렬\n",
    "print(\"중앙 정렬\")\n",
    "\n",
    "n=int(input(\"몇 줄? : \"))\n",
    "print(f\"- {n}줄 -\")\n",
    "\n",
    "for i in range(1,n+1): \n",
    "\n",
    "    for j in range(n-1):\n",
    "        print(\" \", end=\"\")\n",
    "    for j in range(2*i-1):\n",
    "        print(\"*\", end=\"\")\n",
    "    print()\n",
    "\n",
    "    # 중앙 값 - 공백의 값이 \n"
   ]
  },
  {
   "cell_type": "code",
   "execution_count": 11,
   "id": "85d84fdf",
   "metadata": {},
   "outputs": [
    {
     "name": "stdout",
     "output_type": "stream",
     "text": [
      "    *\n",
      "   ***\n",
      "  *****\n",
      " *******\n",
      "*********\n",
      "    *\n",
      "   ***\n",
      "  *****\n",
      " *******\n",
      "*********\n"
     ]
    }
   ],
   "source": [
    "n = int(input(\"asdfa: \"))\n",
    "for i in range(1, n + 1):\n",
    "    for j in range(n - i):\n",
    "        print(\" \", end=\"\")          # 줄마다 공백 수를 조정\n",
    "    for j in range(2 * i - 1):\n",
    "        print(\"*\", end=\"\")\n",
    "    print()\n",
    "\n",
    "n=int(input(\"asdfa: \"))\n",
    "for i in range(1, n + 1):\n",
    "    for j in range(n - i):\n",
    "        print(\" \",end=\"\")\n",
    "    for j in range(2 * i - 1):\n",
    "        print(\"*\",end=\"\")\n",
    "    print()"
   ]
  },
  {
   "cell_type": "markdown",
   "id": "32053a86",
   "metadata": {},
   "source": [
    "# 아주 중요한 리스트 컴프리헨션\n"
   ]
  },
  {
   "cell_type": "code",
   "execution_count": 245,
   "id": "df9d4949",
   "metadata": {},
   "outputs": [
    {
     "name": "stdout",
     "output_type": "stream",
     "text": [
      "[1, 4, 9, 16]\n",
      "[4, 16, 36, 64, 100]\n",
      "[5, 6]\n"
     ]
    }
   ],
   "source": [
    "# 리스트 컴프리헨션 Comprehension\n",
    "# 표현식(리스트의 원소) for 변수 in 반복대상 if 조건\n",
    "# 표현식: 값을 유도하는 식\n",
    "# 간단한 반복문을 한 줄로 처리할 수 있을때 사용\n",
    "\n",
    "# 기존의 for문 방식\n",
    "squares=[]\n",
    "for x in range(1,5):\n",
    "    squares.append(x**2)\n",
    "print(squares)\n",
    "\n",
    "squares=[x ** 2 for x in range(1,11) if x%2==0]\n",
    "print(squares) # 2의 배수로만 만든 제곱수\n",
    "\n",
    "words=[\"apple\",\"banana\"]\n",
    "lengths=[len(words) for words in words]\n",
    "print(lengths)"
   ]
  },
  {
   "cell_type": "code",
   "execution_count": 16,
   "id": "cb69cb9d",
   "metadata": {},
   "outputs": [
    {
     "name": "stdout",
     "output_type": "stream",
     "text": [
      "[4, 6, 8, 10, 12]\n",
      "[4, 6, 8, 10, 12]\n"
     ]
    }
   ],
   "source": [
    "numbers=[2,3,4,5,6]\n",
    "doubled=[]\n",
    "for i in numbers:\n",
    "    doubled.append(i*2)\n",
    "print(doubled)\n",
    "\n",
    "numbers=[2,3,4,5,6]\n",
    "doubled=[x*2 for x in numbers]\n",
    "print(doubled)"
   ]
  },
  {
   "cell_type": "code",
   "execution_count": 249,
   "id": "57da7470",
   "metadata": {},
   "outputs": [
    {
     "data": {
      "text/plain": [
       "[('사과', 'red'), ('사과', 'blue'), ('수박', 'red'), ('수박', 'blue')]"
      ]
     },
     "execution_count": 249,
     "metadata": {},
     "output_type": "execute_result"
    }
   ],
   "source": [
    "colors=[\"사과\",\"수박\"]\n",
    "fruits=[\"red\",\"blue\"]\n",
    "\n",
    "pairs=[(color,fruit) for color in colors for fruit in fruits]\n",
    "pairs"
   ]
  },
  {
   "cell_type": "code",
   "execution_count": null,
   "id": "b7663538",
   "metadata": {},
   "outputs": [
    {
     "name": "stdout",
     "output_type": "stream",
     "text": [
      "[1, 4, 9, 16, 25, 36, 49, 64, 81, 100]\n",
      "[3, 6, 9, 12, 15, 18, 21, 24, 27, 30, 33, 36, 39, 42, 45, 48]\n",
      "['apple', 'banana', 'cherry', 'orange']\n"
     ]
    }
   ],
   "source": [
    "# 1부터 10까지 각 수의 제곱 리스트 생성\n",
    "nums=[x ** 2 for x in range(1,11)]\n",
    "print(nums) \n",
    "# 1부터 50 중 3의 배수만 출력하기\n",
    "nums=[x for x in range(1,51) if x%3==0]\n",
    "print(nums)\n",
    "# 글자의 수가 5 이상인 단어만 출력\n",
    "fruits=[\"apple\",\"fig\",\"banana\",\"plum\",\"cherry\",\"pear\",\"orange\"]\n",
    "words=[x for x in fruits if len(x)>=5]\n",
    "print(words)"
   ]
  },
  {
   "cell_type": "code",
   "execution_count": 12,
   "id": "b82d6038",
   "metadata": {},
   "outputs": [
    {
     "name": "stdout",
     "output_type": "stream",
     "text": [
      "반복이\n",
      "삼식이\n",
      "만득이\n"
     ]
    }
   ],
   "source": [
    "for 반복변수 in [\"반복이\",\"삼식이\",\"만득이\"]:\n",
    "    print(반복변수)"
   ]
  },
  {
   "cell_type": "code",
   "execution_count": 13,
   "id": "124ef332",
   "metadata": {},
   "outputs": [
    {
     "name": "stdout",
     "output_type": "stream",
     "text": [
      "0\n",
      "1\n",
      "2\n"
     ]
    }
   ],
   "source": [
    "for i in range(3):\n",
    "    print(i)"
   ]
  },
  {
   "cell_type": "code",
   "execution_count": null,
   "id": "3fecdf25",
   "metadata": {},
   "outputs": [],
   "source": []
  }
 ],
 "metadata": {
  "kernelspec": {
   "display_name": ".venv",
   "language": "python",
   "name": "python3"
  },
  "language_info": {
   "codemirror_mode": {
    "name": "ipython",
    "version": 3
   },
   "file_extension": ".py",
   "mimetype": "text/x-python",
   "name": "python",
   "nbconvert_exporter": "python",
   "pygments_lexer": "ipython3",
   "version": "3.13.5"
  }
 },
 "nbformat": 4,
 "nbformat_minor": 5
}
