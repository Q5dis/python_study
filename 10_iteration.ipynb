{
 "cells": [
  {
   "cell_type": "markdown",
   "id": "f8d8ce48",
   "metadata": {},
   "source": [
    "# 반복문\n",
    "\n",
    "- for문: 이터러블의 요소를 하나씩 꺼내 실행하는 반복문\n"
   ]
  },
  {
   "cell_type": "code",
   "execution_count": null,
   "id": "81c310e5",
   "metadata": {},
   "outputs": [
    {
     "name": "stdout",
     "output_type": "stream",
     "text": [
      "hello hello hello "
     ]
    }
   ],
   "source": [
    "for i in range(3):\n",
    "    print(\"hello\",end=\" \")\n",
    "\n",
    "# i: 이 자리에는 반복변수\n",
    "# range(3): 이 자리에는 이터러블\n",
    "# print ... : 이 자리에는 반복될 코드"
   ]
  },
  {
   "cell_type": "code",
   "execution_count": 7,
   "id": "cbc7bb3d",
   "metadata": {},
   "outputs": [
    {
     "name": "stdout",
     "output_type": "stream",
     "text": [
      "가\n",
      "나\n",
      "다\n",
      "라\n"
     ]
    }
   ],
   "source": [
    "import time\n",
    "for 반복변수 in [\"가\",\"나\",\"다\",\"라\"]:\n",
    "    print(반복변수)\n",
    "    time.sleep(0.4)\n",
    "\n",
    "# 이터러블 요소들이 반복변수에 담기며 출력?\n",
    "\n"
   ]
  },
  {
   "cell_type": "code",
   "execution_count": null,
   "id": "835187a7",
   "metadata": {},
   "outputs": [
    {
     "name": "stdout",
     "output_type": "stream",
     "text": [
      "사과\n",
      "배\n",
      "용과\n",
      "귤\n",
      "1 2\n",
      "3 4\n"
     ]
    }
   ],
   "source": [
    "fruits=[\"사과\",\"배\",\"용과\",\"귤\"]\n",
    "\n",
    "for fruit in fruits:\n",
    "    print(fruit)\n",
    "    time.sleep(0.4)\n",
    "\n",
    "# for문을 사용한 언패킹 사례\n",
    "좌표=[(1,2),(3,4)]\n",
    "for x,y in 좌표:\n",
    "    print(x,y)"
   ]
  },
  {
   "cell_type": "code",
   "execution_count": null,
   "id": "b85655c3",
   "metadata": {},
   "outputs": [],
   "source": []
  }
 ],
 "metadata": {
  "kernelspec": {
   "display_name": ".venv",
   "language": "python",
   "name": "python3"
  },
  "language_info": {
   "codemirror_mode": {
    "name": "ipython",
    "version": 3
   },
   "file_extension": ".py",
   "mimetype": "text/x-python",
   "name": "python",
   "nbconvert_exporter": "python",
   "pygments_lexer": "ipython3",
   "version": "3.13.5"
  }
 },
 "nbformat": 4,
 "nbformat_minor": 5
}
